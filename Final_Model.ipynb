{
 "cells": [
  {
   "cell_type": "markdown",
   "metadata": {
    "slideshow": {
     "slide_type": "slide"
    }
   },
   "source": [
    "![Zillow-Logo](https://wp.zillowstatic.com/8/ZPA-horizontal-2ac5b0-300x71.png)  \n",
    "\n",
    "# <div align=\"center\">Predicting Log Error of the Zestimate®</div>"
   ]
  },
  {
   "cell_type": "markdown",
   "metadata": {
    "slideshow": {
     "slide_type": "subslide"
    }
   },
   "source": [
    "### Author: \n",
    "Bethany Thompson, Jr. Data Scientist  \n",
    "thompson.bethany.01@gmail.com\n",
    "### Date:\n",
    "October 21st, 2020\n",
    "### Project Goals:\n",
    "Create insight for the current Zillow Zestimate model by predicting the model's log error.\n",
    "### Conclusions:"
   ]
  },
  {
   "cell_type": "markdown",
   "metadata": {
    "slideshow": {
     "slide_type": "subslide"
    }
   },
   "source": [
    "## Table of Contents:\n",
    " [Acquire](#first-bullet)  - Use acquire module to assign the data to a variable  \n",
    "\n",
    " [Prepare](#second-bullet) - Use prepare module to clean the data  \n",
    "\n",
    " [Explore](#third-bullet)  - Highlight key takeaways from explore  \n",
    "\n",
    " [Modeling](#fourth-bullet) - Creating 4 models to predict log error and determining the best performing one  \n",
    "\n",
    " [Conclusions](#fifth-bullet) - Reasons for log error, best model to predict log error"
   ]
  },
  {
   "cell_type": "markdown",
   "metadata": {
    "slideshow": {
     "slide_type": "slide"
    }
   },
   "source": [
    "# Acquire <a class=\"anchor\" id=\"first-bullet\"></a>  \n",
    "- If you would like to see the data before prep, run this code\n",
    "- However, this function is also within the Prepare.py module\n",
    "    - calling the Prepare.prepare_zillow() function will use Acquire to obtain the data and prep in one function\n",
    "- The query in Acquire joins the predictions_2017 and properties_2017 tables, and selects only single-unit properties"
   ]
  },
  {
   "cell_type": "code",
   "execution_count": 1,
   "metadata": {
    "slideshow": {
     "slide_type": "fragment"
    }
   },
   "outputs": [],
   "source": [
    "# Acquire.py holds functions to connect to sql database, and return a df with data selected with query\n",
    "import Acquire"
   ]
  },
  {
   "cell_type": "code",
   "execution_count": 2,
   "metadata": {
    "slideshow": {
     "slide_type": "fragment"
    }
   },
   "outputs": [],
   "source": [
    "raw_df = Acquire.get_home_data()"
   ]
  },
  {
   "cell_type": "markdown",
   "metadata": {
    "slideshow": {
     "slide_type": "subslide"
    }
   },
   "source": [
    "### The original data has 61 columns and 70,364 rows. There is also more that 50% of nulls in many columns."
   ]
  },
  {
   "cell_type": "code",
   "execution_count": 3,
   "metadata": {
    "slideshow": {
     "slide_type": "fragment"
    }
   },
   "outputs": [
    {
     "data": {
      "text/plain": [
       "(70364, 61)"
      ]
     },
     "execution_count": 3,
     "metadata": {},
     "output_type": "execute_result"
    }
   ],
   "source": [
    "raw_df.shape"
   ]
  },
  {
   "cell_type": "code",
   "execution_count": 4,
   "metadata": {
    "slideshow": {
     "slide_type": "fragment"
    }
   },
   "outputs": [
    {
     "data": {
      "text/plain": [
       "id                              0\n",
       "parcelid                        0\n",
       "airconditioningtypeid       50658\n",
       "architecturalstyletypeid    70213\n",
       "basementsqft                70320\n",
       "                            ...  \n",
       "taxdelinquencyflag          69043\n",
       "taxdelinquencyyear          69043\n",
       "censustractandblock          1590\n",
       "logerror                        0\n",
       "transactiondate                 0\n",
       "Length: 61, dtype: int64"
      ]
     },
     "execution_count": 4,
     "metadata": {},
     "output_type": "execute_result"
    }
   ],
   "source": [
    "raw_df.isnull().sum()"
   ]
  },
  {
   "cell_type": "code",
   "execution_count": 60,
   "metadata": {
    "slideshow": {
     "slide_type": "subslide"
    }
   },
   "outputs": [
    {
     "name": "stdout",
     "output_type": "stream",
     "text": [
      "Max tax amount: 1824154.85\n"
     ]
    },
    {
     "data": {
      "image/png": "[encoded data removed]",
      "text/plain": [
       "<Figure size 792x432 with 1 Axes>"
      ]
     },
     "metadata": {
      "needs_background": "light"
     },
     "output_type": "display_data"
    }
   ],
   "source": [
    "# An Example of One Feature Before Removing Outliers\n",
    "\n",
    "# Plotting histogram of Tax Amount\n",
    "plt.figure(figsize=(11,6))\n",
    "sns.histplot(raw_df.taxamount)\n",
    "plt.title('Distribution of Tax Amount')\n",
    "\n",
    "# Checking the maximum value of the feature\n",
    "print('Max tax amount:', raw_df.taxamount.max())"
   ]
  },
  {
   "cell_type": "markdown",
   "metadata": {
    "slideshow": {
     "slide_type": "subslide"
    }
   },
   "source": [
    "# Acquire Takeaways\n",
    "- large amount of nulls\n",
    "- outliers present\n",
    "- new features can be created\n",
    "- columns need to be renamed, rearranged"
   ]
  },
  {
   "cell_type": "markdown",
   "metadata": {
    "slideshow": {
     "slide_type": "skip"
    }
   },
   "source": [
    "#### Jump To: \n",
    "[Acquire](#first-bullet),  [Prepare](#second-bullet),  [Explore](#third-bullet),  [Modeling](#fourth-bullet),  [Conclusions](#fifth-bullet)  "
   ]
  },
  {
   "cell_type": "markdown",
   "metadata": {
    "slideshow": {
     "slide_type": "slide"
    }
   },
   "source": [
    "# Prepare <a class=\"anchor\" id=\"second-bullet\"></a>  \n",
    "\n",
    "Within the prepare function:  \n",
    "- columns and rows with more than %25 of nulls are removed\n",
    "- uneccessary columns are removed (such as multiple sqft)\n",
    "- outliers in continuous variables are removed\n",
    "- leftover nulls are filled with mean or mode\n",
    "- features for property age and transaction month are created\n",
    "- columns are renamed and rearranged"
   ]
  },
  {
   "cell_type": "markdown",
   "metadata": {
    "slideshow": {
     "slide_type": "fragment"
    }
   },
   "source": [
    "### Prepare.py also splits the data into train, validate, test\n",
    "70% Train, 20% Validate, 10% Test"
   ]
  },
  {
   "cell_type": "code",
   "execution_count": 5,
   "metadata": {
    "slideshow": {
     "slide_type": "subslide"
    }
   },
   "outputs": [],
   "source": [
    "# Prepare.py holds the function to obtain the data, prep the data, and split into train, validate, test\n",
    "import Prepare"
   ]
  },
  {
   "cell_type": "code",
   "execution_count": 6,
   "metadata": {
    "slideshow": {
     "slide_type": "fragment"
    }
   },
   "outputs": [
    {
     "name": "stdout",
     "output_type": "stream",
     "text": [
      "train shape:  (44284, 25) , validate shape:  (12491, 25) , test shape:  (6309, 25)\n",
      "\n",
      "train percent:  70.0 , validate percent:  20.0 , test percent:  10.0\n"
     ]
    }
   ],
   "source": [
    "# prepare_zillow function acquires the raw data, cleans, and splits the df, returning train, validate, split\n",
    "train, validate, test = Prepare.prepare_zillow()"
   ]
  },
  {
   "cell_type": "code",
   "execution_count": 67,
   "metadata": {
    "slideshow": {
     "slide_type": "subslide"
    }
   },
   "outputs": [
    {
     "data": {
      "text/html": [
       "<div>\n",
       "<style scoped>\n",
       "    .dataframe tbody tr th:only-of-type {\n",
       "        vertical-align: middle;\n",
       "    }\n",
       "\n",
       "    .dataframe tbody tr th {\n",
       "        vertical-align: top;\n",
       "    }\n",
       "\n",
       "    .dataframe thead th {\n",
       "        text-align: right;\n",
       "    }\n",
       "</style>\n",
       "<table border=\"1\" class=\"dataframe\">\n",
       "  <thead>\n",
       "    <tr style=\"text-align: right;\">\n",
       "      <th></th>\n",
       "      <th>35177</th>\n",
       "    </tr>\n",
       "  </thead>\n",
       "  <tbody>\n",
       "    <tr>\n",
       "      <th>index_id</th>\n",
       "      <td>39113</td>\n",
       "    </tr>\n",
       "    <tr>\n",
       "      <th>parcel_id</th>\n",
       "      <td>12881510</td>\n",
       "    </tr>\n",
       "    <tr>\n",
       "      <th>log_error</th>\n",
       "      <td>-0.080165</td>\n",
       "    </tr>\n",
       "    <tr>\n",
       "      <th>tax_value</th>\n",
       "      <td>114424</td>\n",
       "    </tr>\n",
       "    <tr>\n",
       "      <th>structure_tax_value</th>\n",
       "      <td>52011</td>\n",
       "    </tr>\n",
       "    <tr>\n",
       "      <th>land_tax_value</th>\n",
       "      <td>62413</td>\n",
       "    </tr>\n",
       "    <tr>\n",
       "      <th>tax_amount</th>\n",
       "      <td>1624.52</td>\n",
       "    </tr>\n",
       "    <tr>\n",
       "      <th>county_id</th>\n",
       "      <td>6037</td>\n",
       "    </tr>\n",
       "    <tr>\n",
       "      <th>zip_code</th>\n",
       "      <td>96507</td>\n",
       "    </tr>\n",
       "    <tr>\n",
       "      <th>latitude</th>\n",
       "      <td>3.40614e+07</td>\n",
       "    </tr>\n",
       "    <tr>\n",
       "      <th>longitude</th>\n",
       "      <td>-1.17745e+08</td>\n",
       "    </tr>\n",
       "    <tr>\n",
       "      <th>census_id</th>\n",
       "      <td>6.03741e+13</td>\n",
       "    </tr>\n",
       "    <tr>\n",
       "      <th>bathrooms</th>\n",
       "      <td>1</td>\n",
       "    </tr>\n",
       "    <tr>\n",
       "      <th>bedrooms</th>\n",
       "      <td>3</td>\n",
       "    </tr>\n",
       "    <tr>\n",
       "      <th>full_bathrooms</th>\n",
       "      <td>1</td>\n",
       "    </tr>\n",
       "    <tr>\n",
       "      <th>bed_plus_bath</th>\n",
       "      <td>4</td>\n",
       "    </tr>\n",
       "    <tr>\n",
       "      <th>room_count</th>\n",
       "      <td>0</td>\n",
       "    </tr>\n",
       "    <tr>\n",
       "      <th>property_sqft</th>\n",
       "      <td>1198</td>\n",
       "    </tr>\n",
       "    <tr>\n",
       "      <th>lot_sqft</th>\n",
       "      <td>4384</td>\n",
       "    </tr>\n",
       "    <tr>\n",
       "      <th>land_use_code</th>\n",
       "      <td>0100</td>\n",
       "    </tr>\n",
       "    <tr>\n",
       "      <th>land_use_type</th>\n",
       "      <td>261</td>\n",
       "    </tr>\n",
       "    <tr>\n",
       "      <th>year_built</th>\n",
       "      <td>1920</td>\n",
       "    </tr>\n",
       "    <tr>\n",
       "      <th>property_age</th>\n",
       "      <td>100</td>\n",
       "    </tr>\n",
       "    <tr>\n",
       "      <th>transaction_date</th>\n",
       "      <td>2017-05-23</td>\n",
       "    </tr>\n",
       "    <tr>\n",
       "      <th>transaction_month</th>\n",
       "      <td>05</td>\n",
       "    </tr>\n",
       "  </tbody>\n",
       "</table>\n",
       "</div>"
      ],
      "text/plain": [
       "                           35177\n",
       "index_id                   39113\n",
       "parcel_id               12881510\n",
       "log_error              -0.080165\n",
       "tax_value                 114424\n",
       "structure_tax_value        52011\n",
       "land_tax_value             62413\n",
       "tax_amount               1624.52\n",
       "county_id                   6037\n",
       "zip_code                   96507\n",
       "latitude             3.40614e+07\n",
       "longitude           -1.17745e+08\n",
       "census_id            6.03741e+13\n",
       "bathrooms                      1\n",
       "bedrooms                       3\n",
       "full_bathrooms                 1\n",
       "bed_plus_bath                  4\n",
       "room_count                     0\n",
       "property_sqft               1198\n",
       "lot_sqft                    4384\n",
       "land_use_code               0100\n",
       "land_use_type                261\n",
       "year_built                  1920\n",
       "property_age                 100\n",
       "transaction_date      2017-05-23\n",
       "transaction_month             05"
      ]
     },
     "execution_count": 67,
     "metadata": {},
     "output_type": "execute_result"
    }
   ],
   "source": [
    "train.head(1).T"
   ]
  },
  {
   "cell_type": "markdown",
   "metadata": {
    "slideshow": {
     "slide_type": "subslide"
    }
   },
   "source": [
    "### No nulls are left after using the prepare function"
   ]
  },
  {
   "cell_type": "code",
   "execution_count": 7,
   "metadata": {
    "slideshow": {
     "slide_type": "fragment"
    }
   },
   "outputs": [
    {
     "data": {
      "text/plain": [
       "index_id               0\n",
       "parcel_id              0\n",
       "log_error              0\n",
       "tax_value              0\n",
       "structure_tax_value    0\n",
       "land_tax_value         0\n",
       "tax_amount             0\n",
       "county_id              0\n",
       "zip_code               0\n",
       "latitude               0\n",
       "longitude              0\n",
       "census_id              0\n",
       "bathrooms              0\n",
       "bedrooms               0\n",
       "full_bathrooms         0\n",
       "bed_plus_bath          0\n",
       "room_count             0\n",
       "property_sqft          0\n",
       "lot_sqft               0\n",
       "land_use_code          0\n",
       "land_use_type          0\n",
       "year_built             0\n",
       "property_age           0\n",
       "transaction_date       0\n",
       "transaction_month      0\n",
       "dtype: int64"
      ]
     },
     "execution_count": 7,
     "metadata": {},
     "output_type": "execute_result"
    }
   ],
   "source": [
    "train.isnull().sum()"
   ]
  },
  {
   "cell_type": "code",
   "execution_count": 61,
   "metadata": {
    "slideshow": {
     "slide_type": "subslide"
    }
   },
   "outputs": [
    {
     "name": "stdout",
     "output_type": "stream",
     "text": [
      "Max tax amount of train: 342940.38\n"
     ]
    },
    {
     "data": {
      "image/png": "[encoded data removed]",
      "text/plain": [
       "<Figure size 792x432 with 1 Axes>"
      ]
     },
     "metadata": {
      "needs_background": "light"
     },
     "output_type": "display_data"
    }
   ],
   "source": [
    "# Same Feature from Acquire Plotted - After Prep and Split into Train\n",
    "\n",
    "# Plotting train Tax Amount\n",
    "plt.figure(figsize=(11,6))\n",
    "sns.histplot(train.tax_amount)\n",
    "plt.title('Distribution of Tax Amount of Train DF')\n",
    "\n",
    "# Checking the maximum value of the feature\n",
    "print('Max tax amount of train:', train.tax_amount.max())"
   ]
  },
  {
   "cell_type": "markdown",
   "metadata": {
    "slideshow": {
     "slide_type": "subslide"
    }
   },
   "source": [
    "# Prepare Takeaways\n",
    "- Data has been cleaned as specified in Acquire\n",
    "- Data is split, but not scaled so we can explore\n",
    "- X and y dataframes have not been seperated yet\n",
    "- Will need to be scaled before creating clusters and modeling"
   ]
  },
  {
   "cell_type": "markdown",
   "metadata": {
    "slideshow": {
     "slide_type": "skip"
    }
   },
   "source": [
    "#### Jump To: \n",
    "[Acquire](#first-bullet),  [Prepare](#second-bullet),  [Explore](#third-bullet),  [Modeling](#fourth-bullet),  [Conclusions](#fifth-bullet)  "
   ]
  },
  {
   "cell_type": "markdown",
   "metadata": {
    "slideshow": {
     "slide_type": "slide"
    }
   },
   "source": [
    "# Explore <a class=\"anchor\" id=\"third-bullet\"></a>"
   ]
  },
  {
   "cell_type": "code",
   "execution_count": 10,
   "metadata": {
    "slideshow": {
     "slide_type": "skip"
    }
   },
   "outputs": [],
   "source": [
    "import pandas as pd\n",
    "import numpy as np\n",
    "import matplotlib.pyplot as plt\n",
    "import seaborn as sns"
   ]
  },
  {
   "cell_type": "markdown",
   "metadata": {
    "slideshow": {
     "slide_type": "subslide"
    }
   },
   "source": [
    "## Visualizing Independent Feature vs. Log Error in Tableau\n",
    "Link: https://public.tableau.com/profile/thompson.bethany.01#!/vizhome/Zillow_X_vs_y/Features?publish=yes"
   ]
  },
  {
   "cell_type": "code",
   "execution_count": null,
   "metadata": {
    "slideshow": {
     "slide_type": "fragment"
    }
   },
   "outputs": [],
   "source": [
    "# to use split data while exploring in Tableau\n",
    "# train.to_csv('zillow_train.csv')"
   ]
  },
  {
   "cell_type": "code",
   "execution_count": 66,
   "metadata": {
    "scrolled": true,
    "slideshow": {
     "slide_type": "skip"
    }
   },
   "outputs": [
    {
     "data": {
      "text/html": [
       "<div class='tableauPlaceholder' id='viz1603207871694' style='position: relative'><noscript><a href='#'><img alt=' ' src='https:&#47;&#47;public.tableau.com&#47;static&#47;images&#47;Zi&#47;Zillow_X_vs_y&#47;Features&#47;1_rss.png' style='border: none' /></a></noscript><object class='tableauViz'  style='display:none;'><param name='host_url' value='https%3A%2F%2Fpublic.tableau.com%2F' /> <param name='embed_code_version' value='3' /> <param name='site_root' value='' /><param name='name' value='Zillow_X_vs_y&#47;Features' /><param name='tabs' value='no' /><param name='toolbar' value='yes' /><param name='static_image' value='https:&#47;&#47;public.tableau.com&#47;static&#47;images&#47;Zi&#47;Zillow_X_vs_y&#47;Features&#47;1.png' /> <param name='animate_transition' value='yes' /><param name='display_static_image' value='yes' /><param name='display_spinner' value='yes' /><param name='display_overlay' value='yes' /><param name='display_count' value='yes' /><param name='language' value='en' /><param name='filter' value='publish=yes' /></object></div>                <script type='text/javascript'>                    var divElement = document.getElementById('viz1603207871694');                    var vizElement = divElement.getElementsByTagName('object')[0];                    vizElement.style.width='1016px';vizElement.style.height='991px';                    var scriptElement = document.createElement('script');                    scriptElement.src = 'https://public.tableau.com/javascripts/api/viz_v1.js';                    vizElement.parentNode.insertBefore(scriptElement, vizElement);                </script>\n"
      ],
      "text/plain": [
       "<IPython.core.display.HTML object>"
      ]
     },
     "metadata": {},
     "output_type": "display_data"
    }
   ],
   "source": [
    "# embeded link to Tableau Workbook, appears in Jupyter notebook but not in github\n",
    "# link to same workbook above\n",
    "\n",
    "%%HTML\n",
    "<div class='tableauPlaceholder' id='viz1603207871694' style='position: relative'><noscript><a href='#'><img alt=' ' src='https:&#47;&#47;public.tableau.com&#47;static&#47;images&#47;Zi&#47;Zillow_X_vs_y&#47;Features&#47;1_rss.png' style='border: none' /></a></noscript><object class='tableauViz'  style='display:none;'><param name='host_url' value='https%3A%2F%2Fpublic.tableau.com%2F' /> <param name='embed_code_version' value='3' /> <param name='site_root' value='' /><param name='name' value='Zillow_X_vs_y&#47;Features' /><param name='tabs' value='no' /><param name='toolbar' value='yes' /><param name='static_image' value='https:&#47;&#47;public.tableau.com&#47;static&#47;images&#47;Zi&#47;Zillow_X_vs_y&#47;Features&#47;1.png' /> <param name='animate_transition' value='yes' /><param name='display_static_image' value='yes' /><param name='display_spinner' value='yes' /><param name='display_overlay' value='yes' /><param name='display_count' value='yes' /><param name='language' value='en' /><param name='filter' value='publish=yes' /></object></div>                <script type='text/javascript'>                    var divElement = document.getElementById('viz1603207871694');                    var vizElement = divElement.getElementsByTagName('object')[0];                    vizElement.style.width='1016px';vizElement.style.height='991px';                    var scriptElement = document.createElement('script');                    scriptElement.src = 'https://public.tableau.com/javascripts/api/viz_v1.js';                    vizElement.parentNode.insertBefore(scriptElement, vizElement);                </script>"
   ]
  },
  {
   "cell_type": "markdown",
   "metadata": {
    "slideshow": {
     "slide_type": "subslide"
    }
   },
   "source": [
    "### Testing Transaction Month With Hypothesis Testing\n",
    "#### One-Sample, One-Tailed T-test \n",
    "Test transaction month 5 (May) against the population  \n",
    "$H_O$: There is no significant difference between log error in May and all months.  \n",
    "$H_A$: Log Error in May is significantly lower than log error in all months."
   ]
  },
  {
   "cell_type": "code",
   "execution_count": 82,
   "metadata": {
    "slideshow": {
     "slide_type": "skip"
    }
   },
   "outputs": [],
   "source": [
    "# import One-sample, t-test\n",
    "from scipy.stats import ttest_1samp\n",
    "\n",
    "# Transactions in 05 - May\n",
    "May_train = train[train.transaction_month == '05']\n",
    "\n",
    "# Population Average\n",
    "pop_mean = train.log_error.mean()"
   ]
  },
  {
   "cell_type": "code",
   "execution_count": null,
   "metadata": {
    "slideshow": {
     "slide_type": "skip"
    }
   },
   "outputs": [],
   "source": [
    "from math import sqrt\n",
    "from scipy import stats\n",
    "\n",
    "# standard error = sample stddev / sample size\n",
    "std_error = May_train.log_error.std() / May_train.shape[0]\n",
    "\n",
    "# t-score = sample mean - population mean / standard error\n",
    "t = (May_train.log_error.mean() - train.log_error.mean()) / std_error\n",
    "\n",
    "# degree of freedom = sample size minus 1\n",
    "degf = May_train.shape[0] - 1\n",
    "\n",
    "# p-value of t-score\n",
    "p = stats.t(degf).sf(t)"
   ]
  },
  {
   "cell_type": "code",
   "execution_count": 141,
   "metadata": {
    "scrolled": true,
    "slideshow": {
     "slide_type": "fragment"
    }
   },
   "outputs": [
    {
     "name": "stdout",
     "output_type": "stream",
     "text": [
      "Transaction Month One-Sample, One-Tailed T-Test\n",
      "t-score:     -180.79725640383003\n",
      "p-value:      0.7297745747377572\n",
      "Fail to reject null hypothesis.\n"
     ]
    }
   ],
   "source": [
    "print('Transaction Month One-Sample, One-Tailed T-Test')\n",
    "print('t-score:    ',t_score)\n",
    "print('p-value:     ',p)\n",
    "print('Fail to reject null hypothesis.')"
   ]
  },
  {
   "cell_type": "markdown",
   "metadata": {
    "slideshow": {
     "slide_type": "subslide"
    }
   },
   "source": [
    "### Year Built with Hypothesis Testing\n",
    "#### Correlation Test\n",
    "Testing correlation of year built with all observations and then only high observations (1946 - 1990)  \n",
    "$H_O$: There is no linear correlation between year built and log error.  \n",
    "$H_A$: There is a linear correlation between year built and log error."
   ]
  },
  {
   "cell_type": "code",
   "execution_count": 142,
   "metadata": {
    "slideshow": {
     "slide_type": "skip"
    }
   },
   "outputs": [],
   "source": [
    "# import correlation test\n",
    "from scipy.stats import pearsonr\n",
    "\n",
    "# p-value must be lower than alpha to reject null hypothesis\n",
    "alpha = .05\n",
    "\n",
    "r, p = stats.pearsonr(train.year_built, train.log_error)"
   ]
  },
  {
   "cell_type": "code",
   "execution_count": 143,
   "metadata": {
    "slideshow": {
     "slide_type": "fragment"
    }
   },
   "outputs": [
    {
     "name": "stdout",
     "output_type": "stream",
     "text": [
      "Correlation Test on All Year Built\n",
      "     p-value: 0.45061\n",
      "     r-value: -0.00359\n",
      "Fail to reject null hypothesis.\n",
      "Low r suggests might have non-linear correlation.\n",
      "\n",
      "\n"
     ]
    }
   ],
   "source": [
    "print('Correlation Test on All Year Built')\n",
    "print('     p-value:',round(p,5))\n",
    "print('     r-value:',round(r,5))\n",
    "print('Fail to reject null hypothesis.')\n",
    "print('Low r suggests might have non-linear correlation.\\n\\n')"
   ]
  },
  {
   "cell_type": "code",
   "execution_count": null,
   "metadata": {
    "slideshow": {
     "slide_type": "skip"
    }
   },
   "outputs": [],
   "source": [
    "# properties with year built between 1946 and 1990)\n",
    "years_46_90 = train[(train.year_built > 1946) & (train.year_built < 1990)]\n",
    "\n",
    "r2, p2 = stats.pearsonr(years_46_90.year_built, years_46_90.log_error)"
   ]
  },
  {
   "cell_type": "code",
   "execution_count": 144,
   "metadata": {
    "slideshow": {
     "slide_type": "subslide"
    }
   },
   "outputs": [
    {
     "name": "stdout",
     "output_type": "stream",
     "text": [
      "Correlation Test on Year Built (1946-1990)\n",
      "     p-value: 0.1091\n",
      "     r-value: -0.00909\n",
      "Fail to reject null hypothesis.\n",
      "Low r suggests might have non-linear correlation.\n"
     ]
    }
   ],
   "source": [
    "print('Correlation Test on Year Built (1946-1990)')\n",
    "print('     p-value:',round(p2,5))\n",
    "print('     r-value:',round(r2,5))\n",
    "print('Fail to reject null hypothesis.')\n",
    "print('Low r suggests might have non-linear correlation.')"
   ]
  },
  {
   "cell_type": "markdown",
   "metadata": {
    "slideshow": {
     "slide_type": "subslide"
    }
   },
   "source": [
    "### SQFT with Hypothesis Testing\n",
    "#### Correlation Test\n",
    "Testing correlation of Property Sqft and Log Error.  \n",
    "$H_O$: There is no linear correlation between property sqft and log error.  \n",
    "$H_A$: There is a linear correlation between property sqft and log error."
   ]
  },
  {
   "cell_type": "code",
   "execution_count": null,
   "metadata": {
    "slideshow": {
     "slide_type": "skip"
    }
   },
   "outputs": [],
   "source": [
    "# p-value must be lower than alpha to reject null hypothesis\n",
    "alpha = .05\n",
    "\n",
    "r, p = stats.pearsonr(train.property_sqft, train.log_error)"
   ]
  },
  {
   "cell_type": "code",
   "execution_count": 140,
   "metadata": {
    "slideshow": {
     "slide_type": "fragment"
    }
   },
   "outputs": [
    {
     "name": "stdout",
     "output_type": "stream",
     "text": [
      "Correlation Test on All Year Built\n",
      "     p-value: 0.72977\n",
      "     r-value: 0.00164\n",
      "Fail to reject null hypothesis.\n",
      "Low r suggests might have non-linear correlation.\n",
      "\n",
      "\n"
     ]
    }
   ],
   "source": [
    "print('Correlation Test on All Year Built')\n",
    "print('     p-value:',round(p,5))\n",
    "print('     r-value:',round(r,5))\n",
    "print('Fail to reject null hypothesis.')\n",
    "print('Low r suggests might have non-linear correlation.\\n\\n')"
   ]
  },
  {
   "cell_type": "markdown",
   "metadata": {
    "slideshow": {
     "slide_type": "subslide"
    }
   },
   "source": [
    "# Visualizing Clusters in Tableau\n",
    "Link: https://public.tableau.com/profile/thompson.bethany.01#!/vizhome/Zillow_Clusters/Story1?publish=yes"
   ]
  },
  {
   "cell_type": "code",
   "execution_count": null,
   "metadata": {
    "slideshow": {
     "slide_type": "fragment"
    }
   },
   "outputs": [],
   "source": [
    "# created clusters with unscaled data to visualize clusters in Tableau\n",
    "train, validate, test = Model.create_clusters(train, validate, test)"
   ]
  },
  {
   "cell_type": "code",
   "execution_count": 63,
   "metadata": {
    "slideshow": {
     "slide_type": "skip"
    }
   },
   "outputs": [
    {
     "data": {
      "text/html": [
       "<div class='tableauPlaceholder' id='viz1603135629256' style='position: relative'><noscript><a href='#'><img alt=' ' src='https:&#47;&#47;public.tableau.com&#47;static&#47;images&#47;Zi&#47;Zillow_Clusters&#47;Story1&#47;1_rss.png' style='border: none' /></a></noscript><object class='tableauViz'  style='display:none;'><param name='host_url' value='https%3A%2F%2Fpublic.tableau.com%2F' /> <param name='embed_code_version' value='3' /> <param name='site_root' value='' /><param name='name' value='Zillow_Clusters&#47;Story1' /><param name='tabs' value='no' /><param name='toolbar' value='yes' /><param name='static_image' value='https:&#47;&#47;public.tableau.com&#47;static&#47;images&#47;Zi&#47;Zillow_Clusters&#47;Story1&#47;1.png' /> <param name='animate_transition' value='yes' /><param name='display_static_image' value='yes' /><param name='display_spinner' value='yes' /><param name='display_overlay' value='yes' /><param name='display_count' value='yes' /><param name='language' value='en' /><param name='filter' value='publish=yes' /></object></div>                <script type='text/javascript'>                    var divElement = document.getElementById('viz1603135629256');                    var vizElement = divElement.getElementsByTagName('object')[0];                    vizElement.style.width='1016px';vizElement.style.height='991px';                    var scriptElement = document.createElement('script');                    scriptElement.src = 'https://public.tableau.com/javascripts/api/viz_v1.js';                    vizElement.parentNode.insertBefore(scriptElement, vizElement);                </script>\n"
      ],
      "text/plain": [
       "<IPython.core.display.HTML object>"
      ]
     },
     "metadata": {},
     "output_type": "display_data"
    }
   ],
   "source": [
    "# embeded link to Tableau Workbook, appears in Jupyter notebook but not in github\n",
    "# link to same workbook above\n",
    "\n",
    "%%HTML\n",
    "<div class='tableauPlaceholder' id='viz1603135629256' style='position: relative'><noscript><a href='#'><img alt=' ' src='https:&#47;&#47;public.tableau.com&#47;static&#47;images&#47;Zi&#47;Zillow_Clusters&#47;Story1&#47;1_rss.png' style='border: none' /></a></noscript><object class='tableauViz'  style='display:none;'><param name='host_url' value='https%3A%2F%2Fpublic.tableau.com%2F' /> <param name='embed_code_version' value='3' /> <param name='site_root' value='' /><param name='name' value='Zillow_Clusters&#47;Story1' /><param name='tabs' value='no' /><param name='toolbar' value='yes' /><param name='static_image' value='https:&#47;&#47;public.tableau.com&#47;static&#47;images&#47;Zi&#47;Zillow_Clusters&#47;Story1&#47;1.png' /> <param name='animate_transition' value='yes' /><param name='display_static_image' value='yes' /><param name='display_spinner' value='yes' /><param name='display_overlay' value='yes' /><param name='display_count' value='yes' /><param name='language' value='en' /><param name='filter' value='publish=yes' /></object></div>                <script type='text/javascript'>                    var divElement = document.getElementById('viz1603135629256');                    var vizElement = divElement.getElementsByTagName('object')[0];                    vizElement.style.width='1016px';vizElement.style.height='991px';                    var scriptElement = document.createElement('script');                    scriptElement.src = 'https://public.tableau.com/javascripts/api/viz_v1.js';                    vizElement.parentNode.insertBefore(scriptElement, vizElement);                </script>"
   ]
  },
  {
   "cell_type": "markdown",
   "metadata": {
    "slideshow": {
     "slide_type": "subslide"
    }
   },
   "source": [
    "### Testing These Clusters with Hypothesis Testing"
   ]
  },
  {
   "cell_type": "markdown",
   "metadata": {
    "slideshow": {
     "slide_type": "fragment"
    }
   },
   "source": [
    "### SQFT Cluster with Hypothesis Testing\n",
    "#### Correlation Test\n",
    "Testing Cluster  \n",
    "$H_O$:  \n",
    "$H_A$:"
   ]
  },
  {
   "cell_type": "markdown",
   "metadata": {
    "slideshow": {
     "slide_type": "subslide"
    }
   },
   "source": [
    "# Explore Takeaways\n",
    "- insert takeaways here\n",
    "- more takeaways\n",
    "- what to do next"
   ]
  },
  {
   "cell_type": "markdown",
   "metadata": {
    "slideshow": {
     "slide_type": "skip"
    }
   },
   "source": [
    "#### Jump To: \n",
    "[Acquire](#first-bullet),  [Prepare](#second-bullet),  [Explore](#third-bullet),  [Modeling](#fourth-bullet),  [Conclusions](#fifth-bullet)  "
   ]
  },
  {
   "cell_type": "markdown",
   "metadata": {
    "slideshow": {
     "slide_type": "slide"
    }
   },
   "source": [
    "# Modeling <a class=\"anchor\" id=\"fourth-bullet\"></a>  - Predicting Log Error"
   ]
  },
  {
   "cell_type": "code",
   "execution_count": 34,
   "metadata": {
    "slideshow": {
     "slide_type": "subslide"
    }
   },
   "outputs": [],
   "source": [
    "# imports to calculate model metrics\n",
    "from sklearn.metrics import mean_squared_error, explained_variance_score"
   ]
  },
  {
   "cell_type": "code",
   "execution_count": 28,
   "metadata": {
    "slideshow": {
     "slide_type": "fragment"
    }
   },
   "outputs": [],
   "source": [
    "# first split into X variables and y target\n",
    "\n",
    "# X is every column except log_error\n",
    "X_train = train.drop('log_error',axis=1)\n",
    "# y is only log error, [[]] to keep as df and not series\n",
    "y_train = train[['log_error']]\n",
    "\n",
    "# repeat for validate and test\n",
    "X_validate = validate.drop('log_error',axis=1)\n",
    "y_validate = validate[['log_error']]\n",
    "\n",
    "X_test = test.drop('log_error',axis=1)\n",
    "y_test = test[['log_error']]"
   ]
  },
  {
   "cell_type": "markdown",
   "metadata": {
    "slideshow": {
     "slide_type": "subslide"
    }
   },
   "source": [
    "### Baseline Model\n",
    "Will predict the same log error for each observation, either average, median, or mode"
   ]
  },
  {
   "cell_type": "code",
   "execution_count": 26,
   "metadata": {
    "slideshow": {
     "slide_type": "fragment"
    }
   },
   "outputs": [
    {
     "name": "stdout",
     "output_type": "stream",
     "text": [
      "Log Error Stats\n",
      "\n",
      "average: 0.01623595303835073 \n",
      "\n",
      "mode: 0.00265187150207 \n",
      "\n",
      "median: 0.006570924980950001 \n",
      "\n"
     ]
    }
   ],
   "source": [
    "# printing stats to determine baseline\n",
    "print('Log Error Stats\\n')\n",
    "print('average:', train.log_error.mean(),'\\n')\n",
    "print('mode:', train.log_error.mode()[0],'\\n')\n",
    "print('median:', train.log_error.median(),'\\n')"
   ]
  },
  {
   "cell_type": "code",
   "execution_count": 25,
   "metadata": {
    "slideshow": {
     "slide_type": "subslide"
    }
   },
   "outputs": [
    {
     "data": {
      "text/plain": [
       "<matplotlib.axes._subplots.AxesSubplot at 0x7ffbbab1d550>"
      ]
     },
     "execution_count": 25,
     "metadata": {},
     "output_type": "execute_result"
    },
    {
     "data": {
      "image/png": "[encoded data removed]",
      "text/plain": [
       "<Figure size 432x288 with 1 Axes>"
      ]
     },
     "metadata": {
      "needs_background": "light"
     },
     "output_type": "display_data"
    }
   ],
   "source": [
    "# distribution of log error, to help determine baseline along with stats\n",
    "plt.title('Log Error Histogram')\n",
    "plt.xlabel('Log Error')\n",
    "plt.ylabel('Count of Properties')\n",
    "sns.histplot(train.log_error)"
   ]
  },
  {
   "cell_type": "markdown",
   "metadata": {
    "slideshow": {
     "slide_type": "fragment"
    }
   },
   "source": [
    "### Log error is normally distributed, will create baseline as the average"
   ]
  },
  {
   "cell_type": "code",
   "execution_count": 37,
   "metadata": {
    "slideshow": {
     "slide_type": "subslide"
    }
   },
   "outputs": [
    {
     "name": "stdout",
     "output_type": "stream",
     "text": [
      "The Baseline Mean Squared Error: 0.02841\n",
      "The Baseline Root Mean Squared Error: 0.01421\n"
     ]
    }
   ],
   "source": [
    "# setting baseline to average log_error\n",
    "baseline = train.log_error.mean()\n",
    "\n",
    "# calculating MSE with y_train (actual) and baseline (extended to same size as df)\n",
    "baseline_mse = mean_squared_error(y_train, np.full(y_train.shape, baseline))\n",
    "baseline_rmse = baseline_mse**1/2\n",
    "\n",
    "print('The Baseline Mean Squared Error:', round(baseline_mse,5))\n",
    "print('The Baseline Root Mean Squared Error:', round(baseline_rmse,5))"
   ]
  },
  {
   "cell_type": "markdown",
   "metadata": {
    "slideshow": {
     "slide_type": "skip"
    }
   },
   "source": [
    "### Mean Squared Error and Root Mean Squared Error Review - [Skip](#next-bullet)\n",
    "MSE\n",
    "- how close a fitted line is to data points\n",
    "- squared so negative values do not cancel positive values\n",
    "- smaller value means the closer the fit\n",
    "\n",
    "RMSE  \n",
    "\n",
    "- just the square root of the MSE\n",
    "- standard deviation of predicted value to actual value for each observation\n",
    "- how close the data is concentrated around the prediction\n",
    "![](https://www.statisticshowto.com/wp-content/uploads/2015/03/residual.png)\n",
    "\n",
    "###### \"What are Mean Squared Error and Root Mean Squared Error?\" From Vernier.com https://www.vernier.com/til/1014\n",
    "\n",
    "###### Stephanie Glen. \"RMSE: Root Mean Square Error\" From StatisticsHowTo.com: Elementary Statistics for the rest of us! https://www.statisticshowto.com/probability-and-statistics/regression-analysis/rmse-root-mean-square-error/"
   ]
  },
  {
   "cell_type": "markdown",
   "metadata": {
    "slideshow": {
     "slide_type": "slide"
    }
   },
   "source": [
    "## Creating Models on Train"
   ]
  },
  {
   "cell_type": "markdown",
   "metadata": {
    "slideshow": {
     "slide_type": "subslide"
    }
   },
   "source": [
    "### Model 1 <a class=\"anchor\" id=\"next-bullet\"></a>"
   ]
  },
  {
   "cell_type": "code",
   "execution_count": null,
   "metadata": {
    "slideshow": {
     "slide_type": "fragment"
    }
   },
   "outputs": [],
   "source": []
  },
  {
   "cell_type": "markdown",
   "metadata": {
    "slideshow": {
     "slide_type": "subslide"
    }
   },
   "source": [
    "### Model 2"
   ]
  },
  {
   "cell_type": "code",
   "execution_count": null,
   "metadata": {
    "slideshow": {
     "slide_type": "fragment"
    }
   },
   "outputs": [],
   "source": []
  },
  {
   "cell_type": "markdown",
   "metadata": {
    "slideshow": {
     "slide_type": "subslide"
    }
   },
   "source": [
    "### Model 3"
   ]
  },
  {
   "cell_type": "code",
   "execution_count": null,
   "metadata": {
    "slideshow": {
     "slide_type": "fragment"
    }
   },
   "outputs": [],
   "source": []
  },
  {
   "cell_type": "markdown",
   "metadata": {
    "slideshow": {
     "slide_type": "subslide"
    }
   },
   "source": [
    "### Model 4"
   ]
  },
  {
   "cell_type": "code",
   "execution_count": null,
   "metadata": {
    "slideshow": {
     "slide_type": "fragment"
    }
   },
   "outputs": [],
   "source": []
  },
  {
   "cell_type": "markdown",
   "metadata": {
    "slideshow": {
     "slide_type": "slide"
    }
   },
   "source": [
    "## Are Models Overfit? Checking with Validate"
   ]
  },
  {
   "cell_type": "code",
   "execution_count": null,
   "metadata": {
    "slideshow": {
     "slide_type": "subslide"
    }
   },
   "outputs": [],
   "source": []
  },
  {
   "cell_type": "markdown",
   "metadata": {
    "slideshow": {
     "slide_type": "slide"
    }
   },
   "source": [
    "## Simulating Future, Unseen Data - Best Model on Test"
   ]
  },
  {
   "cell_type": "code",
   "execution_count": null,
   "metadata": {
    "slideshow": {
     "slide_type": "subslide"
    }
   },
   "outputs": [],
   "source": []
  },
  {
   "cell_type": "markdown",
   "metadata": {
    "slideshow": {
     "slide_type": "subslide"
    }
   },
   "source": [
    "# Modeling Takeaways\n",
    "- Baseline performance\n",
    "- Best model performance\n",
    "- What this means?"
   ]
  },
  {
   "cell_type": "markdown",
   "metadata": {
    "slideshow": {
     "slide_type": "skip"
    }
   },
   "source": [
    "#### Jump To:\n",
    "[Acquire](#first-bullet),  [Prepare](#second-bullet),  [Explore](#third-bullet),  [Modeling](#fourth-bullet),  [Conclusions](#fifth-bullet)  "
   ]
  },
  {
   "cell_type": "markdown",
   "metadata": {
    "slideshow": {
     "slide_type": "slide"
    }
   },
   "source": [
    "# Conclusions <a class=\"anchor\" id=\"fifth-bullet\"></a>"
   ]
  },
  {
   "cell_type": "markdown",
   "metadata": {
    "slideshow": {
     "slide_type": "subslide"
    }
   },
   "source": []
  }
 ],
 "metadata": {
  "kernelspec": {
   "display_name": "Python 3",
   "language": "python",
   "name": "python3"
  },
  "language_info": {
   "codemirror_mode": {
    "name": "ipython",
    "version": 3
   },
   "file_extension": ".py",
   "mimetype": "text/x-python",
   "name": "python",
   "nbconvert_exporter": "python",
   "pygments_lexer": "ipython3",
   "version": "3.7.6"
  }
 },
 "nbformat": 4,
 "nbformat_minor": 4
}
