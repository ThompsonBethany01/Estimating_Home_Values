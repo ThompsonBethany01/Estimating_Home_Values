{
 "cells": [
  {
   "cell_type": "markdown",
   "metadata": {},
   "source": [
    "# Predicting Zillow Log Error\n",
    "### Author: \n",
    "Bethany Thompson, Jr. Data Scientist  \n",
    "thompson.bethany.01@gmail.com\n",
    "### Date:\n",
    "October 21st, 2020\n",
    "### Project Goals:\n",
    "Create insight for the current Zillow Zestimate model by predicting the model's log error.\n",
    "### Conclusions:"
   ]
  },
  {
   "cell_type": "markdown",
   "metadata": {},
   "source": [
    "## Table of Contents:\n",
    " [Acquire](#first-bullet)  \n",
    "> Use acquire module to assign the data to a variable  \n",
    "\n",
    " [Prepare](#second-bullet)  \n",
    "> Use prepare module to clean the data  \n",
    "\n",
    " [Explore](#third-bullet)  \n",
    "> Highlight key takeaways from explore  \n",
    "\n",
    " [Modeling](#fourth-bullet)  \n",
    "> Creating 4 models to predict log error and determining the best performing one  \n",
    "\n",
    " [Conclusions](#fifth-bullet)  \n",
    "> Reasons for log error, best model to predict log error"
   ]
  },
  {
   "cell_type": "markdown",
   "metadata": {},
   "source": [
    "# Acquire <a class=\"anchor\" id=\"first-bullet\"></a>  \n",
    "- If you would like to see the data before prep, run this code\n",
    "- However, this function is also within the Prepare.py module\n",
    "    - calling the Prepare.prepare_zillow() function will use Acquire to obtain the data and prep in one function\n",
    "- The query in Acquire joins the predictions_2017 and properties_2017 tables, and selects only single-unit properties"
   ]
  },
  {
   "cell_type": "code",
   "execution_count": 1,
   "metadata": {},
   "outputs": [],
   "source": [
    "# Acquire.py holds functions to connect to sql database, and return a df with data selected with query\n",
    "import Acquire"
   ]
  },
  {
   "cell_type": "code",
   "execution_count": 8,
   "metadata": {},
   "outputs": [],
   "source": [
    "raw_df = Acquire.get_home_data()"
   ]
  },
  {
   "cell_type": "markdown",
   "metadata": {},
   "source": [
    "### The original data has 61 columns and 70,364 rows. There is also more that 50% of nulls in many columns."
   ]
  },
  {
   "cell_type": "code",
   "execution_count": 9,
   "metadata": {},
   "outputs": [
    {
     "data": {
      "text/plain": [
       "(70364, 61)"
      ]
     },
     "execution_count": 9,
     "metadata": {},
     "output_type": "execute_result"
    }
   ],
   "source": [
    "raw_df.shape"
   ]
  },
  {
   "cell_type": "code",
   "execution_count": 10,
   "metadata": {},
   "outputs": [
    {
     "data": {
      "text/plain": [
       "id                              0\n",
       "parcelid                        0\n",
       "airconditioningtypeid       50658\n",
       "architecturalstyletypeid    70213\n",
       "basementsqft                70320\n",
       "                            ...  \n",
       "taxdelinquencyflag          69043\n",
       "taxdelinquencyyear          69043\n",
       "censustractandblock          1590\n",
       "logerror                        0\n",
       "transactiondate                 0\n",
       "Length: 61, dtype: int64"
      ]
     },
     "execution_count": 10,
     "metadata": {},
     "output_type": "execute_result"
    }
   ],
   "source": [
    "raw_df.isnull().sum()"
   ]
  },
  {
   "cell_type": "markdown",
   "metadata": {},
   "source": [
    "# Prepare <a class=\"anchor\" id=\"second-bullet\"></a>  \n",
    "\n",
    "Within the prepare function:  \n",
    "- columns and rows with more than %25 of nulls are removed\n",
    "- uneccessary columns are removed (such as multiple sqft)\n",
    "- outliers in continuous variables are removed\n",
    "- leftover nulls are filled with mean or mode\n",
    "- features for property age and transaction month are created\n",
    "- columns are renamed and rearranged"
   ]
  },
  {
   "cell_type": "code",
   "execution_count": 6,
   "metadata": {},
   "outputs": [],
   "source": [
    "# Prepare.py holds the function to obtain the data, prep the data, and split into train, validate, test\n",
    "import Prepare"
   ]
  },
  {
   "cell_type": "markdown",
   "metadata": {},
   "source": [
    "### Prepare.py also splits the data into train, validate, test\n",
    "70% Train, 20% Validate, 10% Test"
   ]
  },
  {
   "cell_type": "code",
   "execution_count": 12,
   "metadata": {},
   "outputs": [
    {
     "name": "stdout",
     "output_type": "stream",
     "text": [
      "train shape:  (44284, 25) , validate shape:  (12491, 25) , test shape:  (6309, 25)\n",
      "\n",
      "train percent:  70.0 , validate percent:  20.0 , test percent:  10.0\n"
     ]
    }
   ],
   "source": [
    "train, validate, test = Prepare.prepare_zillow()"
   ]
  },
  {
   "cell_type": "markdown",
   "metadata": {},
   "source": [
    "### No nulls are left after using the prepare function"
   ]
  },
  {
   "cell_type": "code",
   "execution_count": 14,
   "metadata": {},
   "outputs": [
    {
     "data": {
      "text/plain": [
       "index_id               0\n",
       "parcel_id              0\n",
       "log_error              0\n",
       "tax_value              0\n",
       "structure_tax_value    0\n",
       "land_tax_value         0\n",
       "tax_amount             0\n",
       "county_id              0\n",
       "zip_code               0\n",
       "latitude               0\n",
       "longitude              0\n",
       "census_id              0\n",
       "bathrooms              0\n",
       "bedrooms               0\n",
       "full_bathrooms         0\n",
       "bed_plus_bath          0\n",
       "room_count             0\n",
       "property_sqft          0\n",
       "lot_sqft               0\n",
       "land_use_code          0\n",
       "land_use_type          0\n",
       "year_built             0\n",
       "property_age           0\n",
       "transaction_date       0\n",
       "transaction_month      0\n",
       "dtype: int64"
      ]
     },
     "execution_count": 14,
     "metadata": {},
     "output_type": "execute_result"
    }
   ],
   "source": [
    "train.isnull().sum()"
   ]
  },
  {
   "cell_type": "markdown",
   "metadata": {},
   "source": [
    "# Explore <a class=\"anchor\" id=\"third-bullet\"></a>"
   ]
  },
  {
   "cell_type": "code",
   "execution_count": null,
   "metadata": {},
   "outputs": [],
   "source": []
  },
  {
   "cell_type": "markdown",
   "metadata": {},
   "source": [
    "# Modeling <a class=\"anchor\" id=\"fourth-bullet\"></a>"
   ]
  },
  {
   "cell_type": "code",
   "execution_count": null,
   "metadata": {},
   "outputs": [],
   "source": []
  },
  {
   "cell_type": "markdown",
   "metadata": {},
   "source": [
    "# Conclusions <a class=\"anchor\" id=\"fifth-bullet\"></a>"
   ]
  },
  {
   "cell_type": "code",
   "execution_count": null,
   "metadata": {},
   "outputs": [],
   "source": []
  }
 ],
 "metadata": {
  "kernelspec": {
   "display_name": "Python 3",
   "language": "python",
   "name": "python3"
  },
  "language_info": {
   "codemirror_mode": {
    "name": "ipython",
    "version": 3
   },
   "file_extension": ".py",
   "mimetype": "text/x-python",
   "name": "python",
   "nbconvert_exporter": "python",
   "pygments_lexer": "ipython3",
   "version": "3.7.6"
  }
 },
 "nbformat": 4,
 "nbformat_minor": 4
}
