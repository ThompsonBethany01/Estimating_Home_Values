{
 "cells": [
  {
   "cell_type": "markdown",
   "metadata": {},
   "source": [
    "![Zillow-Logo](https://wp.zillowstatic.com/8/ZPA-horizontal-2ac5b0-300x71.png)  \n",
    "\n",
    "# <center>Predicting Log Error of the Zestimate®</center>\n",
    "\n",
    "### Author: \n",
    "Bethany Thompson, Jr. Data Scientist  \n",
    "thompson.bethany.01@gmail.com\n",
    "### Date:\n",
    "October 21st, 2020\n",
    "### Project Goals:\n",
    "Create insight for the current Zillow Zestimate model by predicting the model's log error.\n",
    "### Conclusions:"
   ]
  },
  {
   "cell_type": "markdown",
   "metadata": {},
   "source": [
    "## Table of Contents:\n",
    " [Acquire](#first-bullet)  \n",
    "> Use acquire module to assign the data to a variable  \n",
    "\n",
    " [Prepare](#second-bullet)  \n",
    "> Use prepare module to clean the data  \n",
    "\n",
    " [Explore](#third-bullet)  \n",
    "> Highlight key takeaways from explore  \n",
    "\n",
    " [Modeling](#fourth-bullet)  \n",
    "> Creating 4 models to predict log error and determining the best performing one  \n",
    "\n",
    " [Conclusions](#fifth-bullet)  \n",
    "> Reasons for log error, best model to predict log error"
   ]
  },
  {
   "cell_type": "markdown",
   "metadata": {},
   "source": [
    "# Acquire <a class=\"anchor\" id=\"first-bullet\"></a>  \n",
    "- If you would like to see the data before prep, run this code\n",
    "- However, this function is also within the Prepare.py module\n",
    "    - calling the Prepare.prepare_zillow() function will use Acquire to obtain the data and prep in one function\n",
    "- The query in Acquire joins the predictions_2017 and properties_2017 tables, and selects only single-unit properties"
   ]
  },
  {
   "cell_type": "code",
   "execution_count": 1,
   "metadata": {},
   "outputs": [],
   "source": [
    "# Acquire.py holds functions to connect to sql database, and return a df with data selected with query\n",
    "import Acquire"
   ]
  },
  {
   "cell_type": "code",
   "execution_count": 2,
   "metadata": {},
   "outputs": [],
   "source": [
    "raw_df = Acquire.get_home_data()"
   ]
  },
  {
   "cell_type": "markdown",
   "metadata": {},
   "source": [
    "### The original data has 61 columns and 70,364 rows. There is also more that 50% of nulls in many columns."
   ]
  },
  {
   "cell_type": "code",
   "execution_count": 3,
   "metadata": {},
   "outputs": [
    {
     "data": {
      "text/plain": [
       "(70364, 61)"
      ]
     },
     "execution_count": 3,
     "metadata": {},
     "output_type": "execute_result"
    }
   ],
   "source": [
    "raw_df.shape"
   ]
  },
  {
   "cell_type": "code",
   "execution_count": 4,
   "metadata": {},
   "outputs": [
    {
     "data": {
      "text/plain": [
       "id                              0\n",
       "parcelid                        0\n",
       "airconditioningtypeid       50658\n",
       "architecturalstyletypeid    70213\n",
       "basementsqft                70320\n",
       "                            ...  \n",
       "taxdelinquencyflag          69043\n",
       "taxdelinquencyyear          69043\n",
       "censustractandblock          1590\n",
       "logerror                        0\n",
       "transactiondate                 0\n",
       "Length: 61, dtype: int64"
      ]
     },
     "execution_count": 4,
     "metadata": {},
     "output_type": "execute_result"
    }
   ],
   "source": [
    "raw_df.isnull().sum()"
   ]
  },
  {
   "cell_type": "markdown",
   "metadata": {},
   "source": [
    "### Takeaways\n",
    "- large amount of nulls\n",
    "- outliers present\n",
    "- new features can be created\n",
    "- columns need to be renamed, rearranged"
   ]
  },
  {
   "cell_type": "markdown",
   "metadata": {},
   "source": [
    "#### Jump To: \n",
    "[Acquire](#first-bullet),  [Prepare](#second-bullet),  [Explore](#third-bullet),  [Modeling](#fourth-bullet),  [Conclusions](#fifth-bullet)  "
   ]
  },
  {
   "cell_type": "markdown",
   "metadata": {},
   "source": [
    "# Prepare <a class=\"anchor\" id=\"second-bullet\"></a>  \n",
    "\n",
    "Within the prepare function:  \n",
    "- columns and rows with more than %25 of nulls are removed\n",
    "- uneccessary columns are removed (such as multiple sqft)\n",
    "- outliers in continuous variables are removed\n",
    "- leftover nulls are filled with mean or mode\n",
    "- features for property age and transaction month are created\n",
    "- columns are renamed and rearranged"
   ]
  },
  {
   "cell_type": "code",
   "execution_count": 5,
   "metadata": {},
   "outputs": [],
   "source": [
    "# Prepare.py holds the function to obtain the data, prep the data, and split into train, validate, test\n",
    "import Prepare"
   ]
  },
  {
   "cell_type": "markdown",
   "metadata": {},
   "source": [
    "### Prepare.py also splits the data into train, validate, test\n",
    "70% Train, 20% Validate, 10% Test"
   ]
  },
  {
   "cell_type": "code",
   "execution_count": 6,
   "metadata": {},
   "outputs": [
    {
     "name": "stdout",
     "output_type": "stream",
     "text": [
      "train shape:  (44284, 25) , validate shape:  (12491, 25) , test shape:  (6309, 25)\n",
      "\n",
      "train percent:  70.0 , validate percent:  20.0 , test percent:  10.0\n"
     ]
    }
   ],
   "source": [
    "# prepare_zillow function acquires the raw data, cleans, and splits the df, returning train, validate, split\n",
    "train, validate, test = Prepare.prepare_zillow()"
   ]
  },
  {
   "cell_type": "markdown",
   "metadata": {},
   "source": [
    "### No nulls are left after using the prepare function"
   ]
  },
  {
   "cell_type": "code",
   "execution_count": 7,
   "metadata": {},
   "outputs": [
    {
     "data": {
      "text/plain": [
       "index_id               0\n",
       "parcel_id              0\n",
       "log_error              0\n",
       "tax_value              0\n",
       "structure_tax_value    0\n",
       "land_tax_value         0\n",
       "tax_amount             0\n",
       "county_id              0\n",
       "zip_code               0\n",
       "latitude               0\n",
       "longitude              0\n",
       "census_id              0\n",
       "bathrooms              0\n",
       "bedrooms               0\n",
       "full_bathrooms         0\n",
       "bed_plus_bath          0\n",
       "room_count             0\n",
       "property_sqft          0\n",
       "lot_sqft               0\n",
       "land_use_code          0\n",
       "land_use_type          0\n",
       "year_built             0\n",
       "property_age           0\n",
       "transaction_date       0\n",
       "transaction_month      0\n",
       "dtype: int64"
      ]
     },
     "execution_count": 7,
     "metadata": {},
     "output_type": "execute_result"
    }
   ],
   "source": [
    "train.isnull().sum()"
   ]
  },
  {
   "cell_type": "markdown",
   "metadata": {},
   "source": [
    "### Takeaways\n",
    "- Data has been cleaned as specified in Acquire\n",
    "- Data is split, but not scaled so we can explore\n",
    "- X and y dataframes have not been seperated yet\n",
    "- Will need to be scaled before creating clusters and modeling"
   ]
  },
  {
   "cell_type": "markdown",
   "metadata": {},
   "source": [
    "#### Jump To: \n",
    "[Acquire](#first-bullet),  [Prepare](#second-bullet),  [Explore](#third-bullet),  [Modeling](#fourth-bullet),  [Conclusions](#fifth-bullet)  "
   ]
  },
  {
   "cell_type": "markdown",
   "metadata": {},
   "source": [
    "# Explore <a class=\"anchor\" id=\"third-bullet\"></a>"
   ]
  },
  {
   "cell_type": "code",
   "execution_count": 10,
   "metadata": {},
   "outputs": [],
   "source": [
    "import pandas as pd\n",
    "import numpy as np\n",
    "import matplotlib.pyplot as plt\n",
    "import seaborn as sns"
   ]
  },
  {
   "cell_type": "markdown",
   "metadata": {},
   "source": [
    "### Takeaways\n",
    "- insert takeaways here\n",
    "- more takeaways\n",
    "- what to do next"
   ]
  },
  {
   "cell_type": "markdown",
   "metadata": {},
   "source": [
    "#### Jump To: \n",
    "[Acquire](#first-bullet),  [Prepare](#second-bullet),  [Explore](#third-bullet),  [Modeling](#fourth-bullet),  [Conclusions](#fifth-bullet)  "
   ]
  },
  {
   "cell_type": "markdown",
   "metadata": {},
   "source": [
    "# Modeling <a class=\"anchor\" id=\"fourth-bullet\"></a>  - Predicting Log Error"
   ]
  },
  {
   "cell_type": "code",
   "execution_count": 34,
   "metadata": {},
   "outputs": [],
   "source": [
    "# imports to calculate model metrics\n",
    "from sklearn.metrics import mean_squared_error, explained_variance_score"
   ]
  },
  {
   "cell_type": "code",
   "execution_count": 28,
   "metadata": {},
   "outputs": [],
   "source": [
    "# first split into X variables and y target\n",
    "\n",
    "# X is every column except log_error\n",
    "X_train = train.drop('log_error',axis=1)\n",
    "# y is only log error, [[]] to keep as df and not series\n",
    "y_train = train[['log_error']]\n",
    "\n",
    "# repeat for validate and test\n",
    "X_validate = validate.drop('log_error',axis=1)\n",
    "y_validate = validate[['log_error']]\n",
    "\n",
    "X_test = test.drop('log_error',axis=1)\n",
    "y_test = test[['log_error']]"
   ]
  },
  {
   "cell_type": "markdown",
   "metadata": {},
   "source": [
    "### Baseline Model\n",
    "Will predict the same log error for each observation, either average, median, or mode"
   ]
  },
  {
   "cell_type": "code",
   "execution_count": 26,
   "metadata": {},
   "outputs": [
    {
     "name": "stdout",
     "output_type": "stream",
     "text": [
      "Log Error Stats\n",
      "\n",
      "average: 0.01623595303835073 \n",
      "\n",
      "mode: 0.00265187150207 \n",
      "\n",
      "median: 0.006570924980950001 \n",
      "\n"
     ]
    }
   ],
   "source": [
    "# printing stats to determine baseline\n",
    "print('Log Error Stats\\n')\n",
    "print('average:', train.log_error.mean(),'\\n')\n",
    "print('mode:', train.log_error.mode()[0],'\\n')\n",
    "print('median:', train.log_error.median(),'\\n')"
   ]
  },
  {
   "cell_type": "code",
   "execution_count": 25,
   "metadata": {},
   "outputs": [
    {
     "data": {
      "text/plain": [
       "<matplotlib.axes._subplots.AxesSubplot at 0x7ffbbab1d550>"
      ]
     },
     "execution_count": 25,
     "metadata": {},
     "output_type": "execute_result"
    },
    {
     "data": {
      "image/png": "[encoded data removed]",
      "text/plain": [
       "<Figure size 432x288 with 1 Axes>"
      ]
     },
     "metadata": {
      "needs_background": "light"
     },
     "output_type": "display_data"
    }
   ],
   "source": [
    "# distribution of log error, to help determine baseline along with stats\n",
    "plt.title('Log Error Histogram')\n",
    "plt.xlabel('Log Error')\n",
    "plt.ylabel('Count of Properties')\n",
    "sns.histplot(train.log_error)"
   ]
  },
  {
   "cell_type": "markdown",
   "metadata": {},
   "source": [
    "### Log error is normally distributed, will create baseline as the average"
   ]
  },
  {
   "cell_type": "code",
   "execution_count": 37,
   "metadata": {},
   "outputs": [
    {
     "name": "stdout",
     "output_type": "stream",
     "text": [
      "The Baseline Mean Squared Error: 0.02841\n",
      "The Baseline Root Mean Squared Error: 0.01421\n"
     ]
    }
   ],
   "source": [
    "# setting baseline to average log_error\n",
    "baseline = train.log_error.mean()\n",
    "\n",
    "# calculating MSE with y_train (actual) and baseline (extended to same size as df)\n",
    "baseline_mse = mean_squared_error(y_train, np.full(y_train.shape, baseline))\n",
    "baseline_rmse = baseline_mse**1/2\n",
    "\n",
    "print('The Baseline Mean Squared Error:', round(baseline_mse,5))\n",
    "print('The Baseline Root Mean Squared Error:', round(baseline_rmse,5))"
   ]
  },
  {
   "cell_type": "markdown",
   "metadata": {},
   "source": [
    "### Mean Squared Error and Root Mean Squared Error Review - [Skip](#next-bullet)\n",
    "MSE\n",
    "- how close a fitted line is to data points\n",
    "- squared so negative values do not cancel positive values\n",
    "- smaller value means the closer the fit\n",
    "\n",
    "RMSE  \n",
    "\n",
    "- just the square root of the MSE\n",
    "- standard deviation of predicted value to actual value for each observation\n",
    "- how close the data is concentrated around the prediction\n",
    "![](https://www.statisticshowto.com/wp-content/uploads/2015/03/residual.png)\n",
    "\n",
    "###### \"What are Mean Squared Error and Root Mean Squared Error?\" From Vernier.com https://www.vernier.com/til/1014\n",
    "\n",
    "###### Stephanie Glen. \"RMSE: Root Mean Square Error\" From StatisticsHowTo.com: Elementary Statistics for the rest of us! https://www.statisticshowto.com/probability-and-statistics/regression-analysis/rmse-root-mean-square-error/"
   ]
  },
  {
   "cell_type": "markdown",
   "metadata": {},
   "source": [
    "## Creating Models on Train"
   ]
  },
  {
   "cell_type": "markdown",
   "metadata": {},
   "source": [
    "### Model 1 <a class=\"anchor\" id=\"next-bullet\"></a>"
   ]
  },
  {
   "cell_type": "code",
   "execution_count": null,
   "metadata": {},
   "outputs": [],
   "source": []
  },
  {
   "cell_type": "markdown",
   "metadata": {},
   "source": [
    "### Model 2"
   ]
  },
  {
   "cell_type": "code",
   "execution_count": null,
   "metadata": {},
   "outputs": [],
   "source": []
  },
  {
   "cell_type": "markdown",
   "metadata": {},
   "source": [
    "### Model 3"
   ]
  },
  {
   "cell_type": "code",
   "execution_count": null,
   "metadata": {},
   "outputs": [],
   "source": []
  },
  {
   "cell_type": "markdown",
   "metadata": {},
   "source": [
    "### Model 4"
   ]
  },
  {
   "cell_type": "code",
   "execution_count": null,
   "metadata": {},
   "outputs": [],
   "source": []
  },
  {
   "cell_type": "markdown",
   "metadata": {},
   "source": [
    "## Are Models Overfit? Checking with Validate"
   ]
  },
  {
   "cell_type": "code",
   "execution_count": null,
   "metadata": {},
   "outputs": [],
   "source": []
  },
  {
   "cell_type": "markdown",
   "metadata": {},
   "source": [
    "## Simulating Future, Unseen Data - Best Model on Test"
   ]
  },
  {
   "cell_type": "code",
   "execution_count": null,
   "metadata": {},
   "outputs": [],
   "source": []
  },
  {
   "cell_type": "markdown",
   "metadata": {},
   "source": [
    "### Takeaways\n",
    "- Baseline performance\n",
    "- Best model performance\n",
    "- What this means?"
   ]
  },
  {
   "cell_type": "markdown",
   "metadata": {},
   "source": [
    "#### Jump To:\n",
    "[Acquire](#first-bullet),  [Prepare](#second-bullet),  [Explore](#third-bullet),  [Modeling](#fourth-bullet),  [Conclusions](#fifth-bullet)  "
   ]
  },
  {
   "cell_type": "markdown",
   "metadata": {},
   "source": [
    "# Conclusions <a class=\"anchor\" id=\"fifth-bullet\"></a>"
   ]
  },
  {
   "cell_type": "markdown",
   "metadata": {},
   "source": []
  }
 ],
 "metadata": {
  "kernelspec": {
   "display_name": "Python 3",
   "language": "python",
   "name": "python3"
  },
  "language_info": {
   "codemirror_mode": {
    "name": "ipython",
    "version": 3
   },
   "file_extension": ".py",
   "mimetype": "text/x-python",
   "name": "python",
   "nbconvert_exporter": "python",
   "pygments_lexer": "ipython3",
   "version": "3.7.6"
  }
 },
 "nbformat": 4,
 "nbformat_minor": 4
}
