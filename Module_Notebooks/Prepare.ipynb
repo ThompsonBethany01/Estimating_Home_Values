{
 "cells": [
  {
   "cell_type": "markdown",
   "metadata": {},
   "source": [
    "# Prepping the Data\n",
    "We need to\n",
    "- [x] remove high null columns and rows\n",
    "- [x] remove unnecessary columns\n",
    "- [x] remove outliers\n",
    "- [x] impute/remove leftover nulls\n",
    "- [x] create new features\n",
    "- [ ] convert to appropriate data types\n",
    "- [X] reorder/rename columns\n",
    "- [X] put into one function\n",
    "\n",
    "Preprocessing\n",
    "- [ ] split into train, validate, test (stratify)\n",
    "- [ ] scale the data (fit on train)"
   ]
  },
  {
   "cell_type": "code",
   "execution_count": 1,
   "metadata": {},
   "outputs": [],
   "source": [
    "import Acquire\n",
    "\n",
    "import numpy as np\n",
    "import pandas as pd\n",
    "import matplotlib.pyplot as plt\n",
    "import seaborn as sns"
   ]
  },
  {
   "cell_type": "code",
   "execution_count": 2,
   "metadata": {},
   "outputs": [],
   "source": [
    "df = Acquire.get_home_data()"
   ]
  },
  {
   "cell_type": "code",
   "execution_count": 3,
   "metadata": {
    "scrolled": true
   },
   "outputs": [
    {
     "data": {
      "text/html": [
       "<div>\n",
       "<style scoped>\n",
       "    .dataframe tbody tr th:only-of-type {\n",
       "        vertical-align: middle;\n",
       "    }\n",
       "\n",
       "    .dataframe tbody tr th {\n",
       "        vertical-align: top;\n",
       "    }\n",
       "\n",
       "    .dataframe thead th {\n",
       "        text-align: right;\n",
       "    }\n",
       "</style>\n",
       "<table border=\"1\" class=\"dataframe\">\n",
       "  <thead>\n",
       "    <tr style=\"text-align: right;\">\n",
       "      <th></th>\n",
       "      <th>id</th>\n",
       "      <th>parcelid</th>\n",
       "      <th>airconditioningtypeid</th>\n",
       "      <th>architecturalstyletypeid</th>\n",
       "      <th>basementsqft</th>\n",
       "      <th>bathroomcnt</th>\n",
       "      <th>bedroomcnt</th>\n",
       "      <th>buildingclasstypeid</th>\n",
       "      <th>buildingqualitytypeid</th>\n",
       "      <th>calculatedbathnbr</th>\n",
       "      <th>...</th>\n",
       "      <th>structuretaxvaluedollarcnt</th>\n",
       "      <th>taxvaluedollarcnt</th>\n",
       "      <th>assessmentyear</th>\n",
       "      <th>landtaxvaluedollarcnt</th>\n",
       "      <th>taxamount</th>\n",
       "      <th>taxdelinquencyflag</th>\n",
       "      <th>taxdelinquencyyear</th>\n",
       "      <th>censustractandblock</th>\n",
       "      <th>logerror</th>\n",
       "      <th>transactiondate</th>\n",
       "    </tr>\n",
       "  </thead>\n",
       "  <tbody>\n",
       "    <tr>\n",
       "      <th>0</th>\n",
       "      <td>1</td>\n",
       "      <td>10759547</td>\n",
       "      <td>NaN</td>\n",
       "      <td>NaN</td>\n",
       "      <td>NaN</td>\n",
       "      <td>0.0</td>\n",
       "      <td>0.0</td>\n",
       "      <td>NaN</td>\n",
       "      <td>NaN</td>\n",
       "      <td>NaN</td>\n",
       "      <td>...</td>\n",
       "      <td>NaN</td>\n",
       "      <td>27516.0</td>\n",
       "      <td>2015.0</td>\n",
       "      <td>27516.0</td>\n",
       "      <td>NaN</td>\n",
       "      <td>NaN</td>\n",
       "      <td>NaN</td>\n",
       "      <td>NaN</td>\n",
       "      <td>0.055619</td>\n",
       "      <td>2017-01-01</td>\n",
       "    </tr>\n",
       "    <tr>\n",
       "      <th>1</th>\n",
       "      <td>6</td>\n",
       "      <td>10933547</td>\n",
       "      <td>NaN</td>\n",
       "      <td>NaN</td>\n",
       "      <td>NaN</td>\n",
       "      <td>0.0</td>\n",
       "      <td>0.0</td>\n",
       "      <td>NaN</td>\n",
       "      <td>NaN</td>\n",
       "      <td>NaN</td>\n",
       "      <td>...</td>\n",
       "      <td>404013.0</td>\n",
       "      <td>563029.0</td>\n",
       "      <td>2016.0</td>\n",
       "      <td>159016.0</td>\n",
       "      <td>6773.34</td>\n",
       "      <td>NaN</td>\n",
       "      <td>NaN</td>\n",
       "      <td>NaN</td>\n",
       "      <td>-0.001011</td>\n",
       "      <td>2017-01-01</td>\n",
       "    </tr>\n",
       "    <tr>\n",
       "      <th>2</th>\n",
       "      <td>14</td>\n",
       "      <td>11142747</td>\n",
       "      <td>NaN</td>\n",
       "      <td>NaN</td>\n",
       "      <td>NaN</td>\n",
       "      <td>0.0</td>\n",
       "      <td>0.0</td>\n",
       "      <td>NaN</td>\n",
       "      <td>NaN</td>\n",
       "      <td>NaN</td>\n",
       "      <td>...</td>\n",
       "      <td>NaN</td>\n",
       "      <td>4265.0</td>\n",
       "      <td>2015.0</td>\n",
       "      <td>4265.0</td>\n",
       "      <td>NaN</td>\n",
       "      <td>NaN</td>\n",
       "      <td>NaN</td>\n",
       "      <td>NaN</td>\n",
       "      <td>-0.008935</td>\n",
       "      <td>2017-01-02</td>\n",
       "    </tr>\n",
       "    <tr>\n",
       "      <th>3</th>\n",
       "      <td>15</td>\n",
       "      <td>11193347</td>\n",
       "      <td>NaN</td>\n",
       "      <td>NaN</td>\n",
       "      <td>NaN</td>\n",
       "      <td>0.0</td>\n",
       "      <td>0.0</td>\n",
       "      <td>NaN</td>\n",
       "      <td>NaN</td>\n",
       "      <td>NaN</td>\n",
       "      <td>...</td>\n",
       "      <td>NaN</td>\n",
       "      <td>10.0</td>\n",
       "      <td>2016.0</td>\n",
       "      <td>10.0</td>\n",
       "      <td>NaN</td>\n",
       "      <td>NaN</td>\n",
       "      <td>NaN</td>\n",
       "      <td>NaN</td>\n",
       "      <td>0.008669</td>\n",
       "      <td>2017-01-02</td>\n",
       "    </tr>\n",
       "    <tr>\n",
       "      <th>4</th>\n",
       "      <td>16</td>\n",
       "      <td>11215747</td>\n",
       "      <td>NaN</td>\n",
       "      <td>NaN</td>\n",
       "      <td>NaN</td>\n",
       "      <td>0.0</td>\n",
       "      <td>0.0</td>\n",
       "      <td>NaN</td>\n",
       "      <td>NaN</td>\n",
       "      <td>NaN</td>\n",
       "      <td>...</td>\n",
       "      <td>NaN</td>\n",
       "      <td>10.0</td>\n",
       "      <td>2016.0</td>\n",
       "      <td>10.0</td>\n",
       "      <td>NaN</td>\n",
       "      <td>NaN</td>\n",
       "      <td>NaN</td>\n",
       "      <td>NaN</td>\n",
       "      <td>-0.021896</td>\n",
       "      <td>2017-01-02</td>\n",
       "    </tr>\n",
       "    <tr>\n",
       "      <th>...</th>\n",
       "      <td>...</td>\n",
       "      <td>...</td>\n",
       "      <td>...</td>\n",
       "      <td>...</td>\n",
       "      <td>...</td>\n",
       "      <td>...</td>\n",
       "      <td>...</td>\n",
       "      <td>...</td>\n",
       "      <td>...</td>\n",
       "      <td>...</td>\n",
       "      <td>...</td>\n",
       "      <td>...</td>\n",
       "      <td>...</td>\n",
       "      <td>...</td>\n",
       "      <td>...</td>\n",
       "      <td>...</td>\n",
       "      <td>...</td>\n",
       "      <td>...</td>\n",
       "      <td>...</td>\n",
       "      <td>...</td>\n",
       "      <td>...</td>\n",
       "    </tr>\n",
       "    <tr>\n",
       "      <th>70359</th>\n",
       "      <td>77609</td>\n",
       "      <td>11212539</td>\n",
       "      <td>1.0</td>\n",
       "      <td>NaN</td>\n",
       "      <td>NaN</td>\n",
       "      <td>3.0</td>\n",
       "      <td>4.0</td>\n",
       "      <td>NaN</td>\n",
       "      <td>8.0</td>\n",
       "      <td>3.0</td>\n",
       "      <td>...</td>\n",
       "      <td>129566.0</td>\n",
       "      <td>162019.0</td>\n",
       "      <td>2016.0</td>\n",
       "      <td>32453.0</td>\n",
       "      <td>2860.33</td>\n",
       "      <td>NaN</td>\n",
       "      <td>NaN</td>\n",
       "      <td>6.037911e+13</td>\n",
       "      <td>0.020615</td>\n",
       "      <td>2017-09-20</td>\n",
       "    </tr>\n",
       "    <tr>\n",
       "      <th>70360</th>\n",
       "      <td>77610</td>\n",
       "      <td>11212639</td>\n",
       "      <td>1.0</td>\n",
       "      <td>NaN</td>\n",
       "      <td>NaN</td>\n",
       "      <td>3.0</td>\n",
       "      <td>4.0</td>\n",
       "      <td>NaN</td>\n",
       "      <td>8.0</td>\n",
       "      <td>3.0</td>\n",
       "      <td>...</td>\n",
       "      <td>100744.0</td>\n",
       "      <td>125923.0</td>\n",
       "      <td>2016.0</td>\n",
       "      <td>25179.0</td>\n",
       "      <td>2394.26</td>\n",
       "      <td>NaN</td>\n",
       "      <td>NaN</td>\n",
       "      <td>6.037911e+13</td>\n",
       "      <td>0.013209</td>\n",
       "      <td>2017-09-21</td>\n",
       "    </tr>\n",
       "    <tr>\n",
       "      <th>70361</th>\n",
       "      <td>77611</td>\n",
       "      <td>11212962</td>\n",
       "      <td>1.0</td>\n",
       "      <td>NaN</td>\n",
       "      <td>NaN</td>\n",
       "      <td>2.0</td>\n",
       "      <td>3.0</td>\n",
       "      <td>NaN</td>\n",
       "      <td>6.0</td>\n",
       "      <td>2.0</td>\n",
       "      <td>...</td>\n",
       "      <td>149241.0</td>\n",
       "      <td>198988.0</td>\n",
       "      <td>2016.0</td>\n",
       "      <td>49747.0</td>\n",
       "      <td>3331.81</td>\n",
       "      <td>NaN</td>\n",
       "      <td>NaN</td>\n",
       "      <td>6.037911e+13</td>\n",
       "      <td>0.037129</td>\n",
       "      <td>2017-09-21</td>\n",
       "    </tr>\n",
       "    <tr>\n",
       "      <th>70362</th>\n",
       "      <td>77612</td>\n",
       "      <td>11213162</td>\n",
       "      <td>1.0</td>\n",
       "      <td>NaN</td>\n",
       "      <td>NaN</td>\n",
       "      <td>3.0</td>\n",
       "      <td>3.0</td>\n",
       "      <td>NaN</td>\n",
       "      <td>8.0</td>\n",
       "      <td>3.0</td>\n",
       "      <td>...</td>\n",
       "      <td>118900.0</td>\n",
       "      <td>148600.0</td>\n",
       "      <td>2016.0</td>\n",
       "      <td>29700.0</td>\n",
       "      <td>2510.53</td>\n",
       "      <td>NaN</td>\n",
       "      <td>NaN</td>\n",
       "      <td>6.037911e+13</td>\n",
       "      <td>0.007204</td>\n",
       "      <td>2017-09-25</td>\n",
       "    </tr>\n",
       "    <tr>\n",
       "      <th>70363</th>\n",
       "      <td>77613</td>\n",
       "      <td>11213262</td>\n",
       "      <td>1.0</td>\n",
       "      <td>NaN</td>\n",
       "      <td>NaN</td>\n",
       "      <td>3.0</td>\n",
       "      <td>4.0</td>\n",
       "      <td>NaN</td>\n",
       "      <td>8.0</td>\n",
       "      <td>3.0</td>\n",
       "      <td>...</td>\n",
       "      <td>104239.0</td>\n",
       "      <td>130296.0</td>\n",
       "      <td>2016.0</td>\n",
       "      <td>26057.0</td>\n",
       "      <td>2470.35</td>\n",
       "      <td>Y</td>\n",
       "      <td>10.0</td>\n",
       "      <td>6.037911e+13</td>\n",
       "      <td>-0.197755</td>\n",
       "      <td>2018-05-25</td>\n",
       "    </tr>\n",
       "  </tbody>\n",
       "</table>\n",
       "<p>70364 rows × 61 columns</p>\n",
       "</div>"
      ],
      "text/plain": [
       "          id  parcelid  airconditioningtypeid  architecturalstyletypeid  \\\n",
       "0          1  10759547                    NaN                       NaN   \n",
       "1          6  10933547                    NaN                       NaN   \n",
       "2         14  11142747                    NaN                       NaN   \n",
       "3         15  11193347                    NaN                       NaN   \n",
       "4         16  11215747                    NaN                       NaN   \n",
       "...      ...       ...                    ...                       ...   \n",
       "70359  77609  11212539                    1.0                       NaN   \n",
       "70360  77610  11212639                    1.0                       NaN   \n",
       "70361  77611  11212962                    1.0                       NaN   \n",
       "70362  77612  11213162                    1.0                       NaN   \n",
       "70363  77613  11213262                    1.0                       NaN   \n",
       "\n",
       "       basementsqft  bathroomcnt  bedroomcnt  buildingclasstypeid  \\\n",
       "0               NaN          0.0         0.0                  NaN   \n",
       "1               NaN          0.0         0.0                  NaN   \n",
       "2               NaN          0.0         0.0                  NaN   \n",
       "3               NaN          0.0         0.0                  NaN   \n",
       "4               NaN          0.0         0.0                  NaN   \n",
       "...             ...          ...         ...                  ...   \n",
       "70359           NaN          3.0         4.0                  NaN   \n",
       "70360           NaN          3.0         4.0                  NaN   \n",
       "70361           NaN          2.0         3.0                  NaN   \n",
       "70362           NaN          3.0         3.0                  NaN   \n",
       "70363           NaN          3.0         4.0                  NaN   \n",
       "\n",
       "       buildingqualitytypeid  calculatedbathnbr  ...  \\\n",
       "0                        NaN                NaN  ...   \n",
       "1                        NaN                NaN  ...   \n",
       "2                        NaN                NaN  ...   \n",
       "3                        NaN                NaN  ...   \n",
       "4                        NaN                NaN  ...   \n",
       "...                      ...                ...  ...   \n",
       "70359                    8.0                3.0  ...   \n",
       "70360                    8.0                3.0  ...   \n",
       "70361                    6.0                2.0  ...   \n",
       "70362                    8.0                3.0  ...   \n",
       "70363                    8.0                3.0  ...   \n",
       "\n",
       "       structuretaxvaluedollarcnt  taxvaluedollarcnt  assessmentyear  \\\n",
       "0                             NaN            27516.0          2015.0   \n",
       "1                        404013.0           563029.0          2016.0   \n",
       "2                             NaN             4265.0          2015.0   \n",
       "3                             NaN               10.0          2016.0   \n",
       "4                             NaN               10.0          2016.0   \n",
       "...                           ...                ...             ...   \n",
       "70359                    129566.0           162019.0          2016.0   \n",
       "70360                    100744.0           125923.0          2016.0   \n",
       "70361                    149241.0           198988.0          2016.0   \n",
       "70362                    118900.0           148600.0          2016.0   \n",
       "70363                    104239.0           130296.0          2016.0   \n",
       "\n",
       "       landtaxvaluedollarcnt  taxamount  taxdelinquencyflag  \\\n",
       "0                    27516.0        NaN                 NaN   \n",
       "1                   159016.0    6773.34                 NaN   \n",
       "2                     4265.0        NaN                 NaN   \n",
       "3                       10.0        NaN                 NaN   \n",
       "4                       10.0        NaN                 NaN   \n",
       "...                      ...        ...                 ...   \n",
       "70359                32453.0    2860.33                 NaN   \n",
       "70360                25179.0    2394.26                 NaN   \n",
       "70361                49747.0    3331.81                 NaN   \n",
       "70362                29700.0    2510.53                 NaN   \n",
       "70363                26057.0    2470.35                   Y   \n",
       "\n",
       "       taxdelinquencyyear  censustractandblock  logerror  transactiondate  \n",
       "0                     NaN                  NaN  0.055619       2017-01-01  \n",
       "1                     NaN                  NaN -0.001011       2017-01-01  \n",
       "2                     NaN                  NaN -0.008935       2017-01-02  \n",
       "3                     NaN                  NaN  0.008669       2017-01-02  \n",
       "4                     NaN                  NaN -0.021896       2017-01-02  \n",
       "...                   ...                  ...       ...              ...  \n",
       "70359                 NaN         6.037911e+13  0.020615       2017-09-20  \n",
       "70360                 NaN         6.037911e+13  0.013209       2017-09-21  \n",
       "70361                 NaN         6.037911e+13  0.037129       2017-09-21  \n",
       "70362                 NaN         6.037911e+13  0.007204       2017-09-25  \n",
       "70363                10.0         6.037911e+13 -0.197755       2018-05-25  \n",
       "\n",
       "[70364 rows x 61 columns]"
      ]
     },
     "execution_count": 3,
     "metadata": {},
     "output_type": "execute_result"
    }
   ],
   "source": [
    "df"
   ]
  },
  {
   "cell_type": "markdown",
   "metadata": {},
   "source": [
    "# Remove Nulls in Columns/Rows"
   ]
  },
  {
   "cell_type": "code",
   "execution_count": 4,
   "metadata": {},
   "outputs": [
    {
     "data": {
      "text/plain": [
       "Index(['id', 'parcelid', 'bathroomcnt', 'bedroomcnt', 'calculatedbathnbr',\n",
       "       'calculatedfinishedsquarefeet', 'finishedsquarefeet12', 'fips',\n",
       "       'fullbathcnt', 'latitude', 'longitude', 'lotsizesquarefeet',\n",
       "       'propertycountylandusecode', 'propertylandusetypeid',\n",
       "       'rawcensustractandblock', 'regionidcity', 'regionidcounty',\n",
       "       'regionidzip', 'roomcnt', 'yearbuilt', 'structuretaxvaluedollarcnt',\n",
       "       'taxvaluedollarcnt', 'assessmentyear', 'landtaxvaluedollarcnt',\n",
       "       'taxamount', 'censustractandblock', 'logerror', 'transactiondate'],\n",
       "      dtype='object')"
      ]
     },
     "execution_count": 4,
     "metadata": {},
     "output_type": "execute_result"
    }
   ],
   "source": [
    "# sets thresh hold to 75 percent nulls\n",
    "threshold = df.shape[0] * .75\n",
    "\n",
    "# remove columns with high nulls\n",
    "df = df.dropna(axis=1, thresh=threshold)\n",
    "\n",
    "df.columns"
   ]
  },
  {
   "cell_type": "code",
   "execution_count": 5,
   "metadata": {},
   "outputs": [],
   "source": [
    "# sets thresh hold to 25 percent nulls\n",
    "thresh_hold = df.shape[1] * .75\n",
    "\n",
    "# remove rows with high nulls\n",
    "df = df.dropna(axis=0,thresh=thresh_hold)"
   ]
  },
  {
   "cell_type": "markdown",
   "metadata": {},
   "source": [
    "### Removing repeated/unecessary columns\n",
    "- multiple sqft columns\n",
    "- multiple county ids\n",
    "- multiple census tract and block ids"
   ]
  },
  {
   "cell_type": "code",
   "execution_count": 6,
   "metadata": {},
   "outputs": [],
   "source": [
    "# remove additional sqft\n",
    "df = df.drop(columns=['finishedsquarefeet12'])"
   ]
  },
  {
   "cell_type": "code",
   "execution_count": 7,
   "metadata": {},
   "outputs": [
    {
     "data": {
      "text/plain": [
       "3101.0    45697\n",
       "1286.0    18281\n",
       "2061.0     5900\n",
       "Name: regionidcounty, dtype: int64"
      ]
     },
     "execution_count": 7,
     "metadata": {},
     "output_type": "execute_result"
    }
   ],
   "source": [
    "# removing one of the county id columns\n",
    "df.regionidcounty.value_counts()"
   ]
  },
  {
   "cell_type": "code",
   "execution_count": 8,
   "metadata": {},
   "outputs": [
    {
     "data": {
      "text/plain": [
       "6037.0    45697\n",
       "6059.0    18281\n",
       "6111.0     5900\n",
       "Name: fips, dtype: int64"
      ]
     },
     "execution_count": 8,
     "metadata": {},
     "output_type": "execute_result"
    }
   ],
   "source": [
    "df.fips.value_counts()"
   ]
  },
  {
   "cell_type": "code",
   "execution_count": 9,
   "metadata": {},
   "outputs": [],
   "source": [
    "# region county id and fips are the same, removing longer columns name\n",
    "df = df.drop('regionidcounty',axis=1)"
   ]
  },
  {
   "cell_type": "code",
   "execution_count": 10,
   "metadata": {},
   "outputs": [
    {
     "data": {
      "text/plain": [
       "6.059052e+07    36\n",
       "6.059052e+07    34\n",
       "6.037920e+07    28\n",
       "6.037274e+07    25\n",
       "6.037142e+07    25\n",
       "                ..\n",
       "6.037575e+07     1\n",
       "6.037503e+07     1\n",
       "6.037482e+07     1\n",
       "6.037431e+07     1\n",
       "6.037431e+07     1\n",
       "Name: rawcensustractandblock, Length: 43095, dtype: int64"
      ]
     },
     "execution_count": 10,
     "metadata": {},
     "output_type": "execute_result"
    }
   ],
   "source": [
    "df.rawcensustractandblock.value_counts()"
   ]
  },
  {
   "cell_type": "code",
   "execution_count": 11,
   "metadata": {},
   "outputs": [
    {
     "data": {
      "text/plain": [
       "6.037142e+13    25\n",
       "6.037277e+13    25\n",
       "6.037920e+13    23\n",
       "6.037920e+13    23\n",
       "6.037920e+13    23\n",
       "                ..\n",
       "6.111001e+13     1\n",
       "6.037400e+13     1\n",
       "6.037238e+13     1\n",
       "6.037111e+13     1\n",
       "6.037911e+13     1\n",
       "Name: censustractandblock, Length: 42741, dtype: int64"
      ]
     },
     "execution_count": 11,
     "metadata": {},
     "output_type": "execute_result"
    }
   ],
   "source": [
    "df.censustractandblock.value_counts()"
   ]
  },
  {
   "cell_type": "code",
   "execution_count": 12,
   "metadata": {},
   "outputs": [],
   "source": [
    "# region county id and fips are the same, removing longer columns name\n",
    "df = df.drop('rawcensustractandblock',axis=1)"
   ]
  },
  {
   "cell_type": "markdown",
   "metadata": {},
   "source": [
    "# Removing Outliers Using IQR Rule\n",
    "- Before outliers have 70,364 rows\n",
    "- After, we have 63,084"
   ]
  },
  {
   "cell_type": "code",
   "execution_count": 13,
   "metadata": {},
   "outputs": [
    {
     "name": "stdout",
     "output_type": "stream",
     "text": [
      "column: calculatedfinishedsquarefeet \n",
      "IQR: 1317.0 \n",
      "Upper bound: 4049.5 \n",
      "Lower bound: -779.5 \n",
      "\n",
      "column: lotsizesquarefeet \n",
      "IQR: 6632.25 \n",
      "Upper bound: 20205.875 \n",
      "Lower bound: -4112.375 \n",
      "\n",
      "column: structuretaxvaluedollarcnt \n",
      "IQR: 188069.25 \n",
      "Upper bound: 485437.125 \n",
      "Lower bound: -204150.125 \n",
      "\n",
      "column: landtaxvaluedollarcnt \n",
      "IQR: 374597.625 \n",
      "Upper bound: 889017.4375 \n",
      "Lower bound: -484507.1875 \n",
      "\n",
      "column: taxamount \n",
      "IQR: 5588.126249999998 \n",
      "Upper bound: 14526.511874999997 \n",
      "Lower bound: -5963.284374999997 \n",
      "\n"
     ]
    }
   ],
   "source": [
    "columns = ['calculatedfinishedsquarefeet','lotsizesquarefeet','structuretaxvaluedollarcnt',\n",
    "           'landtaxvaluedollarcnt','taxamount']\n",
    "\n",
    "for x in columns:\n",
    "    \n",
    "    Q1 = df[x].quantile(0.25)\n",
    "    Q3 = df[x].quantile(0.75)\n",
    "    IQR = (Q3 - Q1) * 1.5\n",
    "    upper = Q3 + (1.5 * IQR)\n",
    "    lower = Q1 - (1.5 * IQR)\n",
    "    \n",
    "    print('column:', x,'\\nIQR:', IQR, '\\nUpper bound:', upper, '\\nLower bound:', lower, '\\n')"
   ]
  },
  {
   "cell_type": "code",
   "execution_count": 14,
   "metadata": {},
   "outputs": [],
   "source": [
    "for x in columns:\n",
    "    \n",
    "    Q1 = df[x].quantile(0.25)\n",
    "    Q3 = df[x].quantile(0.75)\n",
    "    IQR = (Q3 - Q1) * 1.5\n",
    "    upper = Q3 + (1.5 * IQR)\n",
    "    lower = Q1 - (1.5 * IQR)\n",
    "    \n",
    "    df = df[(df[x] > (lower)) | (df[x] < (upper))]"
   ]
  },
  {
   "cell_type": "code",
   "execution_count": 15,
   "metadata": {},
   "outputs": [
    {
     "data": {
      "text/plain": [
       "(63084, 25)"
      ]
     },
     "execution_count": 15,
     "metadata": {},
     "output_type": "execute_result"
    }
   ],
   "source": [
    "df.shape"
   ]
  },
  {
   "cell_type": "markdown",
   "metadata": {},
   "source": [
    "# Exploring leftover nulls to determine if dropping or imputing with mean, median, mode"
   ]
  },
  {
   "cell_type": "code",
   "execution_count": 16,
   "metadata": {
    "scrolled": true
   },
   "outputs": [
    {
     "data": {
      "text/plain": [
       "id                                 0\n",
       "parcelid                           0\n",
       "bathroomcnt                        0\n",
       "bedroomcnt                         0\n",
       "calculatedbathnbr                166\n",
       "calculatedfinishedsquarefeet       0\n",
       "fips                               0\n",
       "fullbathcnt                      166\n",
       "latitude                           0\n",
       "longitude                          0\n",
       "lotsizesquarefeet                  0\n",
       "propertycountylandusecode          0\n",
       "propertylandusetypeid              0\n",
       "regionidcity                    1055\n",
       "regionidzip                       41\n",
       "roomcnt                            0\n",
       "yearbuilt                         35\n",
       "structuretaxvaluedollarcnt         0\n",
       "taxvaluedollarcnt                  0\n",
       "assessmentyear                     0\n",
       "landtaxvaluedollarcnt              0\n",
       "taxamount                          0\n",
       "censustractandblock              237\n",
       "logerror                           0\n",
       "transactiondate                    0\n",
       "dtype: int64"
      ]
     },
     "execution_count": 16,
     "metadata": {},
     "output_type": "execute_result"
    }
   ],
   "source": [
    "df.isnull().sum()"
   ]
  },
  {
   "cell_type": "markdown",
   "metadata": {},
   "source": [
    "### Calculatedbathnbdr will be dealt with when creating features later\n",
    "### Fullbathcnt"
   ]
  },
  {
   "cell_type": "code",
   "execution_count": 17,
   "metadata": {},
   "outputs": [
    {
     "data": {
      "text/plain": [
       "2.0     31523\n",
       "3.0     14541\n",
       "1.0     12661\n",
       "4.0      2738\n",
       "5.0       931\n",
       "6.0       322\n",
       "7.0       123\n",
       "8.0        39\n",
       "9.0        24\n",
       "10.0        9\n",
       "11.0        3\n",
       "20.0        1\n",
       "13.0        1\n",
       "19.0        1\n",
       "12.0        1\n",
       "Name: fullbathcnt, dtype: int64"
      ]
     },
     "execution_count": 17,
     "metadata": {},
     "output_type": "execute_result"
    }
   ],
   "source": [
    "df.fullbathcnt.value_counts()"
   ]
  },
  {
   "cell_type": "markdown",
   "metadata": {},
   "source": [
    "- Fullbathcnt has 166 nulls\n",
    "- Most common value 2 has 35,694 observations\n",
    "- Will impute the nulls with this"
   ]
  },
  {
   "cell_type": "code",
   "execution_count": 18,
   "metadata": {},
   "outputs": [],
   "source": [
    "mode = df.fullbathcnt.mode()[0]\n",
    "\n",
    "df['fullbathcnt'] = df.fullbathcnt.fillna(mode)"
   ]
  },
  {
   "cell_type": "code",
   "execution_count": 19,
   "metadata": {},
   "outputs": [],
   "source": [
    "df['fullbathcnt'] = df.fullbathcnt.fillna(2)"
   ]
  },
  {
   "cell_type": "markdown",
   "metadata": {},
   "source": [
    "### Region ID City\n",
    "- has 1,055 nulls\n",
    "- we already have latitude and longitude with no nulls for location\n",
    "- will drop this column"
   ]
  },
  {
   "cell_type": "code",
   "execution_count": 20,
   "metadata": {},
   "outputs": [],
   "source": [
    "df = df.drop('regionidcity',axis=1)"
   ]
  },
  {
   "cell_type": "markdown",
   "metadata": {},
   "source": [
    "### Region ID Zip\n",
    "- will replace nulls with 90000 to represent no known zip code (but not create outliers by using 0)\n",
    "- can use latitude/longitude or clustering if necessary to determine actual values\n",
    "- however, for only 41 nulls it is not a significant amount to worry about"
   ]
  },
  {
   "cell_type": "code",
   "execution_count": 21,
   "metadata": {},
   "outputs": [
    {
     "data": {
      "text/plain": [
       "96193.0    519\n",
       "96368.0    517\n",
       "97118.0    512\n",
       "97319.0    479\n",
       "96361.0    473\n",
       "          ... \n",
       "95991.0      4\n",
       "96226.0      2\n",
       "96467.0      1\n",
       "97177.0      1\n",
       "96963.0      1\n",
       "Name: regionidzip, Length: 385, dtype: int64"
      ]
     },
     "execution_count": 21,
     "metadata": {},
     "output_type": "execute_result"
    }
   ],
   "source": [
    "df.regionidzip.value_counts()"
   ]
  },
  {
   "cell_type": "code",
   "execution_count": 22,
   "metadata": {},
   "outputs": [],
   "source": [
    "df['regionidzip'] = df.regionidzip.fillna(90_000)"
   ]
  },
  {
   "cell_type": "markdown",
   "metadata": {},
   "source": [
    "### Year Built\n",
    "- 35 nulls\n",
    "- not many nulls to be significant, will replace with mean"
   ]
  },
  {
   "cell_type": "code",
   "execution_count": 23,
   "metadata": {},
   "outputs": [
    {
     "data": {
      "text/plain": [
       "(1955.0    2174\n",
       " 1950.0    1850\n",
       " 1954.0    1843\n",
       " 1956.0    1704\n",
       " 1953.0    1596\n",
       "           ... \n",
       " 1862.0       1\n",
       " 1880.0       1\n",
       " 1889.0       1\n",
       " 2016.0       1\n",
       " 1893.0       1\n",
       " Name: yearbuilt, Length: 133, dtype: int64,\n",
       " 1963.5353931069485)"
      ]
     },
     "execution_count": 23,
     "metadata": {},
     "output_type": "execute_result"
    }
   ],
   "source": [
    "df.yearbuilt.value_counts(), df.yearbuilt.mean()"
   ]
  },
  {
   "cell_type": "code",
   "execution_count": 24,
   "metadata": {},
   "outputs": [],
   "source": [
    "df['yearbuilt'] = df.yearbuilt.fillna(1964)"
   ]
  },
  {
   "cell_type": "markdown",
   "metadata": {},
   "source": [
    "### censustractandblock\n",
    "- 237 nulls is not significant\n",
    "- will replace with mode"
   ]
  },
  {
   "cell_type": "code",
   "execution_count": 25,
   "metadata": {},
   "outputs": [
    {
     "data": {
      "text/plain": [
       "(6.037142e+13    24\n",
       " 6.037920e+13    23\n",
       " 6.037920e+13    23\n",
       " 6.037920e+13    23\n",
       " 6.037277e+13    23\n",
       "                 ..\n",
       " 6.037409e+13     1\n",
       " 6.037430e+13     1\n",
       " 6.037620e+13     1\n",
       " 6.111004e+13     1\n",
       " 6.037540e+13     1\n",
       " Name: censustractandblock, Length: 40846, dtype: int64,\n",
       " 0    6.037142e+13\n",
       " dtype: float64)"
      ]
     },
     "execution_count": 25,
     "metadata": {},
     "output_type": "execute_result"
    }
   ],
   "source": [
    "df.censustractandblock.value_counts(), df.censustractandblock.mode()"
   ]
  },
  {
   "cell_type": "code",
   "execution_count": 26,
   "metadata": {},
   "outputs": [],
   "source": [
    "mode = df.censustractandblock.mode()[0]\n",
    "\n",
    "df['censustractandblock'] = df.censustractandblock.fillna(mode)"
   ]
  },
  {
   "cell_type": "markdown",
   "metadata": {},
   "source": [
    "# Create Features"
   ]
  },
  {
   "cell_type": "markdown",
   "metadata": {},
   "source": [
    "### calculate our own bath_bed\n",
    "- we have a column from the database, however it has 215 nulls\n",
    "- bathroom and bedroom count by themselves have no nulls\n",
    "- calculate our own and drop the original"
   ]
  },
  {
   "cell_type": "code",
   "execution_count": 27,
   "metadata": {},
   "outputs": [],
   "source": [
    "df['bed_plus_bath'] = df.bathroomcnt + df.bedroomcnt\n",
    "df = df.drop('calculatedbathnbr',axis=1)"
   ]
  },
  {
   "cell_type": "code",
   "execution_count": 28,
   "metadata": {},
   "outputs": [
    {
     "data": {
      "text/plain": [
       "id                              0\n",
       "parcelid                        0\n",
       "bathroomcnt                     0\n",
       "bedroomcnt                      0\n",
       "calculatedfinishedsquarefeet    0\n",
       "fips                            0\n",
       "fullbathcnt                     0\n",
       "latitude                        0\n",
       "longitude                       0\n",
       "lotsizesquarefeet               0\n",
       "propertycountylandusecode       0\n",
       "propertylandusetypeid           0\n",
       "regionidzip                     0\n",
       "roomcnt                         0\n",
       "yearbuilt                       0\n",
       "structuretaxvaluedollarcnt      0\n",
       "taxvaluedollarcnt               0\n",
       "assessmentyear                  0\n",
       "landtaxvaluedollarcnt           0\n",
       "taxamount                       0\n",
       "censustractandblock             0\n",
       "logerror                        0\n",
       "transactiondate                 0\n",
       "bed_plus_bath                   0\n",
       "dtype: int64"
      ]
     },
     "execution_count": 28,
     "metadata": {},
     "output_type": "execute_result"
    }
   ],
   "source": [
    "df.isnull().sum()"
   ]
  },
  {
   "cell_type": "markdown",
   "metadata": {},
   "source": [
    "### All our nulls and outliers are removed, what other features could we create?"
   ]
  },
  {
   "cell_type": "markdown",
   "metadata": {},
   "source": [
    "## How many years has the house been around?\n",
    "- calculate by todays year - year built"
   ]
  },
  {
   "cell_type": "code",
   "execution_count": 29,
   "metadata": {},
   "outputs": [],
   "source": [
    "df['age'] = 2020 - df.yearbuilt"
   ]
  },
  {
   "cell_type": "markdown",
   "metadata": {},
   "source": [
    "## Dummy variables for year assessed?\n",
    "- could say assesed in 2016 or not\n",
    "- however, only 20 properties were not assessed in 2016\n",
    "- we can drop this feature"
   ]
  },
  {
   "cell_type": "code",
   "execution_count": 30,
   "metadata": {},
   "outputs": [
    {
     "data": {
      "text/plain": [
       "2016.0    63064\n",
       "2014.0       18\n",
       "2015.0        2\n",
       "Name: assessmentyear, dtype: int64"
      ]
     },
     "execution_count": 30,
     "metadata": {},
     "output_type": "execute_result"
    }
   ],
   "source": [
    "df.assessmentyear.value_counts()"
   ]
  },
  {
   "cell_type": "code",
   "execution_count": 31,
   "metadata": {},
   "outputs": [],
   "source": [
    "df = df.drop('assessmentyear',axis=1)"
   ]
  },
  {
   "cell_type": "markdown",
   "metadata": {},
   "source": [
    "## Transaction date by months? Range of 1-12"
   ]
  },
  {
   "cell_type": "code",
   "execution_count": 32,
   "metadata": {},
   "outputs": [
    {
     "data": {
      "text/plain": [
       "2017-06-30    1061\n",
       "2017-05-31     845\n",
       "2017-04-28     768\n",
       "2017-07-28     763\n",
       "2017-05-26     712\n",
       "              ... \n",
       "2017-07-09       1\n",
       "2017-04-08       1\n",
       "2017-08-05       1\n",
       "2017-09-25       1\n",
       "2017-09-10       1\n",
       "Name: transactiondate, Length: 256, dtype: int64"
      ]
     },
     "execution_count": 32,
     "metadata": {},
     "output_type": "execute_result"
    }
   ],
   "source": [
    "df.transactiondate.value_counts()"
   ]
  },
  {
   "cell_type": "code",
   "execution_count": 33,
   "metadata": {},
   "outputs": [],
   "source": [
    "# converting to string to use split method\n",
    "df['transactiondate'] = df.transactiondate.astype('str')\n",
    "\n",
    "# creating new feature as the second index (month) of the transacion date split\n",
    "df['transaction_month'] = df.transactiondate.str.split('-',expand=True)[1]"
   ]
  },
  {
   "cell_type": "markdown",
   "metadata": {},
   "source": [
    "## Tax Rate\n",
    "- tax paid for house / tax value of house * 100 = tax rate %"
   ]
  },
  {
   "cell_type": "code",
   "execution_count": 34,
   "metadata": {},
   "outputs": [],
   "source": [
    "df['tax_rate'] = (df.taxamount / df.taxvaluedollarcnt) * 100"
   ]
  },
  {
   "cell_type": "markdown",
   "metadata": {},
   "source": [
    "# Reorder/Rename Columns for Better Intuition"
   ]
  },
  {
   "cell_type": "code",
   "execution_count": 35,
   "metadata": {},
   "outputs": [
    {
     "data": {
      "text/plain": [
       "Index(['id', 'parcelid', 'bathroomcnt', 'bedroomcnt',\n",
       "       'calculatedfinishedsquarefeet', 'fips', 'fullbathcnt', 'latitude',\n",
       "       'longitude', 'lotsizesquarefeet', 'propertycountylandusecode',\n",
       "       'propertylandusetypeid', 'regionidzip', 'roomcnt', 'yearbuilt',\n",
       "       'structuretaxvaluedollarcnt', 'taxvaluedollarcnt',\n",
       "       'landtaxvaluedollarcnt', 'taxamount', 'censustractandblock', 'logerror',\n",
       "       'transactiondate', 'bed_plus_bath', 'age', 'transaction_month',\n",
       "       'tax_rate'],\n",
       "      dtype='object')"
      ]
     },
     "execution_count": 35,
     "metadata": {},
     "output_type": "execute_result"
    }
   ],
   "source": [
    "df.columns"
   ]
  },
  {
   "cell_type": "code",
   "execution_count": 37,
   "metadata": {},
   "outputs": [],
   "source": [
    "df.columns = ['index_id','parcel_id','bathrooms','bedrooms','property_sqft','county_id','full_bathrooms','latitude',\n",
    "             'longitude','lot_sqft','land_use_code','land_use_type','zip_code','room_count','year_built',\n",
    "             'structure_tax_value','tax_value','land_tax_value','tax_amount', 'census_id','log_error',\n",
    "              'transaction_date','bed_plus_bath','property_age','transaction_month','tax_rate'\n",
    "             ]"
   ]
  },
  {
   "cell_type": "code",
   "execution_count": 38,
   "metadata": {},
   "outputs": [
    {
     "data": {
      "text/plain": [
       "Index(['index_id', 'parcel_id', 'bathrooms', 'bedrooms', 'property_sqft',\n",
       "       'county_id', 'full_bathrooms', 'latitude', 'longitude', 'lot_sqft',\n",
       "       'land_use_code', 'land_use_type', 'zip_code', 'room_count',\n",
       "       'year_built', 'structure_tax_value', 'tax_value', 'land_tax_value',\n",
       "       'tax_amount', 'census_id', 'log_error', 'transaction_date',\n",
       "       'bed_plus_bath', 'property_age', 'transaction_month', 'tax_rate'],\n",
       "      dtype='object')"
      ]
     },
     "execution_count": 38,
     "metadata": {},
     "output_type": "execute_result"
    }
   ],
   "source": [
    "df.columns"
   ]
  },
  {
   "cell_type": "code",
   "execution_count": 39,
   "metadata": {},
   "outputs": [],
   "source": [
    "# Reordering columns\n",
    "df = df[['index_id', 'parcel_id',\n",
    "    'log_error', 'tax_value', 'structure_tax_value', 'land_tax_value', 'tax_amount',\n",
    "    'county_id', 'zip_code', 'latitude', 'longitude', 'census_id',\n",
    "    'bathrooms', 'bedrooms', 'full_bathrooms', 'bed_plus_bath', 'room_count',\n",
    "    'property_sqft', 'lot_sqft',\n",
    "    'land_use_code', 'land_use_type',\n",
    "    'year_built', 'property_age', 'transaction_date', 'transaction_month'\n",
    "   ]]"
   ]
  },
  {
   "cell_type": "markdown",
   "metadata": {},
   "source": [
    "## Convert Data Types to Correct Types"
   ]
  },
  {
   "cell_type": "code",
   "execution_count": 40,
   "metadata": {},
   "outputs": [
    {
     "name": "stdout",
     "output_type": "stream",
     "text": [
      "<class 'pandas.core.frame.DataFrame'>\n",
      "Int64Index: 63084 entries, 6 to 70363\n",
      "Data columns (total 25 columns):\n",
      " #   Column               Non-Null Count  Dtype  \n",
      "---  ------               --------------  -----  \n",
      " 0   index_id             63084 non-null  int64  \n",
      " 1   parcel_id            63084 non-null  int64  \n",
      " 2   log_error            63084 non-null  float64\n",
      " 3   tax_value            63084 non-null  float64\n",
      " 4   structure_tax_value  63084 non-null  float64\n",
      " 5   land_tax_value       63084 non-null  float64\n",
      " 6   tax_amount           63084 non-null  float64\n",
      " 7   county_id            63084 non-null  float64\n",
      " 8   zip_code             63084 non-null  float64\n",
      " 9   latitude             63084 non-null  float64\n",
      " 10  longitude            63084 non-null  float64\n",
      " 11  census_id            63084 non-null  float64\n",
      " 12  bathrooms            63084 non-null  float64\n",
      " 13  bedrooms             63084 non-null  float64\n",
      " 14  full_bathrooms       63084 non-null  float64\n",
      " 15  bed_plus_bath        63084 non-null  float64\n",
      " 16  room_count           63084 non-null  float64\n",
      " 17  property_sqft        63084 non-null  float64\n",
      " 18  lot_sqft             63084 non-null  float64\n",
      " 19  land_use_code        63084 non-null  object \n",
      " 20  land_use_type        63084 non-null  float64\n",
      " 21  year_built           63084 non-null  float64\n",
      " 22  property_age         63084 non-null  float64\n",
      " 23  transaction_date     63084 non-null  object \n",
      " 24  transaction_month    63084 non-null  object \n",
      "dtypes: float64(20), int64(2), object(3)\n",
      "memory usage: 12.5+ MB\n"
     ]
    }
   ],
   "source": [
    "df.info()"
   ]
  },
  {
   "cell_type": "markdown",
   "metadata": {},
   "source": [
    "- county id needs to be integer\n",
    "- zip code needs to be integer\n",
    "- room counts need to be integers\n",
    "- land use type needs to be integer\n",
    "- transaction month needs to be integer"
   ]
  },
  {
   "cell_type": "code",
   "execution_count": 45,
   "metadata": {},
   "outputs": [
    {
     "name": "stderr",
     "output_type": "stream",
     "text": [
      "/usr/local/anaconda3/lib/python3.7/site-packages/ipykernel_launcher.py:1: SettingWithCopyWarning: \n",
      "A value is trying to be set on a copy of a slice from a DataFrame.\n",
      "Try using .loc[row_indexer,col_indexer] = value instead\n",
      "\n",
      "See the caveats in the documentation: https://pandas.pydata.org/pandas-docs/stable/user_guide/indexing.html#returning-a-view-versus-a-copy\n",
      "  \"\"\"Entry point for launching an IPython kernel.\n",
      "/usr/local/anaconda3/lib/python3.7/site-packages/ipykernel_launcher.py:3: SettingWithCopyWarning: \n",
      "A value is trying to be set on a copy of a slice from a DataFrame.\n",
      "Try using .loc[row_indexer,col_indexer] = value instead\n",
      "\n",
      "See the caveats in the documentation: https://pandas.pydata.org/pandas-docs/stable/user_guide/indexing.html#returning-a-view-versus-a-copy\n",
      "  This is separate from the ipykernel package so we can avoid doing imports until\n",
      "/usr/local/anaconda3/lib/python3.7/site-packages/ipykernel_launcher.py:5: SettingWithCopyWarning: \n",
      "A value is trying to be set on a copy of a slice from a DataFrame.\n",
      "Try using .loc[row_indexer,col_indexer] = value instead\n",
      "\n",
      "See the caveats in the documentation: https://pandas.pydata.org/pandas-docs/stable/user_guide/indexing.html#returning-a-view-versus-a-copy\n",
      "  \"\"\"\n",
      "/usr/local/anaconda3/lib/python3.7/site-packages/ipykernel_launcher.py:7: SettingWithCopyWarning: \n",
      "A value is trying to be set on a copy of a slice from a DataFrame.\n",
      "Try using .loc[row_indexer,col_indexer] = value instead\n",
      "\n",
      "See the caveats in the documentation: https://pandas.pydata.org/pandas-docs/stable/user_guide/indexing.html#returning-a-view-versus-a-copy\n",
      "  import sys\n",
      "/usr/local/anaconda3/lib/python3.7/site-packages/ipykernel_launcher.py:9: SettingWithCopyWarning: \n",
      "A value is trying to be set on a copy of a slice from a DataFrame.\n",
      "Try using .loc[row_indexer,col_indexer] = value instead\n",
      "\n",
      "See the caveats in the documentation: https://pandas.pydata.org/pandas-docs/stable/user_guide/indexing.html#returning-a-view-versus-a-copy\n",
      "  if __name__ == '__main__':\n",
      "/usr/local/anaconda3/lib/python3.7/site-packages/ipykernel_launcher.py:11: SettingWithCopyWarning: \n",
      "A value is trying to be set on a copy of a slice from a DataFrame.\n",
      "Try using .loc[row_indexer,col_indexer] = value instead\n",
      "\n",
      "See the caveats in the documentation: https://pandas.pydata.org/pandas-docs/stable/user_guide/indexing.html#returning-a-view-versus-a-copy\n",
      "  # This is added back by InteractiveShellApp.init_path()\n",
      "/usr/local/anaconda3/lib/python3.7/site-packages/ipykernel_launcher.py:13: SettingWithCopyWarning: \n",
      "A value is trying to be set on a copy of a slice from a DataFrame.\n",
      "Try using .loc[row_indexer,col_indexer] = value instead\n",
      "\n",
      "See the caveats in the documentation: https://pandas.pydata.org/pandas-docs/stable/user_guide/indexing.html#returning-a-view-versus-a-copy\n",
      "  del sys.path[0]\n",
      "/usr/local/anaconda3/lib/python3.7/site-packages/ipykernel_launcher.py:15: SettingWithCopyWarning: \n",
      "A value is trying to be set on a copy of a slice from a DataFrame.\n",
      "Try using .loc[row_indexer,col_indexer] = value instead\n",
      "\n",
      "See the caveats in the documentation: https://pandas.pydata.org/pandas-docs/stable/user_guide/indexing.html#returning-a-view-versus-a-copy\n",
      "  from ipykernel import kernelapp as app\n",
      "/usr/local/anaconda3/lib/python3.7/site-packages/ipykernel_launcher.py:17: SettingWithCopyWarning: \n",
      "A value is trying to be set on a copy of a slice from a DataFrame.\n",
      "Try using .loc[row_indexer,col_indexer] = value instead\n",
      "\n",
      "See the caveats in the documentation: https://pandas.pydata.org/pandas-docs/stable/user_guide/indexing.html#returning-a-view-versus-a-copy\n"
     ]
    }
   ],
   "source": [
    "df['county_id'] = df.county_id.astype('int')\n",
    "\n",
    "df['zip_code'] = df.zip_code.astype('int')\n",
    "\n",
    "df['bathrooms'] = df.bathrooms.astype('int')\n",
    "\n",
    "df['bedrooms'] = df.bedrooms.astype('int')\n",
    "\n",
    "df['full_bathrooms'] = df.full_bathrooms.astype('int')\n",
    "\n",
    "df['bed_plus_bath'] = df.bed_plus_bath.astype('int')\n",
    "\n",
    "df['room_count'] = df.room_count.astype('int')\n",
    "\n",
    "df['land_use_type'] = df.land_use_type.astype('int')\n",
    "\n",
    "df['transaction_month'] = df.transaction_month.astype('int')"
   ]
  },
  {
   "cell_type": "code",
   "execution_count": 46,
   "metadata": {},
   "outputs": [
    {
     "name": "stdout",
     "output_type": "stream",
     "text": [
      "<class 'pandas.core.frame.DataFrame'>\n",
      "Int64Index: 63084 entries, 6 to 70363\n",
      "Data columns (total 25 columns):\n",
      " #   Column               Non-Null Count  Dtype  \n",
      "---  ------               --------------  -----  \n",
      " 0   index_id             63084 non-null  int64  \n",
      " 1   parcel_id            63084 non-null  int64  \n",
      " 2   log_error            63084 non-null  float64\n",
      " 3   tax_value            63084 non-null  float64\n",
      " 4   structure_tax_value  63084 non-null  float64\n",
      " 5   land_tax_value       63084 non-null  float64\n",
      " 6   tax_amount           63084 non-null  float64\n",
      " 7   county_id            63084 non-null  int64  \n",
      " 8   zip_code             63084 non-null  int64  \n",
      " 9   latitude             63084 non-null  float64\n",
      " 10  longitude            63084 non-null  float64\n",
      " 11  census_id            63084 non-null  float64\n",
      " 12  bathrooms            63084 non-null  int64  \n",
      " 13  bedrooms             63084 non-null  int64  \n",
      " 14  full_bathrooms       63084 non-null  int64  \n",
      " 15  bed_plus_bath        63084 non-null  int64  \n",
      " 16  room_count           63084 non-null  int64  \n",
      " 17  property_sqft        63084 non-null  float64\n",
      " 18  lot_sqft             63084 non-null  float64\n",
      " 19  land_use_code        63084 non-null  object \n",
      " 20  land_use_type        63084 non-null  int64  \n",
      " 21  year_built           63084 non-null  float64\n",
      " 22  property_age         63084 non-null  float64\n",
      " 23  transaction_date     63084 non-null  object \n",
      " 24  transaction_month    63084 non-null  int64  \n",
      "dtypes: float64(12), int64(11), object(2)\n",
      "memory usage: 12.5+ MB\n"
     ]
    }
   ],
   "source": [
    "df.info()"
   ]
  },
  {
   "cell_type": "markdown",
   "metadata": {},
   "source": [
    "# Put all together into a function for the Prepare.py module"
   ]
  },
  {
   "cell_type": "code",
   "execution_count": null,
   "metadata": {},
   "outputs": [],
   "source": [
    "def prepare_zillow():\n",
    "    '''\n",
    "    Acquire and prepare the zillow data obtained from the SQL database.\n",
    "    Nulls are removed/replaced, outliers are removed, new features are created,\n",
    "    and columns are renamed/rearranged. Returns the prepped df.\n",
    "    '''\n",
    "    # acquire the data from module\n",
    "    df = acquire.get_home_data()\n",
    "    \n",
    "    # Removing Nulls from Columns\n",
    "    # sets thresh hold to 75 percent nulls, if more than %25 nulls it will be removed\n",
    "    threshold = df.shape[0] * .75\n",
    "\n",
    "    # remove columns with specified threshold\n",
    "    df = df.dropna(axis=1, thresh=threshold)\n",
    "    \n",
    "    # Removing Nulls from Rows\n",
    "    # sets thresh hold to 75 percent nulls, if more than %25 nulls it will be removed\n",
    "    thresh_hold = df.shape[1] * .75\n",
    "\n",
    "    # remove rows with specified threshold\n",
    "    df = df.dropna(axis=0,thresh=thresh_hold)\n",
    "    \n",
    "    # Removing Columns with Repeated Data/Unecessary Data\n",
    "    # don't need additional sqft, county id/city, assessment year, and census columns\n",
    "    df = df.drop(columns=['finishedsquarefeet12', 'regionidcounty', 'rawcensustractandblock',\n",
    "                          'regionidcity','assessmentyear'], axis=1)\n",
    "    \n",
    "    # Removing Outliers from Continuous Variables\n",
    "    # assigning columns to remove outliers\n",
    "    columns = ['calculatedfinishedsquarefeet','lotsizesquarefeet','structuretaxvaluedollarcnt',\n",
    "           'landtaxvaluedollarcnt','taxamount']\n",
    "    \n",
    "    # looping through continuous variables to remove outliers\n",
    "    for x in columns:\n",
    "    \n",
    "        # calculate IQR\n",
    "        Q1 = df[x].quantile(0.25)\n",
    "        Q3 = df[x].quantile(0.75)\n",
    "        IQR = (Q3 - Q1) * 1.5\n",
    "        \n",
    "        # calculate upper and lower bounds, outlier if above or below these\n",
    "        upper = Q3 + (1.5 * IQR)\n",
    "        lower = Q1 - (1.5 * IQR)\n",
    "    \n",
    "        # creates df of values that are within the outlier bounds\n",
    "        df = df[(df[x] > (lower)) | (df[x] < (upper))]\n",
    "        \n",
    "    # Filling Leftover Nulls by Columns\n",
    "    # Full Bathroom Count Nulls\n",
    "    # mode of bathroomcnt\n",
    "    fullbath_mode = df.fullbathcnt.mode()[0]\n",
    "    # filling nulls with the mode\n",
    "    df['fullbathcnt'] = df.fullbathcnt.fillna(fullbath_mode)\n",
    "    \n",
    "    # Region Zip Code Nulls\n",
    "    # filling with 90000 to represent no known zipcode (0 would skew the data)\n",
    "    df['regionidzip'] = df.regionidzip.fillna(90_000)\n",
    "    \n",
    "    # Year Built Nulls\n",
    "    # average of property year built\n",
    "    year_avg = round(df.yearbuilt.mean())\n",
    "    # filling nulls with average year built\n",
    "    df['yearbuilt'] = df.yearbuilt.fillna(year_avg)\n",
    "    \n",
    "    # Census Tract and Block Nulls\n",
    "    # mode of census tract and block\n",
    "    census_mode = df.censustractandblock.mode()[0]\n",
    "    # filling nulls with mode\n",
    "    df['censustractandblock'] = df.censustractandblock.fillna(mode)\n",
    "    \n",
    "    # Feature Engineering - creating columns\n",
    "    # calculating bed+bath from 0 null columns of bedroom/bathroom count\n",
    "    df['bed_plus_bath'] = df.bathroomcnt + df.bedroomcnt\n",
    "    # droping original calculated field that had nulls\n",
    "    df = df.drop('calculatedbathnbr',axis=1)\n",
    "    \n",
    "    # Property Age\n",
    "    # current year minus year built\n",
    "    df['age'] = 2020 - df.yearbuilt\n",
    "    \n",
    "    # Transaction Month\n",
    "    # converting date to string to use split method\n",
    "    df['transactiondate'] = df.transactiondate.astype('str')\n",
    "    # creating new feature as the second index (month) of the transaction date split\n",
    "    df['transaction_month'] = df.transactiondate.str.split('-',expand=True)[1]\n",
    "    \n",
    "    # Calculating Tax Rate for Property\n",
    "    # Tax paid / tax value * 100 = tax rate %\n",
    "    df['tax_rate'] = (df.taxamount / df.taxvaluedollarcnt) * 100\n",
    "    \n",
    "    # Renaming Columns\n",
    "    df.columns = ['index_id', 'parcel_id', 'bathrooms', 'bedrooms', 'property_sqft', 'county_id', 'full_bathrooms',\n",
    "                  'latitude', 'longitude', 'lot_sqft', 'land_use_code', 'land_use_type', 'zip_code', 'room_count',\n",
    "                  'year_built', 'structure_tax_value', 'tax_value', 'land_tax_value', 'tax_amount', 'census_id',\n",
    "                  'log_error', 'transaction_date', 'bed_plus_bath', 'property_age', 'transaction_month','tax_rate'\n",
    "             ]\n",
    "    \n",
    "    # Reordering Columns\n",
    "    df = df[['index_id', 'parcel_id',\n",
    "        'log_error', 'tax_value', 'structure_tax_value', 'land_tax_value', 'tax_amount', 'tax_rate',\n",
    "        'county_id', 'zip_code', 'latitude', 'longitude', 'census_id',\n",
    "        'bathrooms', 'bedrooms', 'full_bathrooms', 'bed_plus_bath', 'room_count',\n",
    "        'property_sqft', 'lot_sqft',\n",
    "        'land_use_code', 'land_use_type',\n",
    "        'year_built', 'property_age', 'transaction_date', 'transaction_month'\n",
    "       ]]\n",
    "    \n",
    "    return df"
   ]
  },
  {
   "cell_type": "markdown",
   "metadata": {},
   "source": [
    "# Preprocessing Function - Preparing Data For Explore/Modeling"
   ]
  },
  {
   "cell_type": "markdown",
   "metadata": {},
   "source": [
    "## split the data"
   ]
  },
  {
   "cell_type": "code",
   "execution_count": null,
   "metadata": {},
   "outputs": [],
   "source": [
    "from sklearn.model_selection import train_test_split\n",
    "\n",
    "def train_validate_test(df): \n",
    "    \n",
    "    '''\n",
    "    Split a df into train, validate, and test.\n",
    "    70% - 20% - 10% respectively.\n",
    "    Returns the three split dfs.\n",
    "    '''\n",
    "    \n",
    "    # split into train, validate, and test sets\n",
    "    train_and_validate, test = train_test_split(df, test_size = .10, random_state=123)\n",
    "    train, validate = train_test_split(train_and_validate, test_size = .22, random_state=123)\n",
    "\n",
    "    # These two print functions allow us to ensure the date is properly split\n",
    "    # Will print the shape of each variable when running the function\n",
    "    print(\"train shape: \", train.shape, \", validate shape: \", validate.shape, \", test shape: \", test.shape)\n",
    "\n",
    "    # Will print the shape of eachvariable as a percentage of the total data set\n",
    "    # Varialbe to hold the sum of all rows (total observations in the data)\n",
    "    total = df.count()[0]\n",
    "    print(\"\\ntrain percent: \", round(((train.shape[0])/total),2) * 100, \n",
    "            \", validate percent: \", round(((validate.shape[0])/total),2) * 100, \n",
    "            \", test percent: \", round(((test.shape[0])/total),2) * 100)\n",
    "    \n",
    "    return train, validate, test"
   ]
  },
  {
   "cell_type": "code",
   "execution_count": null,
   "metadata": {},
   "outputs": [],
   "source": [
    "train, validate, test = train_validate_test(df)"
   ]
  },
  {
   "cell_type": "code",
   "execution_count": null,
   "metadata": {},
   "outputs": [],
   "source": [
    "train.head(1).T"
   ]
  },
  {
   "cell_type": "code",
   "execution_count": null,
   "metadata": {},
   "outputs": [],
   "source": [
    "X_train = train.drop('log_error', axis=1)\n",
    "y_train = train[['log_error']]\n",
    "\n",
    "X_validate = validate.drop('log_error', axis=1)\n",
    "y_validate = validate[['log_error']]\n",
    "\n",
    "X_test = test.drop('log_error',axis=1)\n",
    "y_test = test[['log_error']]"
   ]
  },
  {
   "cell_type": "markdown",
   "metadata": {},
   "source": [
    "## scale the data"
   ]
  },
  {
   "cell_type": "code",
   "execution_count": null,
   "metadata": {},
   "outputs": [],
   "source": [
    "from sklearn.model_selection import train_test_split \n",
    "import sklearn.preprocessing\n",
    "\n",
    "def scale_data(train, validate, test):\n",
    "\n",
    "    columns_to_scale = ['tax_value','structure_tax_value','land_tax_value','tax_amount',\n",
    "                       'bathrooms','bedrooms','bed_plus_bath','room_count','property_sqft',\n",
    "                       'lot_sqft']\n",
    "    \n",
    "    # 1. Create the Scaling Object\n",
    "    scaler = sklearn.preprocessing.StandardScaler()\n",
    "\n",
    "    # 2. Fit to the train data only\n",
    "    scaler.fit(train[columns_to_scale])\n",
    "\n",
    "    # 3. use the object on the whole df\n",
    "    # this returns an array, so we convert to df in the same line\n",
    "    train_scaled = pd.DataFrame(scaler.transform(train[columns_to_scale]))\n",
    "    validate_scaled = pd.DataFrame(scaler.transform(validate[columns_to_scale]))\n",
    "    test_scaled = pd.DataFrame(scaler.transform(test[columns_to_scale]))\n",
    "\n",
    "    # the result of changing an array to a df resets the index and columns\n",
    "    # for each train, validate, and test, we change the index and columns back to original values\n",
    "\n",
    "    # Train\n",
    "    train_scaled.index = train[columns_to_scale].index\n",
    "    train_scaled.columns = train[columns_to_scale].columns\n",
    "\n",
    "    # Validate\n",
    "    validate_scaled.index = validate[columns_to_scale].index\n",
    "    validate_scaled.columns = validate[columns_to_scale].columns\n",
    "\n",
    "    # Test\n",
    "    test_scaled.index = test[columns_to_scale].index\n",
    "    test_scaled.columns = test[columns_to_scale].columns\n",
    "\n",
    "    return train_scaled, validate_scaled, test_scaled"
   ]
  },
  {
   "cell_type": "code",
   "execution_count": null,
   "metadata": {},
   "outputs": [],
   "source": [
    "train_scaled, validate_scaled, test_scaled = scale_data(train, test, validate)"
   ]
  },
  {
   "cell_type": "code",
   "execution_count": null,
   "metadata": {},
   "outputs": [],
   "source": [
    "train_scaled"
   ]
  },
  {
   "cell_type": "markdown",
   "metadata": {},
   "source": [
    "## Put together into the prepare function\n",
    "- split will go inside the prep_zillow() function\n",
    "- scale will go in a seperate function in the prepare.py"
   ]
  }
 ],
 "metadata": {
  "kernelspec": {
   "display_name": "Python 3",
   "language": "python",
   "name": "python3"
  },
  "language_info": {
   "codemirror_mode": {
    "name": "ipython",
    "version": 3
   },
   "file_extension": ".py",
   "mimetype": "text/x-python",
   "name": "python",
   "nbconvert_exporter": "python",
   "pygments_lexer": "ipython3",
   "version": "3.7.6"
  }
 },
 "nbformat": 4,
 "nbformat_minor": 4
}
