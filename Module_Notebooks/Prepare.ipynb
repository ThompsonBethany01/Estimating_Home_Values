{
 "cells": [
  {
   "cell_type": "markdown",
   "metadata": {},
   "source": [
    "# Prepping the Data\n",
    "We need to\n",
    "- [x] remove high null columns and rows\n",
    "- [x] remove unnecessary columns\n",
    "- [x] remove outliers\n",
    "- [x] impute/remove leftover nulls\n",
    "- [x] create new features\n",
    "- [X] reorder/rename columns\n",
    "- [ ] put into one function\n",
    "\n",
    "Preprocessing\n",
    "- [ ] scale the data\n",
    "- [ ] split into train, validate, test (stratify)"
   ]
  },
  {
   "cell_type": "code",
   "execution_count": 1,
   "metadata": {},
   "outputs": [],
   "source": [
    "import acquire\n",
    "\n",
    "import numpy as np\n",
    "import pandas as pd\n",
    "import matplotlib.pyplot as plt\n",
    "import seaborn as sns"
   ]
  },
  {
   "cell_type": "code",
   "execution_count": 2,
   "metadata": {},
   "outputs": [],
   "source": [
    "df = acquire.get_home_data()"
   ]
  },
  {
   "cell_type": "code",
   "execution_count": 3,
   "metadata": {
    "scrolled": true
   },
   "outputs": [
    {
     "data": {
      "text/html": [
       "<div>\n",
       "<style scoped>\n",
       "    .dataframe tbody tr th:only-of-type {\n",
       "        vertical-align: middle;\n",
       "    }\n",
       "\n",
       "    .dataframe tbody tr th {\n",
       "        vertical-align: top;\n",
       "    }\n",
       "\n",
       "    .dataframe thead th {\n",
       "        text-align: right;\n",
       "    }\n",
       "</style>\n",
       "<table border=\"1\" class=\"dataframe\">\n",
       "  <thead>\n",
       "    <tr style=\"text-align: right;\">\n",
       "      <th></th>\n",
       "      <th>id</th>\n",
       "      <th>parcelid</th>\n",
       "      <th>airconditioningtypeid</th>\n",
       "      <th>architecturalstyletypeid</th>\n",
       "      <th>basementsqft</th>\n",
       "      <th>bathroomcnt</th>\n",
       "      <th>bedroomcnt</th>\n",
       "      <th>buildingclasstypeid</th>\n",
       "      <th>buildingqualitytypeid</th>\n",
       "      <th>calculatedbathnbr</th>\n",
       "      <th>...</th>\n",
       "      <th>structuretaxvaluedollarcnt</th>\n",
       "      <th>taxvaluedollarcnt</th>\n",
       "      <th>assessmentyear</th>\n",
       "      <th>landtaxvaluedollarcnt</th>\n",
       "      <th>taxamount</th>\n",
       "      <th>taxdelinquencyflag</th>\n",
       "      <th>taxdelinquencyyear</th>\n",
       "      <th>censustractandblock</th>\n",
       "      <th>logerror</th>\n",
       "      <th>transactiondate</th>\n",
       "    </tr>\n",
       "  </thead>\n",
       "  <tbody>\n",
       "    <tr>\n",
       "      <th>0</th>\n",
       "      <td>1</td>\n",
       "      <td>10759547</td>\n",
       "      <td>NaN</td>\n",
       "      <td>NaN</td>\n",
       "      <td>NaN</td>\n",
       "      <td>0.0</td>\n",
       "      <td>0.0</td>\n",
       "      <td>NaN</td>\n",
       "      <td>NaN</td>\n",
       "      <td>NaN</td>\n",
       "      <td>...</td>\n",
       "      <td>NaN</td>\n",
       "      <td>27516.0</td>\n",
       "      <td>2015.0</td>\n",
       "      <td>27516.0</td>\n",
       "      <td>NaN</td>\n",
       "      <td>NaN</td>\n",
       "      <td>NaN</td>\n",
       "      <td>NaN</td>\n",
       "      <td>0.055619</td>\n",
       "      <td>2017-01-01</td>\n",
       "    </tr>\n",
       "    <tr>\n",
       "      <th>1</th>\n",
       "      <td>6</td>\n",
       "      <td>10933547</td>\n",
       "      <td>NaN</td>\n",
       "      <td>NaN</td>\n",
       "      <td>NaN</td>\n",
       "      <td>0.0</td>\n",
       "      <td>0.0</td>\n",
       "      <td>NaN</td>\n",
       "      <td>NaN</td>\n",
       "      <td>NaN</td>\n",
       "      <td>...</td>\n",
       "      <td>404013.0</td>\n",
       "      <td>563029.0</td>\n",
       "      <td>2016.0</td>\n",
       "      <td>159016.0</td>\n",
       "      <td>6773.34</td>\n",
       "      <td>NaN</td>\n",
       "      <td>NaN</td>\n",
       "      <td>NaN</td>\n",
       "      <td>-0.001011</td>\n",
       "      <td>2017-01-01</td>\n",
       "    </tr>\n",
       "    <tr>\n",
       "      <th>2</th>\n",
       "      <td>14</td>\n",
       "      <td>11142747</td>\n",
       "      <td>NaN</td>\n",
       "      <td>NaN</td>\n",
       "      <td>NaN</td>\n",
       "      <td>0.0</td>\n",
       "      <td>0.0</td>\n",
       "      <td>NaN</td>\n",
       "      <td>NaN</td>\n",
       "      <td>NaN</td>\n",
       "      <td>...</td>\n",
       "      <td>NaN</td>\n",
       "      <td>4265.0</td>\n",
       "      <td>2015.0</td>\n",
       "      <td>4265.0</td>\n",
       "      <td>NaN</td>\n",
       "      <td>NaN</td>\n",
       "      <td>NaN</td>\n",
       "      <td>NaN</td>\n",
       "      <td>-0.008935</td>\n",
       "      <td>2017-01-02</td>\n",
       "    </tr>\n",
       "    <tr>\n",
       "      <th>3</th>\n",
       "      <td>15</td>\n",
       "      <td>11193347</td>\n",
       "      <td>NaN</td>\n",
       "      <td>NaN</td>\n",
       "      <td>NaN</td>\n",
       "      <td>0.0</td>\n",
       "      <td>0.0</td>\n",
       "      <td>NaN</td>\n",
       "      <td>NaN</td>\n",
       "      <td>NaN</td>\n",
       "      <td>...</td>\n",
       "      <td>NaN</td>\n",
       "      <td>10.0</td>\n",
       "      <td>2016.0</td>\n",
       "      <td>10.0</td>\n",
       "      <td>NaN</td>\n",
       "      <td>NaN</td>\n",
       "      <td>NaN</td>\n",
       "      <td>NaN</td>\n",
       "      <td>0.008669</td>\n",
       "      <td>2017-01-02</td>\n",
       "    </tr>\n",
       "    <tr>\n",
       "      <th>4</th>\n",
       "      <td>16</td>\n",
       "      <td>11215747</td>\n",
       "      <td>NaN</td>\n",
       "      <td>NaN</td>\n",
       "      <td>NaN</td>\n",
       "      <td>0.0</td>\n",
       "      <td>0.0</td>\n",
       "      <td>NaN</td>\n",
       "      <td>NaN</td>\n",
       "      <td>NaN</td>\n",
       "      <td>...</td>\n",
       "      <td>NaN</td>\n",
       "      <td>10.0</td>\n",
       "      <td>2016.0</td>\n",
       "      <td>10.0</td>\n",
       "      <td>NaN</td>\n",
       "      <td>NaN</td>\n",
       "      <td>NaN</td>\n",
       "      <td>NaN</td>\n",
       "      <td>-0.021896</td>\n",
       "      <td>2017-01-02</td>\n",
       "    </tr>\n",
       "    <tr>\n",
       "      <th>...</th>\n",
       "      <td>...</td>\n",
       "      <td>...</td>\n",
       "      <td>...</td>\n",
       "      <td>...</td>\n",
       "      <td>...</td>\n",
       "      <td>...</td>\n",
       "      <td>...</td>\n",
       "      <td>...</td>\n",
       "      <td>...</td>\n",
       "      <td>...</td>\n",
       "      <td>...</td>\n",
       "      <td>...</td>\n",
       "      <td>...</td>\n",
       "      <td>...</td>\n",
       "      <td>...</td>\n",
       "      <td>...</td>\n",
       "      <td>...</td>\n",
       "      <td>...</td>\n",
       "      <td>...</td>\n",
       "      <td>...</td>\n",
       "      <td>...</td>\n",
       "    </tr>\n",
       "    <tr>\n",
       "      <th>70359</th>\n",
       "      <td>77609</td>\n",
       "      <td>11212539</td>\n",
       "      <td>1.0</td>\n",
       "      <td>NaN</td>\n",
       "      <td>NaN</td>\n",
       "      <td>3.0</td>\n",
       "      <td>4.0</td>\n",
       "      <td>NaN</td>\n",
       "      <td>8.0</td>\n",
       "      <td>3.0</td>\n",
       "      <td>...</td>\n",
       "      <td>129566.0</td>\n",
       "      <td>162019.0</td>\n",
       "      <td>2016.0</td>\n",
       "      <td>32453.0</td>\n",
       "      <td>2860.33</td>\n",
       "      <td>NaN</td>\n",
       "      <td>NaN</td>\n",
       "      <td>6.037911e+13</td>\n",
       "      <td>0.020615</td>\n",
       "      <td>2017-09-20</td>\n",
       "    </tr>\n",
       "    <tr>\n",
       "      <th>70360</th>\n",
       "      <td>77610</td>\n",
       "      <td>11212639</td>\n",
       "      <td>1.0</td>\n",
       "      <td>NaN</td>\n",
       "      <td>NaN</td>\n",
       "      <td>3.0</td>\n",
       "      <td>4.0</td>\n",
       "      <td>NaN</td>\n",
       "      <td>8.0</td>\n",
       "      <td>3.0</td>\n",
       "      <td>...</td>\n",
       "      <td>100744.0</td>\n",
       "      <td>125923.0</td>\n",
       "      <td>2016.0</td>\n",
       "      <td>25179.0</td>\n",
       "      <td>2394.26</td>\n",
       "      <td>NaN</td>\n",
       "      <td>NaN</td>\n",
       "      <td>6.037911e+13</td>\n",
       "      <td>0.013209</td>\n",
       "      <td>2017-09-21</td>\n",
       "    </tr>\n",
       "    <tr>\n",
       "      <th>70361</th>\n",
       "      <td>77611</td>\n",
       "      <td>11212962</td>\n",
       "      <td>1.0</td>\n",
       "      <td>NaN</td>\n",
       "      <td>NaN</td>\n",
       "      <td>2.0</td>\n",
       "      <td>3.0</td>\n",
       "      <td>NaN</td>\n",
       "      <td>6.0</td>\n",
       "      <td>2.0</td>\n",
       "      <td>...</td>\n",
       "      <td>149241.0</td>\n",
       "      <td>198988.0</td>\n",
       "      <td>2016.0</td>\n",
       "      <td>49747.0</td>\n",
       "      <td>3331.81</td>\n",
       "      <td>NaN</td>\n",
       "      <td>NaN</td>\n",
       "      <td>6.037911e+13</td>\n",
       "      <td>0.037129</td>\n",
       "      <td>2017-09-21</td>\n",
       "    </tr>\n",
       "    <tr>\n",
       "      <th>70362</th>\n",
       "      <td>77612</td>\n",
       "      <td>11213162</td>\n",
       "      <td>1.0</td>\n",
       "      <td>NaN</td>\n",
       "      <td>NaN</td>\n",
       "      <td>3.0</td>\n",
       "      <td>3.0</td>\n",
       "      <td>NaN</td>\n",
       "      <td>8.0</td>\n",
       "      <td>3.0</td>\n",
       "      <td>...</td>\n",
       "      <td>118900.0</td>\n",
       "      <td>148600.0</td>\n",
       "      <td>2016.0</td>\n",
       "      <td>29700.0</td>\n",
       "      <td>2510.53</td>\n",
       "      <td>NaN</td>\n",
       "      <td>NaN</td>\n",
       "      <td>6.037911e+13</td>\n",
       "      <td>0.007204</td>\n",
       "      <td>2017-09-25</td>\n",
       "    </tr>\n",
       "    <tr>\n",
       "      <th>70363</th>\n",
       "      <td>77613</td>\n",
       "      <td>11213262</td>\n",
       "      <td>1.0</td>\n",
       "      <td>NaN</td>\n",
       "      <td>NaN</td>\n",
       "      <td>3.0</td>\n",
       "      <td>4.0</td>\n",
       "      <td>NaN</td>\n",
       "      <td>8.0</td>\n",
       "      <td>3.0</td>\n",
       "      <td>...</td>\n",
       "      <td>104239.0</td>\n",
       "      <td>130296.0</td>\n",
       "      <td>2016.0</td>\n",
       "      <td>26057.0</td>\n",
       "      <td>2470.35</td>\n",
       "      <td>Y</td>\n",
       "      <td>10.0</td>\n",
       "      <td>6.037911e+13</td>\n",
       "      <td>-0.197755</td>\n",
       "      <td>2018-05-25</td>\n",
       "    </tr>\n",
       "  </tbody>\n",
       "</table>\n",
       "<p>70364 rows × 61 columns</p>\n",
       "</div>"
      ],
      "text/plain": [
       "          id  parcelid  airconditioningtypeid  architecturalstyletypeid  \\\n",
       "0          1  10759547                    NaN                       NaN   \n",
       "1          6  10933547                    NaN                       NaN   \n",
       "2         14  11142747                    NaN                       NaN   \n",
       "3         15  11193347                    NaN                       NaN   \n",
       "4         16  11215747                    NaN                       NaN   \n",
       "...      ...       ...                    ...                       ...   \n",
       "70359  77609  11212539                    1.0                       NaN   \n",
       "70360  77610  11212639                    1.0                       NaN   \n",
       "70361  77611  11212962                    1.0                       NaN   \n",
       "70362  77612  11213162                    1.0                       NaN   \n",
       "70363  77613  11213262                    1.0                       NaN   \n",
       "\n",
       "       basementsqft  bathroomcnt  bedroomcnt  buildingclasstypeid  \\\n",
       "0               NaN          0.0         0.0                  NaN   \n",
       "1               NaN          0.0         0.0                  NaN   \n",
       "2               NaN          0.0         0.0                  NaN   \n",
       "3               NaN          0.0         0.0                  NaN   \n",
       "4               NaN          0.0         0.0                  NaN   \n",
       "...             ...          ...         ...                  ...   \n",
       "70359           NaN          3.0         4.0                  NaN   \n",
       "70360           NaN          3.0         4.0                  NaN   \n",
       "70361           NaN          2.0         3.0                  NaN   \n",
       "70362           NaN          3.0         3.0                  NaN   \n",
       "70363           NaN          3.0         4.0                  NaN   \n",
       "\n",
       "       buildingqualitytypeid  calculatedbathnbr  ...  \\\n",
       "0                        NaN                NaN  ...   \n",
       "1                        NaN                NaN  ...   \n",
       "2                        NaN                NaN  ...   \n",
       "3                        NaN                NaN  ...   \n",
       "4                        NaN                NaN  ...   \n",
       "...                      ...                ...  ...   \n",
       "70359                    8.0                3.0  ...   \n",
       "70360                    8.0                3.0  ...   \n",
       "70361                    6.0                2.0  ...   \n",
       "70362                    8.0                3.0  ...   \n",
       "70363                    8.0                3.0  ...   \n",
       "\n",
       "       structuretaxvaluedollarcnt  taxvaluedollarcnt  assessmentyear  \\\n",
       "0                             NaN            27516.0          2015.0   \n",
       "1                        404013.0           563029.0          2016.0   \n",
       "2                             NaN             4265.0          2015.0   \n",
       "3                             NaN               10.0          2016.0   \n",
       "4                             NaN               10.0          2016.0   \n",
       "...                           ...                ...             ...   \n",
       "70359                    129566.0           162019.0          2016.0   \n",
       "70360                    100744.0           125923.0          2016.0   \n",
       "70361                    149241.0           198988.0          2016.0   \n",
       "70362                    118900.0           148600.0          2016.0   \n",
       "70363                    104239.0           130296.0          2016.0   \n",
       "\n",
       "       landtaxvaluedollarcnt  taxamount  taxdelinquencyflag  \\\n",
       "0                    27516.0        NaN                 NaN   \n",
       "1                   159016.0    6773.34                 NaN   \n",
       "2                     4265.0        NaN                 NaN   \n",
       "3                       10.0        NaN                 NaN   \n",
       "4                       10.0        NaN                 NaN   \n",
       "...                      ...        ...                 ...   \n",
       "70359                32453.0    2860.33                 NaN   \n",
       "70360                25179.0    2394.26                 NaN   \n",
       "70361                49747.0    3331.81                 NaN   \n",
       "70362                29700.0    2510.53                 NaN   \n",
       "70363                26057.0    2470.35                   Y   \n",
       "\n",
       "       taxdelinquencyyear  censustractandblock  logerror  transactiondate  \n",
       "0                     NaN                  NaN  0.055619       2017-01-01  \n",
       "1                     NaN                  NaN -0.001011       2017-01-01  \n",
       "2                     NaN                  NaN -0.008935       2017-01-02  \n",
       "3                     NaN                  NaN  0.008669       2017-01-02  \n",
       "4                     NaN                  NaN -0.021896       2017-01-02  \n",
       "...                   ...                  ...       ...              ...  \n",
       "70359                 NaN         6.037911e+13  0.020615       2017-09-20  \n",
       "70360                 NaN         6.037911e+13  0.013209       2017-09-21  \n",
       "70361                 NaN         6.037911e+13  0.037129       2017-09-21  \n",
       "70362                 NaN         6.037911e+13  0.007204       2017-09-25  \n",
       "70363                10.0         6.037911e+13 -0.197755       2018-05-25  \n",
       "\n",
       "[70364 rows x 61 columns]"
      ]
     },
     "execution_count": 3,
     "metadata": {},
     "output_type": "execute_result"
    }
   ],
   "source": [
    "df"
   ]
  },
  {
   "cell_type": "markdown",
   "metadata": {},
   "source": [
    "# Remove Nulls in Columns/Rows"
   ]
  },
  {
   "cell_type": "code",
   "execution_count": 4,
   "metadata": {},
   "outputs": [
    {
     "data": {
      "text/plain": [
       "Index(['id', 'parcelid', 'bathroomcnt', 'bedroomcnt', 'calculatedbathnbr',\n",
       "       'calculatedfinishedsquarefeet', 'finishedsquarefeet12', 'fips',\n",
       "       'fullbathcnt', 'latitude', 'longitude', 'lotsizesquarefeet',\n",
       "       'propertycountylandusecode', 'propertylandusetypeid',\n",
       "       'rawcensustractandblock', 'regionidcity', 'regionidcounty',\n",
       "       'regionidzip', 'roomcnt', 'yearbuilt', 'structuretaxvaluedollarcnt',\n",
       "       'taxvaluedollarcnt', 'assessmentyear', 'landtaxvaluedollarcnt',\n",
       "       'taxamount', 'censustractandblock', 'logerror', 'transactiondate'],\n",
       "      dtype='object')"
      ]
     },
     "execution_count": 4,
     "metadata": {},
     "output_type": "execute_result"
    }
   ],
   "source": [
    "# sets thresh hold to 75 percent nulls\n",
    "threshold = df.shape[0] * .75\n",
    "\n",
    "# remove columns with high nulls\n",
    "df = df.dropna(axis=1, thresh=threshold)\n",
    "\n",
    "df.columns"
   ]
  },
  {
   "cell_type": "code",
   "execution_count": 6,
   "metadata": {},
   "outputs": [],
   "source": [
    "# sets thresh hold to 25 percent nulls\n",
    "thresh_hold = df.shape[1] * .75\n",
    "\n",
    "# remove rows with high nulls\n",
    "df = df.dropna(axis=0,thresh=thresh_hold)"
   ]
  },
  {
   "cell_type": "markdown",
   "metadata": {},
   "source": [
    "### Removing repeated/unecessary columns\n",
    "- multiple sqft columns\n",
    "- multiple county ids\n",
    "- multiple census tract and block ids"
   ]
  },
  {
   "cell_type": "code",
   "execution_count": 5,
   "metadata": {},
   "outputs": [],
   "source": [
    "# remove additional sqft\n",
    "df = df.drop(columns=['finishedsquarefeet12'])"
   ]
  },
  {
   "cell_type": "code",
   "execution_count": 114,
   "metadata": {},
   "outputs": [
    {
     "data": {
      "text/plain": [
       "3101.0    43921\n",
       "1286.0    14041\n",
       "2061.0     5122\n",
       "Name: regionidcounty, dtype: int64"
      ]
     },
     "execution_count": 114,
     "metadata": {},
     "output_type": "execute_result"
    }
   ],
   "source": [
    "# removing one of the county id columns\n",
    "df.regionidcounty.value_counts()"
   ]
  },
  {
   "cell_type": "code",
   "execution_count": 115,
   "metadata": {},
   "outputs": [
    {
     "data": {
      "text/plain": [
       "6037.0    43921\n",
       "6059.0    14041\n",
       "6111.0     5122\n",
       "Name: fips, dtype: int64"
      ]
     },
     "execution_count": 115,
     "metadata": {},
     "output_type": "execute_result"
    }
   ],
   "source": [
    "df.fips.value_counts()"
   ]
  },
  {
   "cell_type": "code",
   "execution_count": 117,
   "metadata": {},
   "outputs": [],
   "source": [
    "# region county id and fips are the same, removing longer columns name\n",
    "df = df.drop('regionidcounty',axis=1)"
   ]
  },
  {
   "cell_type": "code",
   "execution_count": 123,
   "metadata": {},
   "outputs": [
    {
     "data": {
      "text/plain": [
       "6.037920e+07    28\n",
       "6.037274e+07    25\n",
       "6.037142e+07    24\n",
       "6.037920e+07    23\n",
       "6.037277e+07    23\n",
       "                ..\n",
       "6.037555e+07     1\n",
       "6.037431e+07     1\n",
       "6.037402e+07     1\n",
       "6.037651e+07     1\n",
       "6.037920e+07     1\n",
       "Name: rawcensustractandblock, Length: 40910, dtype: int64"
      ]
     },
     "execution_count": 123,
     "metadata": {},
     "output_type": "execute_result"
    }
   ],
   "source": [
    "df.rawcensustractandblock.value_counts()"
   ]
  },
  {
   "cell_type": "code",
   "execution_count": 124,
   "metadata": {},
   "outputs": [
    {
     "data": {
      "text/plain": [
       "6.037142e+13    261\n",
       "6.037920e+13     23\n",
       "6.037920e+13     23\n",
       "6.037920e+13     23\n",
       "6.037277e+13     23\n",
       "               ... \n",
       "6.037409e+13      1\n",
       "6.037430e+13      1\n",
       "6.037620e+13      1\n",
       "6.111004e+13      1\n",
       "6.037540e+13      1\n",
       "Name: censustractandblock, Length: 40846, dtype: int64"
      ]
     },
     "execution_count": 124,
     "metadata": {},
     "output_type": "execute_result"
    }
   ],
   "source": [
    "df.censustractandblock.value_counts()"
   ]
  },
  {
   "cell_type": "code",
   "execution_count": 125,
   "metadata": {},
   "outputs": [],
   "source": [
    "# region county id and fips are the same, removing longer columns name\n",
    "df = df.drop('rawcensustractandblock',axis=1)"
   ]
  },
  {
   "cell_type": "markdown",
   "metadata": {},
   "source": [
    "# Removing Outliers Using IQR Rule\n",
    "- Before outliers have 70,364 rows\n",
    "- After, we have 63,084"
   ]
  },
  {
   "cell_type": "code",
   "execution_count": 11,
   "metadata": {},
   "outputs": [
    {
     "name": "stdout",
     "output_type": "stream",
     "text": [
      "column: calculatedfinishedsquarefeet \n",
      "IQR: 1324.5 \n",
      "Upper bound: 4068.75 \n",
      "Lower bound: -787.75 \n",
      "\n",
      "column: lotsizesquarefeet \n",
      "IQR: 6632.25 \n",
      "Upper bound: 20205.875 \n",
      "Lower bound: -4112.375 \n",
      "\n",
      "column: structuretaxvaluedollarcnt \n",
      "IQR: 188069.25 \n",
      "Upper bound: 485437.125 \n",
      "Lower bound: -204150.125 \n",
      "\n",
      "column: landtaxvaluedollarcnt \n",
      "IQR: 374597.625 \n",
      "Upper bound: 889017.4375 \n",
      "Lower bound: -484507.1875 \n",
      "\n",
      "column: taxamount \n",
      "IQR: 5561.752500000001 \n",
      "Upper bound: 14518.148750000002 \n",
      "Lower bound: -5874.943750000002 \n",
      "\n"
     ]
    }
   ],
   "source": [
    "columns = ['calculatedfinishedsquarefeet','lotsizesquarefeet','structuretaxvaluedollarcnt',\n",
    "           'landtaxvaluedollarcnt','taxamount']\n",
    "\n",
    "for x in columns:\n",
    "    \n",
    "    Q1 = df[x].quantile(0.25)\n",
    "    Q3 = df[x].quantile(0.75)\n",
    "    IQR = (Q3 - Q1) * 1.5\n",
    "    upper = Q3 + (1.5 * IQR)\n",
    "    lower = Q1 - (1.5 * IQR)\n",
    "    \n",
    "    print('column:', x,'\\nIQR:', IQR, '\\nUpper bound:', upper, '\\nLower bound:', lower, '\\n')"
   ]
  },
  {
   "cell_type": "code",
   "execution_count": 28,
   "metadata": {},
   "outputs": [],
   "source": [
    "for x in columns:\n",
    "    \n",
    "    Q1 = df[x].quantile(0.25)\n",
    "    Q3 = df[x].quantile(0.75)\n",
    "    IQR = (Q3 - Q1) * 1.5\n",
    "    upper = Q3 + (1.5 * IQR)\n",
    "    lower = Q1 - (1.5 * IQR)\n",
    "    \n",
    "    df = df[(df[x] > (lower)) | (df[x] < (upper))]"
   ]
  },
  {
   "cell_type": "code",
   "execution_count": 30,
   "metadata": {},
   "outputs": [
    {
     "data": {
      "text/plain": [
       "(63084, 27)"
      ]
     },
     "execution_count": 30,
     "metadata": {},
     "output_type": "execute_result"
    }
   ],
   "source": [
    "df.shape"
   ]
  },
  {
   "cell_type": "markdown",
   "metadata": {},
   "source": [
    "# Exploring leftover nulls to determine if dropping or imputing with mean, median, mode"
   ]
  },
  {
   "cell_type": "code",
   "execution_count": 31,
   "metadata": {
    "scrolled": true
   },
   "outputs": [
    {
     "data": {
      "text/plain": [
       "id                                 0\n",
       "parcelid                           0\n",
       "bathroomcnt                        0\n",
       "bedroomcnt                         0\n",
       "calculatedbathnbr                166\n",
       "calculatedfinishedsquarefeet       0\n",
       "fips                               0\n",
       "fullbathcnt                      166\n",
       "latitude                           0\n",
       "longitude                          0\n",
       "lotsizesquarefeet                  0\n",
       "propertycountylandusecode          0\n",
       "propertylandusetypeid              0\n",
       "rawcensustractandblock             0\n",
       "regionidcity                    1055\n",
       "regionidcounty                     0\n",
       "regionidzip                       41\n",
       "roomcnt                            0\n",
       "yearbuilt                         35\n",
       "structuretaxvaluedollarcnt         0\n",
       "taxvaluedollarcnt                  0\n",
       "assessmentyear                     0\n",
       "landtaxvaluedollarcnt              0\n",
       "taxamount                          0\n",
       "censustractandblock              237\n",
       "logerror                           0\n",
       "transactiondate                    0\n",
       "dtype: int64"
      ]
     },
     "execution_count": 31,
     "metadata": {},
     "output_type": "execute_result"
    }
   ],
   "source": [
    "df.isnull().sum()"
   ]
  },
  {
   "cell_type": "markdown",
   "metadata": {},
   "source": [
    "### Calculatedbathnbdr will be dealt with when creating features later\n",
    "### Fullbathcnt"
   ]
  },
  {
   "cell_type": "code",
   "execution_count": 32,
   "metadata": {},
   "outputs": [
    {
     "data": {
      "text/plain": [
       "2.0     31523\n",
       "3.0     14541\n",
       "1.0     12661\n",
       "4.0      2738\n",
       "5.0       931\n",
       "6.0       322\n",
       "7.0       123\n",
       "8.0        39\n",
       "9.0        24\n",
       "10.0        9\n",
       "11.0        3\n",
       "20.0        1\n",
       "13.0        1\n",
       "19.0        1\n",
       "12.0        1\n",
       "Name: fullbathcnt, dtype: int64"
      ]
     },
     "execution_count": 32,
     "metadata": {},
     "output_type": "execute_result"
    }
   ],
   "source": [
    "df.fullbathcnt.value_counts()"
   ]
  },
  {
   "cell_type": "markdown",
   "metadata": {},
   "source": [
    "- Fullbathcnt has 166 nulls\n",
    "- Most common value 2 has 35,694 observations\n",
    "- Will impute the nulls with this"
   ]
  },
  {
   "cell_type": "code",
   "execution_count": 33,
   "metadata": {},
   "outputs": [],
   "source": [
    "mode = df.fullbathcnt.mode()[0]\n",
    "\n",
    "df['fullbathcnt'] = df.fullbathcnt.fillna(mode)"
   ]
  },
  {
   "cell_type": "code",
   "execution_count": 36,
   "metadata": {},
   "outputs": [],
   "source": [
    "df['fullbathcnt'] = df.fullbathcnt.fillna(2)"
   ]
  },
  {
   "cell_type": "markdown",
   "metadata": {},
   "source": [
    "### Region ID City\n",
    "- has 1,055 nulls\n",
    "- we already have latitude and longitude with no nulls for location\n",
    "- will drop this column"
   ]
  },
  {
   "cell_type": "code",
   "execution_count": 37,
   "metadata": {},
   "outputs": [],
   "source": [
    "df = df.drop('regionidcity',axis=1)"
   ]
  },
  {
   "cell_type": "markdown",
   "metadata": {},
   "source": [
    "### Region ID Zip\n",
    "- will replace nulls with 90000 to represent no known zip code (but not create outliers by using 0)\n",
    "- can use latitude/longitude or clustering if necessary to determine actual values\n",
    "- however, for only 41 nulls it is not a significant amount to worry about"
   ]
  },
  {
   "cell_type": "code",
   "execution_count": 38,
   "metadata": {},
   "outputs": [
    {
     "data": {
      "text/plain": [
       "96193.0    519\n",
       "96368.0    517\n",
       "97118.0    512\n",
       "97319.0    479\n",
       "96361.0    473\n",
       "          ... \n",
       "95991.0      4\n",
       "96226.0      2\n",
       "96467.0      1\n",
       "97177.0      1\n",
       "96963.0      1\n",
       "Name: regionidzip, Length: 385, dtype: int64"
      ]
     },
     "execution_count": 38,
     "metadata": {},
     "output_type": "execute_result"
    }
   ],
   "source": [
    "df.regionidzip.value_counts()"
   ]
  },
  {
   "cell_type": "code",
   "execution_count": 39,
   "metadata": {},
   "outputs": [],
   "source": [
    "df['regionidzip'] = df.regionidzip.fillna(90_000)"
   ]
  },
  {
   "cell_type": "markdown",
   "metadata": {},
   "source": [
    "### Year Built\n",
    "- 35 nulls\n",
    "- not many nulls to be significant, will replace with mean"
   ]
  },
  {
   "cell_type": "code",
   "execution_count": 40,
   "metadata": {},
   "outputs": [
    {
     "data": {
      "text/plain": [
       "(1955.0    2174\n",
       " 1950.0    1850\n",
       " 1954.0    1843\n",
       " 1956.0    1704\n",
       " 1953.0    1596\n",
       "           ... \n",
       " 1862.0       1\n",
       " 1880.0       1\n",
       " 1889.0       1\n",
       " 2016.0       1\n",
       " 1893.0       1\n",
       " Name: yearbuilt, Length: 133, dtype: int64,\n",
       " 1963.5353931069485)"
      ]
     },
     "execution_count": 40,
     "metadata": {},
     "output_type": "execute_result"
    }
   ],
   "source": [
    "df.yearbuilt.value_counts(), df.yearbuilt.mean()"
   ]
  },
  {
   "cell_type": "code",
   "execution_count": 43,
   "metadata": {},
   "outputs": [],
   "source": [
    "df['yearbuilt'] = df.yearbuilt.fillna(1964)"
   ]
  },
  {
   "cell_type": "markdown",
   "metadata": {},
   "source": [
    "### censustractandblock\n",
    "- 237 nulls is not significant\n",
    "- will replace with mode"
   ]
  },
  {
   "cell_type": "code",
   "execution_count": 44,
   "metadata": {},
   "outputs": [
    {
     "data": {
      "text/plain": [
       "(6.037142e+13    24\n",
       " 6.037920e+13    23\n",
       " 6.037920e+13    23\n",
       " 6.037920e+13    23\n",
       " 6.037277e+13    23\n",
       "                 ..\n",
       " 6.037409e+13     1\n",
       " 6.037430e+13     1\n",
       " 6.037620e+13     1\n",
       " 6.111004e+13     1\n",
       " 6.037540e+13     1\n",
       " Name: censustractandblock, Length: 40846, dtype: int64,\n",
       " 0    6.037142e+13\n",
       " dtype: float64)"
      ]
     },
     "execution_count": 44,
     "metadata": {},
     "output_type": "execute_result"
    }
   ],
   "source": [
    "df.censustractandblock.value_counts(), df.censustractandblock.mode()"
   ]
  },
  {
   "cell_type": "code",
   "execution_count": 46,
   "metadata": {},
   "outputs": [],
   "source": [
    "mode = df.censustractandblock.mode()[0]\n",
    "\n",
    "df['censustractandblock'] = df.censustractandblock.fillna(mode)"
   ]
  },
  {
   "cell_type": "markdown",
   "metadata": {},
   "source": [
    "# Create Features"
   ]
  },
  {
   "cell_type": "markdown",
   "metadata": {},
   "source": [
    "### calculate our own bath_bed\n",
    "- we have a column from the database, however it has 215 nulls\n",
    "- bathroom and bedroom count by themselves have no nulls\n",
    "- calculate our own and drop the original"
   ]
  },
  {
   "cell_type": "code",
   "execution_count": 48,
   "metadata": {},
   "outputs": [],
   "source": [
    "df['bed_plus_bath'] = df.bathroomcnt + df.bedroomcnt\n",
    "df = df.drop('calculatedbathnbr',axis=1)"
   ]
  },
  {
   "cell_type": "code",
   "execution_count": 49,
   "metadata": {},
   "outputs": [
    {
     "data": {
      "text/plain": [
       "id                              0\n",
       "parcelid                        0\n",
       "bathroomcnt                     0\n",
       "bedroomcnt                      0\n",
       "calculatedfinishedsquarefeet    0\n",
       "fips                            0\n",
       "fullbathcnt                     0\n",
       "latitude                        0\n",
       "longitude                       0\n",
       "lotsizesquarefeet               0\n",
       "propertycountylandusecode       0\n",
       "propertylandusetypeid           0\n",
       "rawcensustractandblock          0\n",
       "regionidcounty                  0\n",
       "regionidzip                     0\n",
       "roomcnt                         0\n",
       "yearbuilt                       0\n",
       "structuretaxvaluedollarcnt      0\n",
       "taxvaluedollarcnt               0\n",
       "assessmentyear                  0\n",
       "landtaxvaluedollarcnt           0\n",
       "taxamount                       0\n",
       "censustractandblock             0\n",
       "logerror                        0\n",
       "transactiondate                 0\n",
       "bed_plus_bath                   0\n",
       "dtype: int64"
      ]
     },
     "execution_count": 49,
     "metadata": {},
     "output_type": "execute_result"
    }
   ],
   "source": [
    "df.isnull().sum()"
   ]
  },
  {
   "cell_type": "markdown",
   "metadata": {},
   "source": [
    "### All our nulls and outliers are removed, what other features could we create?"
   ]
  },
  {
   "cell_type": "markdown",
   "metadata": {},
   "source": [
    "## How many years has the house been around?\n",
    "- calculate by todays year - year built"
   ]
  },
  {
   "cell_type": "code",
   "execution_count": 51,
   "metadata": {},
   "outputs": [],
   "source": [
    "df['age'] = 2020 - df.yearbuilt"
   ]
  },
  {
   "cell_type": "markdown",
   "metadata": {},
   "source": [
    "## Dummy variables for year assessed?\n",
    "- could say assesed in 2016 or not\n",
    "- however, only 20 properties were not assessed in 2016\n",
    "- we can drop this feature"
   ]
  },
  {
   "cell_type": "code",
   "execution_count": 53,
   "metadata": {},
   "outputs": [
    {
     "data": {
      "text/plain": [
       "2016.0    63064\n",
       "2014.0       18\n",
       "2015.0        2\n",
       "Name: assessmentyear, dtype: int64"
      ]
     },
     "execution_count": 53,
     "metadata": {},
     "output_type": "execute_result"
    }
   ],
   "source": [
    "df.assessmentyear.value_counts()"
   ]
  },
  {
   "cell_type": "code",
   "execution_count": 55,
   "metadata": {},
   "outputs": [],
   "source": [
    "df = df.drop('assessmentyear',axis=1)"
   ]
  },
  {
   "cell_type": "markdown",
   "metadata": {},
   "source": [
    "## Transaction date by months? Range of 1-12"
   ]
  },
  {
   "cell_type": "code",
   "execution_count": 84,
   "metadata": {},
   "outputs": [
    {
     "data": {
      "text/plain": [
       "2017-06-30    1061\n",
       "2017-05-31     845\n",
       "2017-04-28     768\n",
       "2017-07-28     763\n",
       "2017-05-26     712\n",
       "              ... \n",
       "2017-03-12       1\n",
       "2017-02-18       1\n",
       "2018-05-25       1\n",
       "2017-05-20       1\n",
       "2017-08-06       1\n",
       "Name: transactiondate, Length: 256, dtype: int64"
      ]
     },
     "execution_count": 84,
     "metadata": {},
     "output_type": "execute_result"
    }
   ],
   "source": [
    "df.transactiondate.value_counts()"
   ]
  },
  {
   "cell_type": "code",
   "execution_count": 109,
   "metadata": {},
   "outputs": [],
   "source": [
    "# converting to string to use split method\n",
    "df['transactiondate'] = df.transactiondate.astype('str')\n",
    "\n",
    "# creating new feature as the second index (month) of the transacion date split\n",
    "df['transaction_month'] = df.transactiondate.str.split('-',expand=True)[1]"
   ]
  },
  {
   "cell_type": "markdown",
   "metadata": {},
   "source": [
    "# Reorder/Rename Columns for Better Intuition"
   ]
  },
  {
   "cell_type": "code",
   "execution_count": 126,
   "metadata": {},
   "outputs": [
    {
     "data": {
      "text/plain": [
       "Index(['id', 'parcelid', 'bathroomcnt', 'bedroomcnt',\n",
       "       'calculatedfinishedsquarefeet', 'fips', 'fullbathcnt', 'latitude',\n",
       "       'longitude', 'lotsizesquarefeet', 'propertycountylandusecode',\n",
       "       'propertylandusetypeid', 'regionidzip', 'roomcnt', 'yearbuilt',\n",
       "       'structuretaxvaluedollarcnt', 'taxvaluedollarcnt',\n",
       "       'landtaxvaluedollarcnt', 'taxamount', 'censustractandblock', 'logerror',\n",
       "       'transactiondate', 'bed_plus_bath', 'age', 'transaction_month'],\n",
       "      dtype='object')"
      ]
     },
     "execution_count": 126,
     "metadata": {},
     "output_type": "execute_result"
    }
   ],
   "source": [
    "df.columns"
   ]
  },
  {
   "cell_type": "code",
   "execution_count": 127,
   "metadata": {},
   "outputs": [],
   "source": [
    "df.columns = ['index_id','parcel_id','bathrooms','bedrooms','property_sqft','county_id','full_bathrooms','latitude',\n",
    "             'longitude','lot_sqft','land_use_code','land_use_type','zip_code','room_count','year_built',\n",
    "             'structure_tax_value','tax_value','land_tax_value','tax_amount', 'census_id','log_error',\n",
    "              'transaction_date','bed_plus_bath','property_age','transaction_month'\n",
    "             ]"
   ]
  },
  {
   "cell_type": "code",
   "execution_count": 128,
   "metadata": {},
   "outputs": [
    {
     "data": {
      "text/plain": [
       "Index(['index_id', 'parcel_id', 'bathrooms', 'bedrooms', 'property_sqft',\n",
       "       'county_id', 'full_bathrooms', 'latitude', 'longitude', 'lot_sqft',\n",
       "       'land_use_code', 'land_use_type', 'zip_code', 'room_count',\n",
       "       'year_built', 'structure_tax_value', 'tax_value', 'land_tax_value',\n",
       "       'tax_amount', 'census_id', 'log_error', 'transaction_date',\n",
       "       'bed_plus_bath', 'property_age', 'transaction_month'],\n",
       "      dtype='object')"
      ]
     },
     "execution_count": 128,
     "metadata": {},
     "output_type": "execute_result"
    }
   ],
   "source": [
    "df.columns"
   ]
  },
  {
   "cell_type": "code",
   "execution_count": 130,
   "metadata": {},
   "outputs": [],
   "source": [
    "# Reordering columns\n",
    "df = df[['index_id', 'parcel_id',\n",
    "    'log_error', 'tax_value', 'structure_tax_value', 'land_tax_value', 'tax_amount',\n",
    "    'county_id', 'zip_code', 'latitude', 'longitude', 'census_id',\n",
    "    'bathrooms', 'bedrooms', 'full_bathrooms', 'bed_plus_bath', 'room_count',\n",
    "    'property_sqft', 'lot_sqft',\n",
    "    'land_use_code', 'land_use_type',\n",
    "    'year_built', 'property_age', 'transaction_date', 'transaction_month'\n",
    "   ]]"
   ]
  },
  {
   "cell_type": "markdown",
   "metadata": {},
   "source": [
    "# Put all together into a function for the Prepare.py module"
   ]
  },
  {
   "cell_type": "code",
   "execution_count": 133,
   "metadata": {},
   "outputs": [],
   "source": [
    "def prepare_zillow():\n",
    "    '''\n",
    "    Acquire and prepare the zillow data obtained from the SQL database.\n",
    "    Nulls are removed/replaced, outliers are removed, new features are created,\n",
    "    and columns are renamed/rearranged. Returns the prepped df.\n",
    "    '''\n",
    "    # acquire the data from module\n",
    "    df = acquire.get_home_data()\n",
    "    \n",
    "    # Removing Nulls from Columns\n",
    "    # sets thresh hold to 75 percent nulls, if more than %25 nulls it will be removed\n",
    "    threshold = df.shape[0] * .75\n",
    "\n",
    "    # remove columns with specified threshold\n",
    "    df = df.dropna(axis=1, thresh=threshold)\n",
    "    \n",
    "    # Removing Nulls from Rows\n",
    "    # sets thresh hold to 75 percent nulls, if more than %25 nulls it will be removed\n",
    "    thresh_hold = df.shape[1] * .75\n",
    "\n",
    "    # remove rows with specified threshold\n",
    "    df = df.dropna(axis=0,thresh=thresh_hold)\n",
    "    \n",
    "    # Removing Columns with Repeated Data/Unecessary Data\n",
    "    # don't need additional sqft, county id/city, assessment year, and census columns\n",
    "    df = df.drop(columns=['finishedsquarefeet12', 'regionidcounty', 'rawcensustractandblock',\n",
    "                          'regionidcity','assessmentyear'], axis=1)\n",
    "    \n",
    "    # Removing Outliers from Continuous Variables\n",
    "    # assigning columns to remove outliers\n",
    "    columns = ['calculatedfinishedsquarefeet','lotsizesquarefeet','structuretaxvaluedollarcnt',\n",
    "           'landtaxvaluedollarcnt','taxamount']\n",
    "    \n",
    "    # looping through continuous variables to remove outliers\n",
    "    for x in columns:\n",
    "    \n",
    "        # calculate IQR\n",
    "        Q1 = df[x].quantile(0.25)\n",
    "        Q3 = df[x].quantile(0.75)\n",
    "        IQR = (Q3 - Q1) * 1.5\n",
    "        \n",
    "        # calculate upper and lower bounds, outlier if above or below these\n",
    "        upper = Q3 + (1.5 * IQR)\n",
    "        lower = Q1 - (1.5 * IQR)\n",
    "    \n",
    "        # creates df of values that are within the outlier bounds\n",
    "        df = df[(df[x] > (lower)) | (df[x] < (upper))]\n",
    "        \n",
    "    # Filling Leftover Nulls by Columns\n",
    "    # Full Bathroom Count Nulls\n",
    "    # mode of bathroomcnt\n",
    "    fullbath_mode = df.fullbathcnt.mode()[0]\n",
    "    # filling nulls with the mode\n",
    "    df['fullbathcnt'] = df.fullbathcnt.fillna(fullbath_mode)\n",
    "    \n",
    "    # Region Zip Code Nulls\n",
    "    # filling with 90000 to represent no known zipcode (0 would skew the data)\n",
    "    df['regionidzip'] = df.regionidzip.fillna(90_000)\n",
    "    \n",
    "    # Year Built Nulls\n",
    "    # average of property year built\n",
    "    year_avg = round(df.yearbuilt.mean())\n",
    "    # filling nulls with average year built\n",
    "    df['yearbuilt'] = df.yearbuilt.fillna(year_avg)\n",
    "    \n",
    "    # Census Tract and Block Nulls\n",
    "    # mode of census tract and block\n",
    "    census_mode = df.censustractandblock.mode()[0]\n",
    "    # filling nulls with mode\n",
    "    df['censustractandblock'] = df.censustractandblock.fillna(mode)\n",
    "    \n",
    "    # Feature Engineering - creating columns\n",
    "    # calculating bed+bath from 0 null columns of bedroom/bathroom count\n",
    "    df['bed_plus_bath'] = df.bathroomcnt + df.bedroomcnt\n",
    "    # droping original calculated field that had nulls\n",
    "    df = df.drop('calculatedbathnbr',axis=1)\n",
    "    \n",
    "    # Property Age\n",
    "    # current year minus year built\n",
    "    df['age'] = 2020 - df.yearbuilt\n",
    "    \n",
    "    # Transaction Month\n",
    "    # converting date to string to use split method\n",
    "    df['transactiondate'] = df.transactiondate.astype('str')\n",
    "    # creating new feature as the second index (month) of the transaction date split\n",
    "    df['transaction_month'] = df.transactiondate.str.split('-',expand=True)[1]\n",
    "    \n",
    "    # Renaming Columns\n",
    "    df.columns = ['index_id', 'parcel_id', 'bathrooms', 'bedrooms', 'property_sqft', 'county_id', 'full_bathrooms',\n",
    "                  'latitude', 'longitude', 'lot_sqft', 'land_use_code', 'land_use_type', 'zip_code', 'room_count',\n",
    "                  'year_built', 'structure_tax_value', 'tax_value', 'land_tax_value', 'tax_amount', 'census_id',\n",
    "                  'log_error', 'transaction_date', 'bed_plus_bath', 'property_age', 'transaction_month'\n",
    "             ]\n",
    "    \n",
    "    # Reordering Columns\n",
    "    df = df[['index_id', 'parcel_id',\n",
    "        'log_error', 'tax_value', 'structure_tax_value', 'land_tax_value', 'tax_amount',\n",
    "        'county_id', 'zip_code', 'latitude', 'longitude', 'census_id',\n",
    "        'bathrooms', 'bedrooms', 'full_bathrooms', 'bed_plus_bath', 'room_count',\n",
    "        'property_sqft', 'lot_sqft',\n",
    "        'land_use_code', 'land_use_type',\n",
    "        'year_built', 'property_age', 'transaction_date', 'transaction_month'\n",
    "       ]]\n",
    "    \n",
    "    return df"
   ]
  }
 ],
 "metadata": {
  "kernelspec": {
   "display_name": "Python 3",
   "language": "python",
   "name": "python3"
  },
  "language_info": {
   "codemirror_mode": {
    "name": "ipython",
    "version": 3
   },
   "file_extension": ".py",
   "mimetype": "text/x-python",
   "name": "python",
   "nbconvert_exporter": "python",
   "pygments_lexer": "ipython3",
   "version": "3.7.6"
  }
 },
 "nbformat": 4,
 "nbformat_minor": 4
}
