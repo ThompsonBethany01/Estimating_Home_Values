{
 "cells": [
  {
   "cell_type": "markdown",
   "metadata": {},
   "source": [
    "# Prepping the Data\n",
    "We need to\n",
    "- [x] remove high null columns and rows\n",
    "- [x] remove unnecessary columns\n",
    "- [ ] remove outliers\n",
    "- [ ] impute/remove leftover nulls\n",
    "- [ ] create new features\n",
    "- [ ] reorder/rename columns\n",
    "\n",
    "Preprocessing\n",
    "- [ ] scale the data\n",
    "- [ ] split into train, validate, test (stratify)"
   ]
  },
  {
   "cell_type": "code",
   "execution_count": 1,
   "metadata": {},
   "outputs": [],
   "source": [
    "import acquire\n",
    "\n",
    "import numpy as np\n",
    "import pandas as pd\n",
    "import matplotlib.pyplot as plt\n",
    "import seaborn as sns"
   ]
  },
  {
   "cell_type": "code",
   "execution_count": 2,
   "metadata": {},
   "outputs": [],
   "source": [
    "df = acquire.get_home_data()"
   ]
  },
  {
   "cell_type": "code",
   "execution_count": 3,
   "metadata": {
    "scrolled": true
   },
   "outputs": [
    {
     "data": {
      "text/html": [
       "<div>\n",
       "<style scoped>\n",
       "    .dataframe tbody tr th:only-of-type {\n",
       "        vertical-align: middle;\n",
       "    }\n",
       "\n",
       "    .dataframe tbody tr th {\n",
       "        vertical-align: top;\n",
       "    }\n",
       "\n",
       "    .dataframe thead th {\n",
       "        text-align: right;\n",
       "    }\n",
       "</style>\n",
       "<table border=\"1\" class=\"dataframe\">\n",
       "  <thead>\n",
       "    <tr style=\"text-align: right;\">\n",
       "      <th></th>\n",
       "      <th>id</th>\n",
       "      <th>parcelid</th>\n",
       "      <th>airconditioningtypeid</th>\n",
       "      <th>architecturalstyletypeid</th>\n",
       "      <th>basementsqft</th>\n",
       "      <th>bathroomcnt</th>\n",
       "      <th>bedroomcnt</th>\n",
       "      <th>buildingclasstypeid</th>\n",
       "      <th>buildingqualitytypeid</th>\n",
       "      <th>calculatedbathnbr</th>\n",
       "      <th>...</th>\n",
       "      <th>structuretaxvaluedollarcnt</th>\n",
       "      <th>taxvaluedollarcnt</th>\n",
       "      <th>assessmentyear</th>\n",
       "      <th>landtaxvaluedollarcnt</th>\n",
       "      <th>taxamount</th>\n",
       "      <th>taxdelinquencyflag</th>\n",
       "      <th>taxdelinquencyyear</th>\n",
       "      <th>censustractandblock</th>\n",
       "      <th>logerror</th>\n",
       "      <th>transactiondate</th>\n",
       "    </tr>\n",
       "  </thead>\n",
       "  <tbody>\n",
       "    <tr>\n",
       "      <th>0</th>\n",
       "      <td>1</td>\n",
       "      <td>10759547</td>\n",
       "      <td>NaN</td>\n",
       "      <td>NaN</td>\n",
       "      <td>NaN</td>\n",
       "      <td>0.0</td>\n",
       "      <td>0.0</td>\n",
       "      <td>NaN</td>\n",
       "      <td>NaN</td>\n",
       "      <td>NaN</td>\n",
       "      <td>...</td>\n",
       "      <td>NaN</td>\n",
       "      <td>27516.0</td>\n",
       "      <td>2015.0</td>\n",
       "      <td>27516.0</td>\n",
       "      <td>NaN</td>\n",
       "      <td>NaN</td>\n",
       "      <td>NaN</td>\n",
       "      <td>NaN</td>\n",
       "      <td>0.055619</td>\n",
       "      <td>2017-01-01</td>\n",
       "    </tr>\n",
       "    <tr>\n",
       "      <th>1</th>\n",
       "      <td>6</td>\n",
       "      <td>10933547</td>\n",
       "      <td>NaN</td>\n",
       "      <td>NaN</td>\n",
       "      <td>NaN</td>\n",
       "      <td>0.0</td>\n",
       "      <td>0.0</td>\n",
       "      <td>NaN</td>\n",
       "      <td>NaN</td>\n",
       "      <td>NaN</td>\n",
       "      <td>...</td>\n",
       "      <td>404013.0</td>\n",
       "      <td>563029.0</td>\n",
       "      <td>2016.0</td>\n",
       "      <td>159016.0</td>\n",
       "      <td>6773.34</td>\n",
       "      <td>NaN</td>\n",
       "      <td>NaN</td>\n",
       "      <td>NaN</td>\n",
       "      <td>-0.001011</td>\n",
       "      <td>2017-01-01</td>\n",
       "    </tr>\n",
       "    <tr>\n",
       "      <th>2</th>\n",
       "      <td>14</td>\n",
       "      <td>11142747</td>\n",
       "      <td>NaN</td>\n",
       "      <td>NaN</td>\n",
       "      <td>NaN</td>\n",
       "      <td>0.0</td>\n",
       "      <td>0.0</td>\n",
       "      <td>NaN</td>\n",
       "      <td>NaN</td>\n",
       "      <td>NaN</td>\n",
       "      <td>...</td>\n",
       "      <td>NaN</td>\n",
       "      <td>4265.0</td>\n",
       "      <td>2015.0</td>\n",
       "      <td>4265.0</td>\n",
       "      <td>NaN</td>\n",
       "      <td>NaN</td>\n",
       "      <td>NaN</td>\n",
       "      <td>NaN</td>\n",
       "      <td>-0.008935</td>\n",
       "      <td>2017-01-02</td>\n",
       "    </tr>\n",
       "    <tr>\n",
       "      <th>3</th>\n",
       "      <td>15</td>\n",
       "      <td>11193347</td>\n",
       "      <td>NaN</td>\n",
       "      <td>NaN</td>\n",
       "      <td>NaN</td>\n",
       "      <td>0.0</td>\n",
       "      <td>0.0</td>\n",
       "      <td>NaN</td>\n",
       "      <td>NaN</td>\n",
       "      <td>NaN</td>\n",
       "      <td>...</td>\n",
       "      <td>NaN</td>\n",
       "      <td>10.0</td>\n",
       "      <td>2016.0</td>\n",
       "      <td>10.0</td>\n",
       "      <td>NaN</td>\n",
       "      <td>NaN</td>\n",
       "      <td>NaN</td>\n",
       "      <td>NaN</td>\n",
       "      <td>0.008669</td>\n",
       "      <td>2017-01-02</td>\n",
       "    </tr>\n",
       "    <tr>\n",
       "      <th>4</th>\n",
       "      <td>16</td>\n",
       "      <td>11215747</td>\n",
       "      <td>NaN</td>\n",
       "      <td>NaN</td>\n",
       "      <td>NaN</td>\n",
       "      <td>0.0</td>\n",
       "      <td>0.0</td>\n",
       "      <td>NaN</td>\n",
       "      <td>NaN</td>\n",
       "      <td>NaN</td>\n",
       "      <td>...</td>\n",
       "      <td>NaN</td>\n",
       "      <td>10.0</td>\n",
       "      <td>2016.0</td>\n",
       "      <td>10.0</td>\n",
       "      <td>NaN</td>\n",
       "      <td>NaN</td>\n",
       "      <td>NaN</td>\n",
       "      <td>NaN</td>\n",
       "      <td>-0.021896</td>\n",
       "      <td>2017-01-02</td>\n",
       "    </tr>\n",
       "    <tr>\n",
       "      <th>...</th>\n",
       "      <td>...</td>\n",
       "      <td>...</td>\n",
       "      <td>...</td>\n",
       "      <td>...</td>\n",
       "      <td>...</td>\n",
       "      <td>...</td>\n",
       "      <td>...</td>\n",
       "      <td>...</td>\n",
       "      <td>...</td>\n",
       "      <td>...</td>\n",
       "      <td>...</td>\n",
       "      <td>...</td>\n",
       "      <td>...</td>\n",
       "      <td>...</td>\n",
       "      <td>...</td>\n",
       "      <td>...</td>\n",
       "      <td>...</td>\n",
       "      <td>...</td>\n",
       "      <td>...</td>\n",
       "      <td>...</td>\n",
       "      <td>...</td>\n",
       "    </tr>\n",
       "    <tr>\n",
       "      <th>70359</th>\n",
       "      <td>77609</td>\n",
       "      <td>11212539</td>\n",
       "      <td>1.0</td>\n",
       "      <td>NaN</td>\n",
       "      <td>NaN</td>\n",
       "      <td>3.0</td>\n",
       "      <td>4.0</td>\n",
       "      <td>NaN</td>\n",
       "      <td>8.0</td>\n",
       "      <td>3.0</td>\n",
       "      <td>...</td>\n",
       "      <td>129566.0</td>\n",
       "      <td>162019.0</td>\n",
       "      <td>2016.0</td>\n",
       "      <td>32453.0</td>\n",
       "      <td>2860.33</td>\n",
       "      <td>NaN</td>\n",
       "      <td>NaN</td>\n",
       "      <td>6.037911e+13</td>\n",
       "      <td>0.020615</td>\n",
       "      <td>2017-09-20</td>\n",
       "    </tr>\n",
       "    <tr>\n",
       "      <th>70360</th>\n",
       "      <td>77610</td>\n",
       "      <td>11212639</td>\n",
       "      <td>1.0</td>\n",
       "      <td>NaN</td>\n",
       "      <td>NaN</td>\n",
       "      <td>3.0</td>\n",
       "      <td>4.0</td>\n",
       "      <td>NaN</td>\n",
       "      <td>8.0</td>\n",
       "      <td>3.0</td>\n",
       "      <td>...</td>\n",
       "      <td>100744.0</td>\n",
       "      <td>125923.0</td>\n",
       "      <td>2016.0</td>\n",
       "      <td>25179.0</td>\n",
       "      <td>2394.26</td>\n",
       "      <td>NaN</td>\n",
       "      <td>NaN</td>\n",
       "      <td>6.037911e+13</td>\n",
       "      <td>0.013209</td>\n",
       "      <td>2017-09-21</td>\n",
       "    </tr>\n",
       "    <tr>\n",
       "      <th>70361</th>\n",
       "      <td>77611</td>\n",
       "      <td>11212962</td>\n",
       "      <td>1.0</td>\n",
       "      <td>NaN</td>\n",
       "      <td>NaN</td>\n",
       "      <td>2.0</td>\n",
       "      <td>3.0</td>\n",
       "      <td>NaN</td>\n",
       "      <td>6.0</td>\n",
       "      <td>2.0</td>\n",
       "      <td>...</td>\n",
       "      <td>149241.0</td>\n",
       "      <td>198988.0</td>\n",
       "      <td>2016.0</td>\n",
       "      <td>49747.0</td>\n",
       "      <td>3331.81</td>\n",
       "      <td>NaN</td>\n",
       "      <td>NaN</td>\n",
       "      <td>6.037911e+13</td>\n",
       "      <td>0.037129</td>\n",
       "      <td>2017-09-21</td>\n",
       "    </tr>\n",
       "    <tr>\n",
       "      <th>70362</th>\n",
       "      <td>77612</td>\n",
       "      <td>11213162</td>\n",
       "      <td>1.0</td>\n",
       "      <td>NaN</td>\n",
       "      <td>NaN</td>\n",
       "      <td>3.0</td>\n",
       "      <td>3.0</td>\n",
       "      <td>NaN</td>\n",
       "      <td>8.0</td>\n",
       "      <td>3.0</td>\n",
       "      <td>...</td>\n",
       "      <td>118900.0</td>\n",
       "      <td>148600.0</td>\n",
       "      <td>2016.0</td>\n",
       "      <td>29700.0</td>\n",
       "      <td>2510.53</td>\n",
       "      <td>NaN</td>\n",
       "      <td>NaN</td>\n",
       "      <td>6.037911e+13</td>\n",
       "      <td>0.007204</td>\n",
       "      <td>2017-09-25</td>\n",
       "    </tr>\n",
       "    <tr>\n",
       "      <th>70363</th>\n",
       "      <td>77613</td>\n",
       "      <td>11213262</td>\n",
       "      <td>1.0</td>\n",
       "      <td>NaN</td>\n",
       "      <td>NaN</td>\n",
       "      <td>3.0</td>\n",
       "      <td>4.0</td>\n",
       "      <td>NaN</td>\n",
       "      <td>8.0</td>\n",
       "      <td>3.0</td>\n",
       "      <td>...</td>\n",
       "      <td>104239.0</td>\n",
       "      <td>130296.0</td>\n",
       "      <td>2016.0</td>\n",
       "      <td>26057.0</td>\n",
       "      <td>2470.35</td>\n",
       "      <td>Y</td>\n",
       "      <td>10.0</td>\n",
       "      <td>6.037911e+13</td>\n",
       "      <td>-0.197755</td>\n",
       "      <td>2018-05-25</td>\n",
       "    </tr>\n",
       "  </tbody>\n",
       "</table>\n",
       "<p>70364 rows × 61 columns</p>\n",
       "</div>"
      ],
      "text/plain": [
       "          id  parcelid  airconditioningtypeid  architecturalstyletypeid  \\\n",
       "0          1  10759547                    NaN                       NaN   \n",
       "1          6  10933547                    NaN                       NaN   \n",
       "2         14  11142747                    NaN                       NaN   \n",
       "3         15  11193347                    NaN                       NaN   \n",
       "4         16  11215747                    NaN                       NaN   \n",
       "...      ...       ...                    ...                       ...   \n",
       "70359  77609  11212539                    1.0                       NaN   \n",
       "70360  77610  11212639                    1.0                       NaN   \n",
       "70361  77611  11212962                    1.0                       NaN   \n",
       "70362  77612  11213162                    1.0                       NaN   \n",
       "70363  77613  11213262                    1.0                       NaN   \n",
       "\n",
       "       basementsqft  bathroomcnt  bedroomcnt  buildingclasstypeid  \\\n",
       "0               NaN          0.0         0.0                  NaN   \n",
       "1               NaN          0.0         0.0                  NaN   \n",
       "2               NaN          0.0         0.0                  NaN   \n",
       "3               NaN          0.0         0.0                  NaN   \n",
       "4               NaN          0.0         0.0                  NaN   \n",
       "...             ...          ...         ...                  ...   \n",
       "70359           NaN          3.0         4.0                  NaN   \n",
       "70360           NaN          3.0         4.0                  NaN   \n",
       "70361           NaN          2.0         3.0                  NaN   \n",
       "70362           NaN          3.0         3.0                  NaN   \n",
       "70363           NaN          3.0         4.0                  NaN   \n",
       "\n",
       "       buildingqualitytypeid  calculatedbathnbr  ...  \\\n",
       "0                        NaN                NaN  ...   \n",
       "1                        NaN                NaN  ...   \n",
       "2                        NaN                NaN  ...   \n",
       "3                        NaN                NaN  ...   \n",
       "4                        NaN                NaN  ...   \n",
       "...                      ...                ...  ...   \n",
       "70359                    8.0                3.0  ...   \n",
       "70360                    8.0                3.0  ...   \n",
       "70361                    6.0                2.0  ...   \n",
       "70362                    8.0                3.0  ...   \n",
       "70363                    8.0                3.0  ...   \n",
       "\n",
       "       structuretaxvaluedollarcnt  taxvaluedollarcnt  assessmentyear  \\\n",
       "0                             NaN            27516.0          2015.0   \n",
       "1                        404013.0           563029.0          2016.0   \n",
       "2                             NaN             4265.0          2015.0   \n",
       "3                             NaN               10.0          2016.0   \n",
       "4                             NaN               10.0          2016.0   \n",
       "...                           ...                ...             ...   \n",
       "70359                    129566.0           162019.0          2016.0   \n",
       "70360                    100744.0           125923.0          2016.0   \n",
       "70361                    149241.0           198988.0          2016.0   \n",
       "70362                    118900.0           148600.0          2016.0   \n",
       "70363                    104239.0           130296.0          2016.0   \n",
       "\n",
       "       landtaxvaluedollarcnt  taxamount  taxdelinquencyflag  \\\n",
       "0                    27516.0        NaN                 NaN   \n",
       "1                   159016.0    6773.34                 NaN   \n",
       "2                     4265.0        NaN                 NaN   \n",
       "3                       10.0        NaN                 NaN   \n",
       "4                       10.0        NaN                 NaN   \n",
       "...                      ...        ...                 ...   \n",
       "70359                32453.0    2860.33                 NaN   \n",
       "70360                25179.0    2394.26                 NaN   \n",
       "70361                49747.0    3331.81                 NaN   \n",
       "70362                29700.0    2510.53                 NaN   \n",
       "70363                26057.0    2470.35                   Y   \n",
       "\n",
       "       taxdelinquencyyear  censustractandblock  logerror  transactiondate  \n",
       "0                     NaN                  NaN  0.055619       2017-01-01  \n",
       "1                     NaN                  NaN -0.001011       2017-01-01  \n",
       "2                     NaN                  NaN -0.008935       2017-01-02  \n",
       "3                     NaN                  NaN  0.008669       2017-01-02  \n",
       "4                     NaN                  NaN -0.021896       2017-01-02  \n",
       "...                   ...                  ...       ...              ...  \n",
       "70359                 NaN         6.037911e+13  0.020615       2017-09-20  \n",
       "70360                 NaN         6.037911e+13  0.013209       2017-09-21  \n",
       "70361                 NaN         6.037911e+13  0.037129       2017-09-21  \n",
       "70362                 NaN         6.037911e+13  0.007204       2017-09-25  \n",
       "70363                10.0         6.037911e+13 -0.197755       2018-05-25  \n",
       "\n",
       "[70364 rows x 61 columns]"
      ]
     },
     "execution_count": 3,
     "metadata": {},
     "output_type": "execute_result"
    }
   ],
   "source": [
    "df"
   ]
  },
  {
   "cell_type": "markdown",
   "metadata": {},
   "source": [
    "# Remove Nulls in Columns/Rows"
   ]
  },
  {
   "cell_type": "code",
   "execution_count": 4,
   "metadata": {},
   "outputs": [
    {
     "data": {
      "text/plain": [
       "Index(['id', 'parcelid', 'bathroomcnt', 'bedroomcnt', 'calculatedbathnbr',\n",
       "       'calculatedfinishedsquarefeet', 'finishedsquarefeet12', 'fips',\n",
       "       'fullbathcnt', 'latitude', 'longitude', 'lotsizesquarefeet',\n",
       "       'propertycountylandusecode', 'propertylandusetypeid',\n",
       "       'rawcensustractandblock', 'regionidcity', 'regionidcounty',\n",
       "       'regionidzip', 'roomcnt', 'yearbuilt', 'structuretaxvaluedollarcnt',\n",
       "       'taxvaluedollarcnt', 'assessmentyear', 'landtaxvaluedollarcnt',\n",
       "       'taxamount', 'censustractandblock', 'logerror', 'transactiondate'],\n",
       "      dtype='object')"
      ]
     },
     "execution_count": 4,
     "metadata": {},
     "output_type": "execute_result"
    }
   ],
   "source": [
    "# sets thresh hold to 75 percent nulls\n",
    "thresh_hold = df.shape[0] * .75\n",
    "\n",
    "# remove columns with high nulls\n",
    "df = df.dropna(axis=1, thresh=thresh_hold)\n",
    "\n",
    "df.columns"
   ]
  },
  {
   "cell_type": "code",
   "execution_count": 5,
   "metadata": {},
   "outputs": [],
   "source": [
    "# remove other columns we don't need, like multiple sqft\n",
    "df = df.drop(columns=['finishedsquarefeet12'])"
   ]
  },
  {
   "cell_type": "code",
   "execution_count": 6,
   "metadata": {},
   "outputs": [],
   "source": [
    "# sets thresh hold to 25 percent nulls\n",
    "thresh_hold = df.shape[1] * .75\n",
    "\n",
    "# remove rows with high nulls\n",
    "df = df.dropna(axis=0,thresh=thresh_hold)"
   ]
  },
  {
   "cell_type": "markdown",
   "metadata": {},
   "source": [
    "# Removing Outliers "
   ]
  },
  {
   "cell_type": "code",
   "execution_count": null,
   "metadata": {},
   "outputs": [],
   "source": []
  },
  {
   "cell_type": "markdown",
   "metadata": {},
   "source": [
    "# Exploring leftover nulls to determine if dropping or imputing with mean, median, mode"
   ]
  },
  {
   "cell_type": "code",
   "execution_count": 7,
   "metadata": {
    "scrolled": true
   },
   "outputs": [
    {
     "data": {
      "text/plain": [
       "id                                 0\n",
       "parcelid                           0\n",
       "bathroomcnt                        0\n",
       "bedroomcnt                         0\n",
       "calculatedbathnbr                980\n",
       "calculatedfinishedsquarefeet     687\n",
       "fips                               0\n",
       "fullbathcnt                      980\n",
       "latitude                           0\n",
       "longitude                          0\n",
       "lotsizesquarefeet               5805\n",
       "propertycountylandusecode          0\n",
       "propertylandusetypeid              0\n",
       "rawcensustractandblock             0\n",
       "regionidcity                    1251\n",
       "regionidcounty                     0\n",
       "regionidzip                      161\n",
       "roomcnt                            0\n",
       "yearbuilt                        703\n",
       "structuretaxvaluedollarcnt       141\n",
       "taxvaluedollarcnt                  5\n",
       "assessmentyear                     0\n",
       "landtaxvaluedollarcnt            529\n",
       "taxamount                        103\n",
       "censustractandblock              622\n",
       "logerror                           0\n",
       "transactiondate                    0\n",
       "dtype: int64"
      ]
     },
     "execution_count": 7,
     "metadata": {},
     "output_type": "execute_result"
    }
   ],
   "source": [
    "df.isnull().sum()"
   ]
  },
  {
   "cell_type": "markdown",
   "metadata": {},
   "source": [
    "### Calculatedbathnbdr will be dealt with when creating features later\n",
    "### Fullbathcnt"
   ]
  },
  {
   "cell_type": "code",
   "execution_count": 9,
   "metadata": {},
   "outputs": [
    {
     "data": {
      "text/plain": [
       "2.0     34734\n",
       "3.0     15312\n",
       "1.0     13778\n",
       "4.0      2853\n",
       "5.0       955\n",
       "6.0       334\n",
       "7.0       128\n",
       "8.0        40\n",
       "9.0        26\n",
       "10.0        9\n",
       "11.0        4\n",
       "13.0        1\n",
       "19.0        1\n",
       "12.0        1\n",
       "20.0        1\n",
       "Name: fullbathcnt, dtype: int64"
      ]
     },
     "execution_count": 9,
     "metadata": {},
     "output_type": "execute_result"
    }
   ],
   "source": [
    "df.fullbathcnt.value_counts()"
   ]
  },
  {
   "cell_type": "markdown",
   "metadata": {},
   "source": [
    "- Fullbathcnt has 215 nulls\n",
    "- Most common value 2 has 35,694 observations\n",
    "- Will impute the nulls with this"
   ]
  },
  {
   "cell_type": "code",
   "execution_count": 10,
   "metadata": {},
   "outputs": [],
   "source": [
    "mode = df.fullbathcnt.mode()[0]\n",
    "\n",
    "df['fullbathcnt'] = df.fullbathcnt.fillna(mode)"
   ]
  },
  {
   "cell_type": "markdown",
   "metadata": {},
   "source": [
    "### Calculated Finished SQFT"
   ]
  },
  {
   "cell_type": "code",
   "execution_count": 13,
   "metadata": {},
   "outputs": [
    {
     "data": {
      "text/plain": [
       "1200.0     159\n",
       "1080.0     135\n",
       "1120.0     126\n",
       "960.0      125\n",
       "1040.0     124\n",
       "          ... \n",
       "5088.0       1\n",
       "10937.0      1\n",
       "6493.0       1\n",
       "4976.0       1\n",
       "7182.0       1\n",
       "Name: calculatedfinishedsquarefeet, Length: 4777, dtype: int64"
      ]
     },
     "execution_count": 13,
     "metadata": {},
     "output_type": "execute_result"
    }
   ],
   "source": [
    "df.calculatedfinishedsquarefeet.value_counts()"
   ]
  },
  {
   "cell_type": "markdown",
   "metadata": {},
   "source": [
    "- there are 687 null values for calculated finished sqft\n",
    "- the largest counts for sqft is 1200 at 159 observations\n",
    "- won't impute with the mode, but the average"
   ]
  },
  {
   "cell_type": "code",
   "execution_count": 17,
   "metadata": {},
   "outputs": [],
   "source": [
    "# calculate mean of column\n",
    "mean = df.calculatedfinishedsquarefeet.mean()\n",
    "\n",
    "# fill nulls in column with mean\n",
    "df['calculatedfinishedsquarefeet'] = df.calculatedfinishedsquarefeet.fillna(mean)"
   ]
  },
  {
   "cell_type": "markdown",
   "metadata": {},
   "source": [
    "### Full bath count"
   ]
  },
  {
   "cell_type": "code",
   "execution_count": 18,
   "metadata": {},
   "outputs": [
    {
     "data": {
      "text/plain": [
       "2.0     35714\n",
       "3.0     15312\n",
       "1.0     13778\n",
       "4.0      2853\n",
       "5.0       955\n",
       "6.0       334\n",
       "7.0       128\n",
       "8.0        40\n",
       "9.0        26\n",
       "10.0        9\n",
       "11.0        4\n",
       "13.0        1\n",
       "19.0        1\n",
       "12.0        1\n",
       "20.0        1\n",
       "Name: fullbathcnt, dtype: int64"
      ]
     },
     "execution_count": 18,
     "metadata": {},
     "output_type": "execute_result"
    }
   ],
   "source": [
    "df.fullbathcnt.value_counts()"
   ]
  },
  {
   "cell_type": "code",
   "execution_count": 19,
   "metadata": {},
   "outputs": [
    {
     "data": {
      "text/plain": [
       "2.1831629480746706"
      ]
     },
     "execution_count": 19,
     "metadata": {},
     "output_type": "execute_result"
    }
   ],
   "source": [
    "df.fullbathcnt.mean()"
   ]
  },
  {
   "cell_type": "markdown",
   "metadata": {},
   "source": [
    "- There are 980 nulls in this column\n",
    "- tha value of 2 has over 35,000 0bservations\n",
    "- Both the mode and mean are about 2\n",
    "- Will fill nulls with 2"
   ]
  },
  {
   "cell_type": "code",
   "execution_count": 21,
   "metadata": {},
   "outputs": [],
   "source": [
    "df['fullbathcnt'] = df.fullbathcnt.fillna(2)"
   ]
  },
  {
   "cell_type": "markdown",
   "metadata": {},
   "source": [
    "### lotsizesquarefeet"
   ]
  },
  {
   "cell_type": "code",
   "execution_count": 22,
   "metadata": {},
   "outputs": [
    {
     "data": {
      "text/plain": [
       "6000.0     1135\n",
       "5000.0      447\n",
       "7200.0      409\n",
       "7000.0      277\n",
       "6500.0      267\n",
       "           ... \n",
       "12867.0       1\n",
       "21799.0       1\n",
       "23519.0       1\n",
       "15285.0       1\n",
       "47132.0       1\n",
       "Name: lotsizesquarefeet, Length: 17940, dtype: int64"
      ]
     },
     "execution_count": 22,
     "metadata": {},
     "output_type": "execute_result"
    }
   ],
   "source": [
    "df.lotsizesquarefeet.value_counts()"
   ]
  },
  {
   "cell_type": "markdown",
   "metadata": {},
   "source": [
    "- There are over 5,000 nulls in this columns\n",
    "- Highest observations is only 1,135 counts\n",
    "- Will remove the column instead of imputing"
   ]
  },
  {
   "cell_type": "code",
   "execution_count": 25,
   "metadata": {},
   "outputs": [],
   "source": [
    "df = df.drop('lotsizesquarefeet', axis=1)"
   ]
  },
  {
   "cell_type": "markdown",
   "metadata": {},
   "source": [
    "### Region ID City\n",
    "- has 1,251 nulls\n",
    "- we already have latitude and longitude with no nulls for location\n",
    "- will drop this column"
   ]
  },
  {
   "cell_type": "code",
   "execution_count": 28,
   "metadata": {},
   "outputs": [],
   "source": [
    "df = df.drop('regionidcity',axis=1)"
   ]
  },
  {
   "cell_type": "markdown",
   "metadata": {},
   "source": [
    "### Region ID Zip\n",
    "- will replace nulls with 90000 to represent no known zip code (but not create outliers by using 0)\n",
    "- can use latitude/longitude or clustering if necessary to determine actual values\n",
    "- however, for only 161 nulls it is not a significant amount to worry about"
   ]
  },
  {
   "cell_type": "code",
   "execution_count": 29,
   "metadata": {},
   "outputs": [
    {
     "data": {
      "text/plain": [
       "97118.0    588\n",
       "96987.0    560\n",
       "96368.0    530\n",
       "96193.0    523\n",
       "97319.0    487\n",
       "          ... \n",
       "96039.0      6\n",
       "96329.0      5\n",
       "96226.0      3\n",
       "96467.0      1\n",
       "97177.0      1\n",
       "Name: regionidzip, Length: 386, dtype: int64"
      ]
     },
     "execution_count": 29,
     "metadata": {},
     "output_type": "execute_result"
    }
   ],
   "source": [
    "df.regionidzip.value_counts()"
   ]
  },
  {
   "cell_type": "code",
   "execution_count": 31,
   "metadata": {},
   "outputs": [],
   "source": [
    "df['regionidzip'] = df.regionidzip.fillna(90_000)"
   ]
  },
  {
   "cell_type": "markdown",
   "metadata": {},
   "source": [
    "### Year Built\n",
    "703 nulls"
   ]
  },
  {
   "cell_type": "code",
   "execution_count": 33,
   "metadata": {},
   "outputs": [
    {
     "data": {
      "text/plain": [
       "(1955.0    2182\n",
       " 1950.0    1856\n",
       " 1954.0    1849\n",
       " 1956.0    1715\n",
       " 1953.0    1600\n",
       "           ... \n",
       " 1891.0       1\n",
       " 1889.0       1\n",
       " 1886.0       1\n",
       " 1880.0       1\n",
       " 1862.0       1\n",
       " Name: yearbuilt, Length: 133, dtype: int64,\n",
       " 1965.5359657580273)"
      ]
     },
     "execution_count": 33,
     "metadata": {},
     "output_type": "execute_result"
    }
   ],
   "source": [
    "df.yearbuilt.value_counts(), df.yearbuilt.mean()"
   ]
  },
  {
   "cell_type": "markdown",
   "metadata": {},
   "source": [
    "### structuretaxvaluedollarcnt\n",
    "141 nulls"
   ]
  },
  {
   "cell_type": "code",
   "execution_count": 35,
   "metadata": {},
   "outputs": [
    {
     "data": {
      "text/plain": [
       "(100000.0    34\n",
       " 105000.0    32\n",
       " 88000.0     29\n",
       " 200000.0    29\n",
       " 104023.0    29\n",
       "             ..\n",
       " 302595.0     1\n",
       " 78443.0      1\n",
       " 867330.0     1\n",
       " 356352.0     1\n",
       " 5.0          1\n",
       " Name: structuretaxvaluedollarcnt, Length: 48602, dtype: int64,\n",
       " 176124.63272284687)"
      ]
     },
     "execution_count": 35,
     "metadata": {},
     "output_type": "execute_result"
    }
   ],
   "source": [
    "df.structuretaxvaluedollarcnt.value_counts(), df.structuretaxvaluedollarcnt.mean()"
   ]
  },
  {
   "cell_type": "markdown",
   "metadata": {},
   "source": [
    "### taxvaluedollarcnt\n",
    "5 nulls"
   ]
  },
  {
   "cell_type": "code",
   "execution_count": null,
   "metadata": {},
   "outputs": [],
   "source": []
  },
  {
   "cell_type": "markdown",
   "metadata": {},
   "source": [
    "### landtaxvaluedollarcnt\n",
    "529 nulls"
   ]
  },
  {
   "cell_type": "code",
   "execution_count": null,
   "metadata": {},
   "outputs": [],
   "source": []
  },
  {
   "cell_type": "markdown",
   "metadata": {},
   "source": [
    "### taxamount\n",
    "103 nulls"
   ]
  },
  {
   "cell_type": "code",
   "execution_count": null,
   "metadata": {},
   "outputs": [],
   "source": []
  },
  {
   "cell_type": "markdown",
   "metadata": {},
   "source": [
    "### censustractandblock\n",
    "622 nulls"
   ]
  },
  {
   "cell_type": "code",
   "execution_count": null,
   "metadata": {},
   "outputs": [],
   "source": []
  },
  {
   "cell_type": "markdown",
   "metadata": {},
   "source": [
    "# Create Features"
   ]
  },
  {
   "cell_type": "markdown",
   "metadata": {},
   "source": [
    "### calculate our own bath_bed\n",
    "- we have a column from the database, however it has 215 nulls\n",
    "- bathroom and bedroom count by themselves have no nulls\n",
    "- calculate our own and drop the original"
   ]
  },
  {
   "cell_type": "code",
   "execution_count": null,
   "metadata": {},
   "outputs": [],
   "source": [
    "df['bed_plus_bath'] = df.bathroomcnt + df.bedroomcnt\n",
    "df = df.drop('calculatedbathnbr',axis=1)"
   ]
  }
 ],
 "metadata": {
  "kernelspec": {
   "display_name": "Python 3",
   "language": "python",
   "name": "python3"
  },
  "language_info": {
   "codemirror_mode": {
    "name": "ipython",
    "version": 3
   },
   "file_extension": ".py",
   "mimetype": "text/x-python",
   "name": "python",
   "nbconvert_exporter": "python",
   "pygments_lexer": "ipython3",
   "version": "3.7.6"
  }
 },
 "nbformat": 4,
 "nbformat_minor": 4
}
