{
 "cells": [
  {
   "cell_type": "code",
   "execution_count": 2,
   "metadata": {},
   "outputs": [],
   "source": [
    "# Data is aquired from the company SQL Database, login credentials are required\n",
    "\n",
    "#################################### Function Imports ##############################################\n",
    "\n",
    "# OS allows us to check if the data is already stored on our computer\n",
    "import os\n",
    "# Pandas reads the data into the variable\n",
    "import pandas as pd\n",
    "# Holds login credentials for SQL Database in a seperate file not added to GitHub\n",
    "# env should only be stored locally on your computer\n",
    "# Add to your .gitignore file to ensure credentials not compromised by uploading online\n",
    "from env import host, username, password\n",
    "\n",
    "#################################### SQL Connection Function ##############################################\n",
    "\n",
    "# Function uses Login credentials to create a connection to the company SQL database\n",
    "# NOTE: BE SURE NOT TO ADD YOUR CREDENTIALS TO GITHUB WHEN RECREATING THE PROJECT\n",
    "def get_db_url(db_name):\n",
    "\n",
    "    '''\n",
    "    Connect to the SQL database with credentials stored in env file.\n",
    "    Function parameter is the name of the database to connect to.\n",
    "    Returns url.\n",
    "    '''\n",
    "    \n",
    "    # Creates the url and the function returns this url\n",
    "    url = f'mysql+pymysql://{username}:{password}@{host}/{db_name}'\n",
    "    return (url)\n",
    "\n",
    "#################################### Acquire Zillow Home Data ##############################################\n",
    "\n",
    "# Function connects to the SQL database to store the data in a variable which can be used throughout the project\n",
    "# Saves the data as a .csv file, returns as a pandas data frame\n",
    "def get_home_data():\n",
    "\n",
    "    '''\n",
    "    Connect to SQL Database with url function called within this function.\n",
    "    Checks if database is already saved to computer in csv file.\n",
    "    If no file found, saves to a csv file and assigns database to df variable.\n",
    "    If file found, just assigns database to df variable.\n",
    "    Returns df variable holding the  Home Value database.\n",
    "    '''\n",
    "    \n",
    "    # data_name allows the function to work no matter what a user might have saved their file name as\n",
    "    # First, we check if the data is already stored in the computer\n",
    "    # First conditional runs if the data is not already stored in the computer\n",
    "    if os.path.isfile('zillow_home.csv') == False:\n",
    "\n",
    "        # Querry selects the whole dataframe, joing each table on their foriegn keys\n",
    "        # We will have double columns on the foriegn keys because they are joined together\n",
    "        sql_querry = '''\n",
    "                        SELECT *\n",
    "                        FROM properties_2017\n",
    "                        ;\n",
    "                    '''\n",
    "\n",
    "        # Connecting to the data base and using the querry above to select the data\n",
    "        # the pandas read_sql function reads the query into a DataFrame\n",
    "        df = pd.read_sql(sql_querry, get_db_url('zillow'))\n",
    "\n",
    "        # We do not need the duplicate columns from the foriegn tables being joined\n",
    "        # df.columns.duplicated() returns a boolean array, True for a duplicate or False if it is unique up to that point\n",
    "        # Use ~ to flip the booleans and return the df as any columns that are not duplicated\n",
    "        # df.loc accesses a group of rows and columns by label(s) or a boolean array\n",
    "        df = df.loc[:,~df.columns.duplicated()]\n",
    "\n",
    "        # The pandas to_csv function writes the data frame to a csv file\n",
    "        # This allows data to be stored locally for quicker exploration and manipulation\n",
    "        df.to_csv('zillow_home.csv')\n",
    "\n",
    "    # This conditional runs if the data has already been saved as a csv (if the function has already been run on your computer)\n",
    "    else:\n",
    "        # Reads the csv saved from above, and assigns to the df variable\n",
    "        df = pd.read_csv('zillow_home.csv', index_col=0)\n",
    "\n",
    "    return df\n",
    "\n",
    "    # Code to remove duplicates of a df found at:\n",
    "    # https://www.interviewqs.com/ddi_code_snippets/remove_duplicate_cols\n",
    "    \n",
    "########################################### Get Location Home Data ####################################################\n",
    "def get_home_location():\n",
    "\n",
    "    '''\n",
    "    Connect to SQL Database with url function called within this function.\n",
    "    Checks if database is already saved to computer in csv file.\n",
    "    If no file found, saves to a csv file and assigns database to df variable.\n",
    "    If file found, just assigns database to df variable.\n",
    "    Returns df variable holding the  Home Value database.\n",
    "    '''\n",
    "    \n",
    "    # data_name allows the function to work no matter what a user might have saved their file name as\n",
    "    # First, we check if the data is already stored in the computer\n",
    "    # First conditional runs if the data is not already stored in the computer\n",
    "    if os.path.isfile('zillow_location.csv') == False:\n",
    "\n",
    "        # Querry selects the whole dataframe, joing each table on their foriegn keys\n",
    "        # We will have double columns on the foriegn keys because they are joined together\n",
    "        sql_querry = '''\n",
    "                        SELECT id as property_id, fips as county_id, latitude, longitude, taxamount, taxvaluedollarcnt \n",
    "                        FROM properties_2017\n",
    "                        WHERE fips is not null \n",
    "                        AND latitude is not null \n",
    "                        AND longitude is not null \n",
    "                        AND taxamount is not null \n",
    "                        AND taxvaluedollarcnt is not null;\n",
    "                    '''\n",
    "\n",
    "        # Connecting to the data base and using the querry above to select the data\n",
    "        # the pandas read_sql function reads the query into a DataFrame\n",
    "        df = pd.read_sql(sql_querry, get_db_url('zillow'))\n",
    "\n",
    "        # We do not need the duplicate columns from the foriegn tables being joined\n",
    "        # df.columns.duplicated() returns a boolean array, True for a duplicate or False if it is unique up to that point\n",
    "        # Use ~ to flip the booleans and return the df as any columns that are not duplicated\n",
    "        # df.loc accesses a group of rows and columns by label(s) or a boolean array\n",
    "        df = df.loc[:,~df.columns.duplicated()]\n",
    "\n",
    "        # The pandas to_csv function writes the data frame to a csv file\n",
    "        # This allows data to be stored locally for quicker exploration and manipulation\n",
    "        df.to_csv('zillow_location.csv')\n",
    "\n",
    "    # This conditional runs if the data has already been saved as a csv (if the function has already been run on your computer)\n",
    "    else:\n",
    "        # Reads the csv saved from above, and assigns to the df variable\n",
    "        df = pd.read_csv('zillow_location.csv', index_col=0)\n",
    "\n",
    "    return df\n",
    "\n",
    "    # Code to remove duplicates of a df found at:\n",
    "    # https://www.interviewqs.com/ddi_code_snippets/remove_duplicate_cols"
   ]
  },
  {
   "cell_type": "code",
   "execution_count": 2,
   "metadata": {},
   "outputs": [
    {
     "name": "stderr",
     "output_type": "stream",
     "text": [
      "/usr/local/anaconda3/lib/python3.7/site-packages/numpy/lib/arraysetops.py:569: FutureWarning: elementwise comparison failed; returning scalar instead, but in the future will perform elementwise comparison\n",
      "  mask |= (ar1 == a)\n"
     ]
    }
   ],
   "source": [
    "df = get_home_data()"
   ]
  },
  {
   "cell_type": "code",
   "execution_count": 3,
   "metadata": {},
   "outputs": [
    {
     "data": {
      "text/plain": [
       "id                                    0\n",
       "parcelid                              0\n",
       "airconditioningtypeid           2169855\n",
       "architecturalstyletypeid        2979156\n",
       "basementsqft                    2983590\n",
       "bathroomcnt                        2957\n",
       "bedroomcnt                         2945\n",
       "buildingclasstypeid             2972486\n",
       "buildingqualitytypeid           1043822\n",
       "calculatedbathnbr                117156\n",
       "decktypeid                      2967838\n",
       "finishedfloor1squarefeet        2781459\n",
       "calculatedfinishedsquarefeet      45097\n",
       "finishedsquarefeet12             264431\n",
       "finishedsquarefeet13            2977546\n",
       "finishedsquarefeet15            2795032\n",
       "finishedsquarefeet50            2781459\n",
       "finishedsquarefeet6             2963735\n",
       "fips                               2932\n",
       "fireplacecnt                    2672093\n",
       "fullbathcnt                      117156\n",
       "garagecarcnt                    2094209\n",
       "garagetotalsqft                 2094209\n",
       "hashottuborspa                  2935155\n",
       "heatingorsystemtypeid           1116053\n",
       "latitude                           2932\n",
       "longitude                          2932\n",
       "lotsizesquarefeet                272706\n",
       "poolcnt                         2445585\n",
       "poolsizesum                     2957259\n",
       "pooltypeid10                    2968211\n",
       "pooltypeid2                     2952161\n",
       "pooltypeid7                     2479322\n",
       "propertycountylandusecode          2999\n",
       "propertylandusetypeid              2932\n",
       "propertyzoningdesc              1002746\n",
       "rawcensustractandblock             2932\n",
       "regionidcity                      62128\n",
       "regionidcounty                     2932\n",
       "regionidneighborhood            1828476\n",
       "regionidzip                       12714\n",
       "roomcnt                            2969\n",
       "storytypeid                     2983594\n",
       "threequarterbathnbr             2668860\n",
       "typeconstructiontypeid          2978471\n",
       "unitcnt                         1004175\n",
       "yardbuildingsqft17              2903629\n",
       "yardbuildingsqft26              2982571\n",
       "yearbuilt                         47833\n",
       "numberofstories                 2299541\n",
       "fireplaceflag                   2980054\n",
       "structuretaxvaluedollarcnt        46464\n",
       "taxvaluedollarcnt                 34266\n",
       "assessmentyear                     2933\n",
       "landtaxvaluedollarcnt             59926\n",
       "taxamount                         22752\n",
       "taxdelinquencyflag              2928702\n",
       "taxdelinquencyyear              2928700\n",
       "censustractandblock               74985\n",
       "dtype: int64"
      ]
     },
     "execution_count": 3,
     "metadata": {},
     "output_type": "execute_result"
    }
   ],
   "source": [
    "df.isnull().sum()"
   ]
  },
  {
   "cell_type": "code",
   "execution_count": 9,
   "metadata": {},
   "outputs": [],
   "source": [
    "df_location = get_home_location()"
   ]
  },
  {
   "cell_type": "code",
   "execution_count": 10,
   "metadata": {},
   "outputs": [
    {
     "data": {
      "text/html": [
       "<div>\n",
       "<style scoped>\n",
       "    .dataframe tbody tr th:only-of-type {\n",
       "        vertical-align: middle;\n",
       "    }\n",
       "\n",
       "    .dataframe tbody tr th {\n",
       "        vertical-align: top;\n",
       "    }\n",
       "\n",
       "    .dataframe thead th {\n",
       "        text-align: right;\n",
       "    }\n",
       "</style>\n",
       "<table border=\"1\" class=\"dataframe\">\n",
       "  <thead>\n",
       "    <tr style=\"text-align: right;\">\n",
       "      <th></th>\n",
       "      <th>property_id</th>\n",
       "      <th>county_id</th>\n",
       "      <th>latitude</th>\n",
       "      <th>longitude</th>\n",
       "      <th>taxamount</th>\n",
       "      <th>taxvaluedollarcnt</th>\n",
       "    </tr>\n",
       "  </thead>\n",
       "  <tbody>\n",
       "    <tr>\n",
       "      <th>0</th>\n",
       "      <td>2</td>\n",
       "      <td>6037.0</td>\n",
       "      <td>33989359.0</td>\n",
       "      <td>-118394633.0</td>\n",
       "      <td>20800.37</td>\n",
       "      <td>1434941.0</td>\n",
       "    </tr>\n",
       "    <tr>\n",
       "      <th>1</th>\n",
       "      <td>3</td>\n",
       "      <td>6037.0</td>\n",
       "      <td>34148863.0</td>\n",
       "      <td>-118437206.0</td>\n",
       "      <td>14557.57</td>\n",
       "      <td>1174475.0</td>\n",
       "    </tr>\n",
       "    <tr>\n",
       "      <th>2</th>\n",
       "      <td>4</td>\n",
       "      <td>6037.0</td>\n",
       "      <td>34194168.0</td>\n",
       "      <td>-118385816.0</td>\n",
       "      <td>5725.17</td>\n",
       "      <td>440101.0</td>\n",
       "    </tr>\n",
       "    <tr>\n",
       "      <th>3</th>\n",
       "      <td>5</td>\n",
       "      <td>6037.0</td>\n",
       "      <td>34171873.0</td>\n",
       "      <td>-118380906.0</td>\n",
       "      <td>3661.28</td>\n",
       "      <td>287634.0</td>\n",
       "    </tr>\n",
       "    <tr>\n",
       "      <th>4</th>\n",
       "      <td>6</td>\n",
       "      <td>6037.0</td>\n",
       "      <td>34131929.0</td>\n",
       "      <td>-118351474.0</td>\n",
       "      <td>6773.34</td>\n",
       "      <td>563029.0</td>\n",
       "    </tr>\n",
       "  </tbody>\n",
       "</table>\n",
       "</div>"
      ],
      "text/plain": [
       "   property_id  county_id    latitude    longitude  taxamount  \\\n",
       "0            2     6037.0  33989359.0 -118394633.0   20800.37   \n",
       "1            3     6037.0  34148863.0 -118437206.0   14557.57   \n",
       "2            4     6037.0  34194168.0 -118385816.0    5725.17   \n",
       "3            5     6037.0  34171873.0 -118380906.0    3661.28   \n",
       "4            6     6037.0  34131929.0 -118351474.0    6773.34   \n",
       "\n",
       "   taxvaluedollarcnt  \n",
       "0          1434941.0  \n",
       "1          1174475.0  \n",
       "2           440101.0  \n",
       "3           287634.0  \n",
       "4           563029.0  "
      ]
     },
     "execution_count": 10,
     "metadata": {},
     "output_type": "execute_result"
    }
   ],
   "source": [
    "df_location.head()"
   ]
  },
  {
   "cell_type": "code",
   "execution_count": 11,
   "metadata": {},
   "outputs": [
    {
     "data": {
      "text/plain": [
       "property_id          0\n",
       "county_id            0\n",
       "latitude             0\n",
       "longitude            0\n",
       "taxamount            0\n",
       "taxvaluedollarcnt    0\n",
       "dtype: int64"
      ]
     },
     "execution_count": 11,
     "metadata": {},
     "output_type": "execute_result"
    }
   ],
   "source": [
    "df_location.isnull().sum()"
   ]
  },
  {
   "cell_type": "code",
   "execution_count": 3,
   "metadata": {},
   "outputs": [
    {
     "name": "stderr",
     "output_type": "stream",
     "text": [
      "/usr/local/anaconda3/lib/python3.7/site-packages/numpy/lib/arraysetops.py:569: FutureWarning: elementwise comparison failed; returning scalar instead, but in the future will perform elementwise comparison\n",
      "  mask |= (ar1 == a)\n"
     ]
    }
   ],
   "source": [
    "df = get_home_data()"
   ]
  },
  {
   "cell_type": "code",
   "execution_count": 7,
   "metadata": {},
   "outputs": [
    {
     "data": {
      "text/plain": [
       "1.0     426779\n",
       "2.0     243078\n",
       "3.0      15721\n",
       "4.0         69\n",
       "5.0         18\n",
       "6.0          4\n",
       "7.0          2\n",
       "41.0         1\n",
       "20.0         1\n",
       "17.0         1\n",
       "14.0         1\n",
       "8.0          1\n",
       "Name: numberofstories, dtype: int64"
      ]
     },
     "execution_count": 7,
     "metadata": {},
     "output_type": "execute_result"
    }
   ],
   "source": [
    "df.numberofstories.value_counts()"
   ]
  }
 ],
 "metadata": {
  "kernelspec": {
   "display_name": "Python 3",
   "language": "python",
   "name": "python3"
  },
  "language_info": {
   "codemirror_mode": {
    "name": "ipython",
    "version": 3
   },
   "file_extension": ".py",
   "mimetype": "text/x-python",
   "name": "python",
   "nbconvert_exporter": "python",
   "pygments_lexer": "ipython3",
   "version": "3.7.6"
  }
 },
 "nbformat": 4,
 "nbformat_minor": 4
}
